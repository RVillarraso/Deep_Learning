{
 "cells": [
  {
   "cell_type": "raw",
   "metadata": {},
   "source": [
    "Entreno de un ConvNet VGG19 preentrenado con Imagenet y\n",
    "entrenando conjunto de datos pequeño\n",
    "Conjunto de datos de 4 clases\n",
    "Utilizaremos un conjunto de datos reducido:\n",
    "- Conjunto de entrenamiento: 1.000 muestras x clase \n",
    "- Conjunto de validación: 300 muestras x clase\n",
    "- Conjunto de test: 300 muestras x clase\n",
    "El conjunto de datos: balanced_dataset\n",
    "contiene tres carpetas, train, validation y test, cada una con 4 clases"
   ]
  },
  {
   "cell_type": "code",
   "execution_count": 1,
   "metadata": {},
   "outputs": [
    {
     "name": "stderr",
     "output_type": "stream",
     "text": [
      "/usr/local/lib/python3.5/dist-packages/h5py/__init__.py:36: FutureWarning: Conversion of the second argument of issubdtype from `float` to `np.floating` is deprecated. In future, it will be treated as `np.float64 == np.dtype(float).type`.\n",
      "  from ._conv import register_converters as _register_converters\n",
      "Using TensorFlow backend.\n"
     ]
    }
   ],
   "source": [
    "from  keras.preprocessing.image  import ImageDataGenerator, img_to_array, load_img \n",
    "from  keras.models  import Sequential\n",
    "from  keras.layers  import Dropout,  Flatten,  Dense\n",
    "from  keras.applications.vgg19 import  preprocess_input,  VGG19 \n",
    "from keras.optimizers import RMSprop\n",
    "from  keras.utils.np_utils import to_categorical \n",
    "import time\n",
    "import os\n",
    "import numpy as np \n",
    "import math\n",
    "import  matplotlib.pyplot  as  plt\n",
    "\n",
    "img_width = 224\n",
    "img_height = 224\n",
    "batch_size = 64 \n",
    "epochs = 80\n",
    "nb_train = 4000\n",
    "nb_validation = 1200\n",
    "nb_test = 1200\n",
    "nb_classes = 4\n",
    "\n",
    "PATH_TO_FE = \"VGG\" \n",
    "train_dir  =  \"balanced_dataset/train\"\n",
    "validation_dir = \"balanced_dataset/validation\" \n",
    "test_dir  =  \"balanced_dataset/test\" \n"
   ]
  },
  {
   "cell_type": "code",
   "execution_count": 2,
   "metadata": {
    "collapsed": true
   },
   "outputs": [],
   "source": [
    "#Load Pretrained model\n",
    "model = VGG19(include_top=False,  weights='imagenet') "
   ]
  },
  {
   "cell_type": "code",
   "execution_count": 3,
   "metadata": {},
   "outputs": [
    {
     "name": "stdout",
     "output_type": "stream",
     "text": [
      "Found 4000 images belonging to 4 classes.\n",
      "Found 1200 images belonging to 4 classes.\n",
      "Found 1200 images belonging to 4 classes.\n"
     ]
    }
   ],
   "source": [
    "#PREPROCESSING + FEATURE EXTRACTION\n",
    "\n",
    "datagen  =  ImageDataGenerator(rescale=1. / 255)\n",
    "\n",
    "train_generator = datagen.flow_from_directory( \n",
    "    train_dir,\n",
    "    target_size = (img_width, img_height), \n",
    "    batch_size = batch_size,\n",
    "    class_mode  =  None,  \n",
    "    shuffle = False, \n",
    "    interpolation  =  'lanczos')\n",
    "\n",
    "validation_generator = datagen.flow_from_directory( \n",
    "    validation_dir, \n",
    "    target_size=(img_width, img_height), \n",
    "    batch_size=batch_size, \n",
    "    class_mode=None,\n",
    "    shuffle=False, \n",
    "    interpolation  =  'lanczos')\n",
    "\n",
    "test_generator = datagen.flow_from_directory(\n",
    "    test_dir,\n",
    "    target_size = (img_width, img_height),\n",
    "    batch_size = batch_size,\n",
    "    class_mode = None,\n",
    "    shuffle=False, \n",
    "    interpolation  =  'lanczos')\n",
    "\n",
    "###########Feature Extraction (FE)#########################\n",
    "#Train\n",
    "max_size_train = int(math.ceil(nb_train / batch_size)) \n",
    "train_features = model.predict_generator(train_generator, max_size_train)\n",
    "np.save('VGG/VGG19_FE_train_1.npy',  train_features)\n",
    "#Validation\n",
    "max_size_validation = int(math.ceil(nb_validation / batch_size)) \n",
    "validation_features  =  model.predict_generator(validation_generator,  max_size_validation) \n",
    "np.save('VGG/VGG19_FE_validation_1.npy',  validation_features)\n",
    "#Test\n",
    "max_size_test = int(math.ceil(nb_test / batch_size)) \n",
    "test_features  =  model.predict_generator(test_generator,  max_size_test)\n",
    "\n",
    "#Labels Extraction\n",
    "train_labels  =  train_generator.classes  \n",
    "train_labels = to_categorical(train_labels, num_classes=nb_classes) \n",
    "validation_labels  =  validation_generator.classes  \n",
    "validation_labels  =  to_categorical(validation_labels,  num_classes=nb_classes) \n",
    "test_labels  =  test_generator.classes  \n",
    "test_labels  =  to_categorical(test_labels,  num_classes=nb_classes) \n",
    "\n",
    "#Save Features\n",
    "train_data = np.load('VGG/VGG19_FE_train_1.npy') \n",
    "validation_data  =  np.load('VGG/VGG19_FE_validation_1.npy')\n"
   ]
  },
  {
   "cell_type": "code",
   "execution_count": 4,
   "metadata": {
    "collapsed": true
   },
   "outputs": [],
   "source": [
    "#Top Model Classificator\n",
    "model = Sequential() \n",
    "model.add(Flatten(input_shape=train_data.shape[1:]))\n",
    "model.add(Dense(256,  activation='relu')) \n",
    "model.add(Dropout(0.5))\n",
    "model.add(Dense(nb_classes,  activation='softmax'))\n"
   ]
  },
  {
   "cell_type": "code",
   "execution_count": 5,
   "metadata": {
    "collapsed": true
   },
   "outputs": [],
   "source": [
    "#Compile models\n",
    "model.compile(\n",
    "    optimizer = RMSprop(lr=2e-5),\n",
    "    loss='categorical_crossentropy',  \n",
    "    metrics=['accuracy'])\n"
   ]
  },
  {
   "cell_type": "code",
   "execution_count": 6,
   "metadata": {},
   "outputs": [
    {
     "name": "stdout",
     "output_type": "stream",
     "text": [
      "Train on 4000 samples, validate on 1200 samples\n",
      "Epoch 1/80\n",
      "4000/4000 [==============================] - 1s 243us/step - loss: 1.3044 - acc: 0.4020 - val_loss: 1.0828 - val_acc: 0.5608\n",
      "Epoch 2/80\n",
      "4000/4000 [==============================] - 1s 148us/step - loss: 1.0595 - acc: 0.5485 - val_loss: 0.9776 - val_acc: 0.5908\n",
      "Epoch 3/80\n",
      "4000/4000 [==============================] - 1s 153us/step - loss: 0.9589 - acc: 0.5962 - val_loss: 0.9162 - val_acc: 0.6283\n",
      "Epoch 4/80\n",
      "4000/4000 [==============================] - 1s 170us/step - loss: 0.8960 - acc: 0.6332 - val_loss: 0.8728 - val_acc: 0.6483\n",
      "Epoch 5/80\n",
      "4000/4000 [==============================] - 1s 155us/step - loss: 0.8389 - acc: 0.6715 - val_loss: 0.8499 - val_acc: 0.6558\n",
      "Epoch 6/80\n",
      "4000/4000 [==============================] - 1s 155us/step - loss: 0.7885 - acc: 0.6857 - val_loss: 0.7907 - val_acc: 0.6733\n",
      "Epoch 7/80\n",
      "4000/4000 [==============================] - 1s 166us/step - loss: 0.7558 - acc: 0.7020 - val_loss: 0.8024 - val_acc: 0.6708\n",
      "Epoch 8/80\n",
      "4000/4000 [==============================] - 1s 144us/step - loss: 0.7225 - acc: 0.7248 - val_loss: 0.7725 - val_acc: 0.6858\n",
      "Epoch 9/80\n",
      "4000/4000 [==============================] - 1s 148us/step - loss: 0.6970 - acc: 0.7368 - val_loss: 0.7379 - val_acc: 0.7050\n",
      "Epoch 10/80\n",
      "4000/4000 [==============================] - 1s 165us/step - loss: 0.6726 - acc: 0.7422 - val_loss: 0.7461 - val_acc: 0.6950\n",
      "Epoch 11/80\n",
      "4000/4000 [==============================] - 1s 169us/step - loss: 0.6538 - acc: 0.7580 - val_loss: 0.6938 - val_acc: 0.7217\n",
      "Epoch 12/80\n",
      "4000/4000 [==============================] - 1s 149us/step - loss: 0.6254 - acc: 0.7730 - val_loss: 0.6939 - val_acc: 0.7233\n",
      "Epoch 13/80\n",
      "4000/4000 [==============================] - 1s 174us/step - loss: 0.6010 - acc: 0.7857 - val_loss: 0.6735 - val_acc: 0.7383\n",
      "Epoch 14/80\n",
      "4000/4000 [==============================] - 1s 166us/step - loss: 0.5855 - acc: 0.7850 - val_loss: 0.7207 - val_acc: 0.6975\n",
      "Epoch 15/80\n",
      "4000/4000 [==============================] - 1s 140us/step - loss: 0.5614 - acc: 0.7955 - val_loss: 0.6622 - val_acc: 0.7392\n",
      "Epoch 16/80\n",
      "4000/4000 [==============================] - 1s 150us/step - loss: 0.5498 - acc: 0.7987 - val_loss: 0.6309 - val_acc: 0.7517\n",
      "Epoch 17/80\n",
      "4000/4000 [==============================] - 1s 158us/step - loss: 0.5362 - acc: 0.8115 - val_loss: 0.6332 - val_acc: 0.7533\n",
      "Epoch 18/80\n",
      "4000/4000 [==============================] - 1s 164us/step - loss: 0.5221 - acc: 0.8160 - val_loss: 0.6223 - val_acc: 0.7567\n",
      "Epoch 19/80\n",
      "4000/4000 [==============================] - 1s 157us/step - loss: 0.5004 - acc: 0.8235 - val_loss: 0.6105 - val_acc: 0.7533\n",
      "Epoch 20/80\n",
      "4000/4000 [==============================] - 1s 158us/step - loss: 0.4931 - acc: 0.8282 - val_loss: 0.6238 - val_acc: 0.7617\n",
      "Epoch 21/80\n",
      "4000/4000 [==============================] - 1s 164us/step - loss: 0.4822 - acc: 0.8275 - val_loss: 0.6004 - val_acc: 0.7708\n",
      "Epoch 22/80\n",
      "4000/4000 [==============================] - 1s 161us/step - loss: 0.4716 - acc: 0.8347 - val_loss: 0.6308 - val_acc: 0.7517\n",
      "Epoch 23/80\n",
      "4000/4000 [==============================] - 1s 163us/step - loss: 0.4546 - acc: 0.8482 - val_loss: 0.6039 - val_acc: 0.7550\n",
      "Epoch 24/80\n",
      "4000/4000 [==============================] - 1s 168us/step - loss: 0.4389 - acc: 0.8488 - val_loss: 0.5919 - val_acc: 0.7492\n",
      "Epoch 25/80\n",
      "4000/4000 [==============================] - 1s 159us/step - loss: 0.4340 - acc: 0.8503 - val_loss: 0.5857 - val_acc: 0.7750\n",
      "Epoch 26/80\n",
      "4000/4000 [==============================] - 1s 151us/step - loss: 0.4224 - acc: 0.8615 - val_loss: 0.6138 - val_acc: 0.7475\n",
      "Epoch 27/80\n",
      "4000/4000 [==============================] - 1s 158us/step - loss: 0.4127 - acc: 0.8615 - val_loss: 0.6065 - val_acc: 0.7542\n",
      "Epoch 28/80\n",
      "4000/4000 [==============================] - 1s 163us/step - loss: 0.4037 - acc: 0.8760 - val_loss: 0.5684 - val_acc: 0.7817\n",
      "Epoch 29/80\n",
      "4000/4000 [==============================] - 1s 141us/step - loss: 0.3868 - acc: 0.8762 - val_loss: 0.5540 - val_acc: 0.7775\n",
      "Epoch 30/80\n",
      "4000/4000 [==============================] - 1s 142us/step - loss: 0.3808 - acc: 0.8725 - val_loss: 0.5664 - val_acc: 0.7850\n",
      "Epoch 31/80\n",
      "4000/4000 [==============================] - 1s 172us/step - loss: 0.3749 - acc: 0.8775 - val_loss: 0.5636 - val_acc: 0.7808\n",
      "Epoch 32/80\n",
      "4000/4000 [==============================] - 1s 149us/step - loss: 0.3675 - acc: 0.8810 - val_loss: 0.5540 - val_acc: 0.7917\n",
      "Epoch 33/80\n",
      "4000/4000 [==============================] - 1s 138us/step - loss: 0.3604 - acc: 0.8880 - val_loss: 0.5551 - val_acc: 0.7725\n",
      "Epoch 34/80\n",
      "4000/4000 [==============================] - 1s 149us/step - loss: 0.3462 - acc: 0.8907 - val_loss: 0.5484 - val_acc: 0.7775\n",
      "Epoch 35/80\n",
      "4000/4000 [==============================] - 1s 151us/step - loss: 0.3419 - acc: 0.8965 - val_loss: 0.5526 - val_acc: 0.7867\n",
      "Epoch 36/80\n",
      "4000/4000 [==============================] - 1s 149us/step - loss: 0.3354 - acc: 0.8960 - val_loss: 0.5471 - val_acc: 0.7808\n",
      "Epoch 37/80\n",
      "4000/4000 [==============================] - 1s 154us/step - loss: 0.3209 - acc: 0.9065 - val_loss: 0.5490 - val_acc: 0.7783\n",
      "Epoch 38/80\n",
      "4000/4000 [==============================] - 1s 155us/step - loss: 0.3192 - acc: 0.9050 - val_loss: 0.5370 - val_acc: 0.7808\n",
      "Epoch 39/80\n",
      "4000/4000 [==============================] - 1s 154us/step - loss: 0.3058 - acc: 0.9070 - val_loss: 0.5238 - val_acc: 0.7950\n",
      "Epoch 40/80\n",
      "4000/4000 [==============================] - 1s 132us/step - loss: 0.3017 - acc: 0.9098 - val_loss: 0.5564 - val_acc: 0.7708\n",
      "Epoch 41/80\n",
      "4000/4000 [==============================] - 1s 162us/step - loss: 0.3013 - acc: 0.9113 - val_loss: 0.5309 - val_acc: 0.7900\n",
      "Epoch 42/80\n",
      "4000/4000 [==============================] - 1s 166us/step - loss: 0.2870 - acc: 0.9147 - val_loss: 0.5261 - val_acc: 0.7867\n",
      "Epoch 43/80\n",
      "4000/4000 [==============================] - 1s 162us/step - loss: 0.2844 - acc: 0.9177 - val_loss: 0.5286 - val_acc: 0.7850\n",
      "Epoch 44/80\n",
      "4000/4000 [==============================] - 1s 167us/step - loss: 0.2795 - acc: 0.9215 - val_loss: 0.5486 - val_acc: 0.7733\n",
      "Epoch 45/80\n",
      "4000/4000 [==============================] - 1s 163us/step - loss: 0.2750 - acc: 0.9185 - val_loss: 0.5139 - val_acc: 0.7933\n",
      "Epoch 46/80\n",
      "4000/4000 [==============================] - 1s 165us/step - loss: 0.2664 - acc: 0.9245 - val_loss: 0.5198 - val_acc: 0.7992\n",
      "Epoch 47/80\n",
      "4000/4000 [==============================] - 1s 141us/step - loss: 0.2593 - acc: 0.9265 - val_loss: 0.5196 - val_acc: 0.8008\n",
      "Epoch 48/80\n",
      "4000/4000 [==============================] - 1s 152us/step - loss: 0.2525 - acc: 0.9305 - val_loss: 0.5465 - val_acc: 0.7758\n",
      "Epoch 49/80\n",
      "4000/4000 [==============================] - 1s 158us/step - loss: 0.2512 - acc: 0.9300 - val_loss: 0.5216 - val_acc: 0.7867\n",
      "Epoch 50/80\n",
      "4000/4000 [==============================] - 1s 146us/step - loss: 0.2451 - acc: 0.9323 - val_loss: 0.5278 - val_acc: 0.7892\n",
      "Epoch 51/80\n",
      "4000/4000 [==============================] - 1s 134us/step - loss: 0.2393 - acc: 0.9333 - val_loss: 0.5298 - val_acc: 0.7792\n",
      "Epoch 52/80\n",
      "4000/4000 [==============================] - 1s 159us/step - loss: 0.2300 - acc: 0.9363 - val_loss: 0.5088 - val_acc: 0.8058\n",
      "Epoch 53/80\n",
      "4000/4000 [==============================] - 1s 165us/step - loss: 0.2267 - acc: 0.9382 - val_loss: 0.5270 - val_acc: 0.7800\n",
      "Epoch 54/80\n",
      "4000/4000 [==============================] - 1s 153us/step - loss: 0.2218 - acc: 0.9405 - val_loss: 0.5393 - val_acc: 0.7967\n",
      "Epoch 55/80\n",
      "4000/4000 [==============================] - 1s 151us/step - loss: 0.2242 - acc: 0.9373 - val_loss: 0.5689 - val_acc: 0.7717\n",
      "Epoch 56/80\n",
      "4000/4000 [==============================] - 1s 147us/step - loss: 0.2185 - acc: 0.9415 - val_loss: 0.5133 - val_acc: 0.8058\n",
      "Epoch 57/80\n",
      "4000/4000 [==============================] - 1s 156us/step - loss: 0.2094 - acc: 0.9427 - val_loss: 0.5097 - val_acc: 0.8058\n",
      "Epoch 58/80\n",
      "4000/4000 [==============================] - 1s 150us/step - loss: 0.2037 - acc: 0.9500 - val_loss: 0.4991 - val_acc: 0.8100\n",
      "Epoch 59/80\n",
      "4000/4000 [==============================] - 1s 165us/step - loss: 0.2027 - acc: 0.9472 - val_loss: 0.5097 - val_acc: 0.7992\n",
      "Epoch 60/80\n",
      "4000/4000 [==============================] - 1s 166us/step - loss: 0.1959 - acc: 0.9543 - val_loss: 0.4987 - val_acc: 0.8008\n",
      "Epoch 61/80\n",
      "4000/4000 [==============================] - 1s 133us/step - loss: 0.1934 - acc: 0.9517 - val_loss: 0.5143 - val_acc: 0.7967\n",
      "Epoch 62/80\n",
      "4000/4000 [==============================] - 1s 132us/step - loss: 0.1857 - acc: 0.9550 - val_loss: 0.5266 - val_acc: 0.7917\n",
      "Epoch 63/80\n",
      "4000/4000 [==============================] - 1s 158us/step - loss: 0.1909 - acc: 0.9507 - val_loss: 0.5283 - val_acc: 0.7825\n",
      "Epoch 64/80\n",
      "4000/4000 [==============================] - 1s 168us/step - loss: 0.1744 - acc: 0.9617 - val_loss: 0.5391 - val_acc: 0.7833\n",
      "Epoch 65/80\n",
      "4000/4000 [==============================] - 1s 147us/step - loss: 0.1818 - acc: 0.9575 - val_loss: 0.5094 - val_acc: 0.8117\n",
      "Epoch 66/80\n",
      "4000/4000 [==============================] - 1s 145us/step - loss: 0.1721 - acc: 0.9620 - val_loss: 0.5326 - val_acc: 0.8083\n",
      "Epoch 67/80\n",
      "4000/4000 [==============================] - 1s 149us/step - loss: 0.1746 - acc: 0.9597 - val_loss: 0.5058 - val_acc: 0.7967\n",
      "Epoch 68/80\n",
      "4000/4000 [==============================] - 1s 155us/step - loss: 0.1644 - acc: 0.9622 - val_loss: 0.5078 - val_acc: 0.7942\n",
      "Epoch 69/80\n",
      "4000/4000 [==============================] - 1s 152us/step - loss: 0.1574 - acc: 0.9680 - val_loss: 0.5053 - val_acc: 0.7950\n",
      "Epoch 70/80\n",
      "4000/4000 [==============================] - 1s 158us/step - loss: 0.1664 - acc: 0.9620 - val_loss: 0.4986 - val_acc: 0.8000\n",
      "Epoch 71/80\n",
      "4000/4000 [==============================] - 1s 151us/step - loss: 0.1530 - acc: 0.9675 - val_loss: 0.5049 - val_acc: 0.7908\n",
      "Epoch 72/80\n",
      "4000/4000 [==============================] - 1s 137us/step - loss: 0.1519 - acc: 0.9670 - val_loss: 0.5476 - val_acc: 0.7833\n",
      "Epoch 73/80\n",
      "4000/4000 [==============================] - 1s 146us/step - loss: 0.1501 - acc: 0.9705 - val_loss: 0.5732 - val_acc: 0.7725\n",
      "Epoch 74/80\n",
      "4000/4000 [==============================] - 1s 152us/step - loss: 0.1453 - acc: 0.9667 - val_loss: 0.5371 - val_acc: 0.8008\n",
      "Epoch 75/80\n",
      "4000/4000 [==============================] - 1s 161us/step - loss: 0.1412 - acc: 0.9730 - val_loss: 0.5101 - val_acc: 0.7950\n",
      "Epoch 76/80\n",
      "4000/4000 [==============================] - 1s 142us/step - loss: 0.1435 - acc: 0.9655 - val_loss: 0.5212 - val_acc: 0.7900\n",
      "Epoch 77/80\n",
      "4000/4000 [==============================] - 1s 152us/step - loss: 0.1332 - acc: 0.9745 - val_loss: 0.5124 - val_acc: 0.7933\n",
      "Epoch 78/80\n",
      "4000/4000 [==============================] - 1s 165us/step - loss: 0.1336 - acc: 0.9742 - val_loss: 0.5338 - val_acc: 0.7800\n",
      "Epoch 79/80\n",
      "4000/4000 [==============================] - 1s 152us/step - loss: 0.1349 - acc: 0.9695 - val_loss: 0.5228 - val_acc: 0.7875\n",
      "Epoch 80/80\n",
      "4000/4000 [==============================] - 1s 146us/step - loss: 0.1280 - acc: 0.9772 - val_loss: 0.5425 - val_acc: 0.7900\n"
     ]
    }
   ],
   "source": [
    "#Train model\n",
    "epochs = 80\n",
    "history = model.fit(\n",
    "    train_data, \n",
    "    train_labels,\n",
    "    epochs=epochs,  \n",
    "    batch_size=batch_size, \n",
    "    validation_data=(validation_data, validation_labels))\n"
   ]
  },
  {
   "cell_type": "code",
   "execution_count": 7,
   "metadata": {
    "collapsed": true
   },
   "outputs": [],
   "source": [
    "# h5py \n",
    "model.save_weights('VGG/VGG19_FE_model_1.h5')\n"
   ]
  },
  {
   "cell_type": "code",
   "execution_count": 8,
   "metadata": {
    "collapsed": true
   },
   "outputs": [],
   "source": [
    "def print_graphics (history):\n",
    "    #Mostramos otro tipo de grafico\n",
    "    acc = history.history['acc']\n",
    "    val_acc = history.history['val_acc']\n",
    "    loss = history.history['loss']\n",
    "    val_loss = history.history['val_loss']\n",
    "\n",
    "    epochs = range(1, len(acc)+ 1)\n",
    "\n",
    "    plt.plot(epochs, acc, 'bo', label='Training acc')\n",
    "    plt.plot(epochs, val_acc, 'b', label='Validation acc')\n",
    "    #plt.tittle('Trainning and validation accuracy')\n",
    "    plt.legend()\n",
    "\n",
    "    plt.figure()\n",
    "    plt.plot(epochs, loss, 'bo', label='Training loss')\n",
    "    plt.plot(epochs, val_loss, 'b', label='Validation loss')\n",
    "    #plt.tittle('Trainning and validation loss')\n",
    "    plt.legend()\n",
    "\n",
    "    plt.show()"
   ]
  },
  {
   "cell_type": "code",
   "execution_count": 9,
   "metadata": {
    "collapsed": true
   },
   "outputs": [],
   "source": [
    "def print_evaluate_model(model, history):\n",
    "    #Evaluate model\n",
    "    (loss, acc) = model.evaluate(\n",
    "        test_features, test_labels, \n",
    "        batch_size=batch_size, \n",
    "        verbose=0)\n",
    "\n",
    "    print(\"acc: {0:.2f}% - loss: {1:f}\".format(acc * 100, loss))"
   ]
  },
  {
   "cell_type": "code",
   "execution_count": 10,
   "metadata": {},
   "outputs": [
    {
     "name": "stdout",
     "output_type": "stream",
     "text": [
      "acc: 76.67% - loss: 0.598405\n"
     ]
    }
   ],
   "source": [
    "print_evaluate_model(model, history)"
   ]
  },
  {
   "cell_type": "code",
   "execution_count": 11,
   "metadata": {},
   "outputs": [
    {
     "data": {
      "image/png": "[encoded data removed]",
      "text/plain": [
       "<matplotlib.figure.Figure at 0x7f1a98f04e10>"
      ]
     },
     "metadata": {},
     "output_type": "display_data"
    },
    {
     "data": {
      "image/png": "[encoded data removed]",
      "text/plain": [
       "<matplotlib.figure.Figure at 0x7f1a98ee01d0>"
      ]
     },
     "metadata": {},
     "output_type": "display_data"
    }
   ],
   "source": [
    "print_graphics (history)"
   ]
  },
  {
   "cell_type": "code",
   "execution_count": null,
   "metadata": {
    "collapsed": true
   },
   "outputs": [],
   "source": []
  }
 ],
 "metadata": {
  "kernelspec": {
   "display_name": "Python 3",
   "language": "python",
   "name": "python3"
  },
  "language_info": {
   "codemirror_mode": {
    "name": "ipython",
    "version": 3
   },
   "file_extension": ".py",
   "mimetype": "text/x-python",
   "name": "python",
   "nbconvert_exporter": "python",
   "pygments_lexer": "ipython3",
   "version": "3.6.3"
  }
 },
 "nbformat": 4,
 "nbformat_minor": 2
}
