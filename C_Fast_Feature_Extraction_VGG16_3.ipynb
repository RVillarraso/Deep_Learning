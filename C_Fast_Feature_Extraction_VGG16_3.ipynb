{
 "cells": [
  {
   "cell_type": "raw",
   "metadata": {
    "collapsed": true
   },
   "source": [
    "Entreno de un ConvNet VGG16 preentrenado con Imagenet y\n",
    "entrenando conjunto de datos pequeño\n",
    "Conjunto de datos de 4 clases\n",
    "Utilizaremos un conjunto de datos reducido:\n",
    "- Conjunto de entrenamiento: 1.000 muestras x clase \n",
    "- Conjunto de validación: 300 muestras x clase\n",
    "- Conjunto de test: 300 muestras x clase\n",
    "El conjunto de datos: balanced_dataset\n",
    "contiene tres carpetas, train, validation y test, cada una con 4 clases"
   ]
  },
  {
   "cell_type": "code",
   "execution_count": 1,
   "metadata": {
    "collapsed": true
   },
   "outputs": [],
   "source": [
    "import os, shutil\n",
    "from os import walk, getcwd"
   ]
  },
  {
   "cell_type": "code",
   "execution_count": 2,
   "metadata": {
    "collapsed": true
   },
   "outputs": [],
   "source": [
    "# Retorna todos los archivos de un directorio dado\n",
    "def ls(ruta):  \n",
    "    return next(walk(ruta))[2]\n",
    "\n",
    "height_image = 224\n",
    "width_image = 224\n",
    "channels_image = 3\n",
    "nb_clases = 4\n",
    "batch_size = 64\n",
    "class_mode = 'categorical'\n",
    "nb_train = 4000        # 1000 x 4 clases\n",
    "nb_validation = 1200   #  300 x 4 clases\n",
    "nb_test = 1200\n",
    "\n",
    "base_dir = 'balanced_dataset'\n",
    "train_dir = os.path.join(base_dir, 'train')\n",
    "validation_dir = os.path.join(base_dir, 'validation')\n",
    "test_dir = os.path.join(base_dir, 'test')"
   ]
  },
  {
   "cell_type": "code",
   "execution_count": 3,
   "metadata": {},
   "outputs": [
    {
     "name": "stderr",
     "output_type": "stream",
     "text": [
      "/usr/local/lib/python3.5/dist-packages/h5py/__init__.py:36: FutureWarning: Conversion of the second argument of issubdtype from `float` to `np.floating` is deprecated. In future, it will be treated as `np.float64 == np.dtype(float).type`.\n",
      "  from ._conv import register_converters as _register_converters\n",
      "Using TensorFlow backend.\n"
     ]
    }
   ],
   "source": [
    "from keras.applications import VGG16\n",
    "conv_base = VGG16(weights = 'imagenet', \n",
    "                  include_top = False, \n",
    "                  input_shape = (width_image, height_image, channels_image))"
   ]
  },
  {
   "cell_type": "code",
   "execution_count": 4,
   "metadata": {},
   "outputs": [
    {
     "name": "stdout",
     "output_type": "stream",
     "text": [
      "_________________________________________________________________\n",
      "Layer (type)                 Output Shape              Param #   \n",
      "=================================================================\n",
      "input_1 (InputLayer)         (None, 224, 224, 3)       0         \n",
      "_________________________________________________________________\n",
      "block1_conv1 (Conv2D)        (None, 224, 224, 64)      1792      \n",
      "_________________________________________________________________\n",
      "block1_conv2 (Conv2D)        (None, 224, 224, 64)      36928     \n",
      "_________________________________________________________________\n",
      "block1_pool (MaxPooling2D)   (None, 112, 112, 64)      0         \n",
      "_________________________________________________________________\n",
      "block2_conv1 (Conv2D)        (None, 112, 112, 128)     73856     \n",
      "_________________________________________________________________\n",
      "block2_conv2 (Conv2D)        (None, 112, 112, 128)     147584    \n",
      "_________________________________________________________________\n",
      "block2_pool (MaxPooling2D)   (None, 56, 56, 128)       0         \n",
      "_________________________________________________________________\n",
      "block3_conv1 (Conv2D)        (None, 56, 56, 256)       295168    \n",
      "_________________________________________________________________\n",
      "block3_conv2 (Conv2D)        (None, 56, 56, 256)       590080    \n",
      "_________________________________________________________________\n",
      "block3_conv3 (Conv2D)        (None, 56, 56, 256)       590080    \n",
      "_________________________________________________________________\n",
      "block3_pool (MaxPooling2D)   (None, 28, 28, 256)       0         \n",
      "_________________________________________________________________\n",
      "block4_conv1 (Conv2D)        (None, 28, 28, 512)       1180160   \n",
      "_________________________________________________________________\n",
      "block4_conv2 (Conv2D)        (None, 28, 28, 512)       2359808   \n",
      "_________________________________________________________________\n",
      "block4_conv3 (Conv2D)        (None, 28, 28, 512)       2359808   \n",
      "_________________________________________________________________\n",
      "block4_pool (MaxPooling2D)   (None, 14, 14, 512)       0         \n",
      "_________________________________________________________________\n",
      "block5_conv1 (Conv2D)        (None, 14, 14, 512)       2359808   \n",
      "_________________________________________________________________\n",
      "block5_conv2 (Conv2D)        (None, 14, 14, 512)       2359808   \n",
      "_________________________________________________________________\n",
      "block5_conv3 (Conv2D)        (None, 14, 14, 512)       2359808   \n",
      "_________________________________________________________________\n",
      "block5_pool (MaxPooling2D)   (None, 7, 7, 512)         0         \n",
      "=================================================================\n",
      "Total params: 14,714,688\n",
      "Trainable params: 14,714,688\n",
      "Non-trainable params: 0\n",
      "_________________________________________________________________\n"
     ]
    }
   ],
   "source": [
    "conv_base.summary()"
   ]
  },
  {
   "cell_type": "raw",
   "metadata": {},
   "source": [
    "FEATURE EXTRACTION (Extracción de características)\n",
    "\n",
    "Ahora hay dos formas de proceder:\n",
    "1- Ejecutar la base convolucional sobre el conjunto de datos, registrar la salida en una matriz Numpy en disco, y luego usar esa información como entrada para un clasificador independiente y densamente conectado. Esta solución es rápida y económica computacionalmente, pero no permite utilizar Data Augmentation.\n",
    "La primera parte es la base convolucional de un modelo preentrenado, segundo se entrena la parte convolucional con los nuevos datos de entrenamiento, depués añadimos un nuevo clasificador densamente conectado en la parte superior (final) y volvemos a entrenar. Si el modelo con el que se entrenó el modelo preentrenado es muy difernte del que queremos aplicar, es conveniente no utilizar toda la base convolucional (eliminar las últimas) ya que éstas són cada vez más especificas al conjunto de datos con el que se entrenó.\n",
    "2- Amplicar el modelo que tenemos (conv_base) agregando capas densas en la parte superior y ejecutando todo de punta a punta en los datos de entrada. Esto permite Data Augmentation, porque cada imagen de entrada pasa por la base convolucional. Esta técnica es mucho mas costosa y requiere GPU"
   ]
  },
  {
   "cell_type": "raw",
   "metadata": {},
   "source": [
    "1. Extracción de características sin Data Augmentation --> CPU\n",
    "\n",
    "Ejecutamos instancias de ImageDataGenerator para extraer imagenes como matrices Numpy y sus etiquetas. Extraeremos características de estas imágenes llamando al método del modelo conv_base\n",
    "\n",
    "- La ultima salida de la capa convolucional es de (7, 7, 512 )\n",
    "out_x, out_y, conv_len"
   ]
  },
  {
   "cell_type": "code",
   "execution_count": 5,
   "metadata": {},
   "outputs": [
    {
     "name": "stdout",
     "output_type": "stream",
     "text": [
      "Found 4000 images belonging to 4 classes.\n",
      "Found 1200 images belonging to 4 classes.\n",
      "Found 1200 images belonging to 4 classes.\n"
     ]
    }
   ],
   "source": [
    "#Extracción de características del modelo Preentrenado y nuestro dataset\n",
    "import numpy as np\n",
    "from keras.preprocessing.image import ImageDataGenerator\n",
    "from keras.utils import to_categorical\n",
    "\n",
    "#Tamaño de salida de la última capa convoluciónal del modelo preentrenado\n",
    "#lo vemos en el conv_base.summary()\n",
    "out_x = 7\n",
    "out_y = 7\n",
    "conv_len = 512\n",
    "\n",
    "datagen = ImageDataGenerator(rescale = 1./255)\n",
    "\n",
    "def extract_features(directory, sample_count):\n",
    "    features = np.zeros(shape=(sample_count, out_x, out_x, conv_len))\n",
    "    labels = to_categorical(np.zeros(shape=(sample_count)),nb_clases) #INDICAR NUMERO DE CLASES\n",
    "    generator = datagen.flow_from_directory(\n",
    "        directory,\n",
    "        target_size = (height_image, width_image),\n",
    "        batch_size = batch_size,\n",
    "        #classes = 4,\n",
    "        class_mode = 'categorical')\n",
    "    i = 0\n",
    "    for inputs_batch, labels_batch in generator:\n",
    "        features_batch = conv_base.predict(inputs_batch) ##Asociamos al modelo preentrenado\n",
    "        features[i * batch_size : (i + 1) * batch_size] = features_batch\n",
    "        labels[i * batch_size : (i + 1) * batch_size] = labels_batch\n",
    "        i += 1\n",
    "        if i * batch_size >= sample_count:\n",
    "            break\n",
    "    return features, labels\n",
    "\n",
    "#Train: 1000 muestras x clase, con 4 clases, 1000 x 4 = 4000\n",
    "train_features, train_labels = extract_features(train_dir, nb_train)\n",
    "#validation 500 muestras x clase con 4 clases, 300 x 4 = 1200\n",
    "validation_features, validation_labels = extract_features(validation_dir, nb_validation) \n",
    "#test 500 muestras x clase con 4 clases, 300 x 4 = 1200\n",
    "test_features, test_labels = extract_features(test_dir, nb_test)\n"
   ]
  },
  {
   "cell_type": "code",
   "execution_count": 6,
   "metadata": {},
   "outputs": [
    {
     "name": "stdout",
     "output_type": "stream",
     "text": [
      "(4000, 25088)\n",
      "(1200, 25088)\n",
      "(1200, 25088)\n"
     ]
    }
   ],
   "source": [
    "#Las características extraídas están como muetras en forma (muestra, 4, 4, 512).-->(muestras, out_x, out_y, conv_len)\n",
    "#Debemos aplanarlas (muestras, 8192) para alimentar un clasificador densamente conectado 4x4x512 = 8192 si entrada 150x150\n",
    "#Debemos aplanarlas (muestras, 25088) para alimentar un clasificador densamente conectado 7x7x512 = 25088 si entrada 224x224\n",
    "\n",
    "\n",
    "train_features = np.reshape(train_features, (nb_train, out_x * out_y * conv_len))\n",
    "validation_features = np.reshape(validation_features, (nb_validation, out_x * out_y * conv_len))\n",
    "test_features = np.reshape(test_features, (nb_test, out_x * out_y * conv_len))\n",
    "print(train_features.shape)\n",
    "print(validation_features.shape)\n",
    "print(test_features.shape)"
   ]
  },
  {
   "cell_type": "code",
   "execution_count": 7,
   "metadata": {},
   "outputs": [
    {
     "name": "stdout",
     "output_type": "stream",
     "text": [
      "_________________________________________________________________\n",
      "Layer (type)                 Output Shape              Param #   \n",
      "=================================================================\n",
      "dense_1 (Dense)              (None, 256)               6422784   \n",
      "_________________________________________________________________\n",
      "dropout_1 (Dropout)          (None, 256)               0         \n",
      "_________________________________________________________________\n",
      "dense_2 (Dense)              (None, 4)                 1028      \n",
      "=================================================================\n",
      "Total params: 6,423,812\n",
      "Trainable params: 6,423,812\n",
      "Non-trainable params: 0\n",
      "_________________________________________________________________\n"
     ]
    }
   ],
   "source": [
    "#Definimos un clasificador densamente conectado capacitado con los datos y etiquetas obtenidas antes\n",
    "#Aplicamos capa de abandono Dropout y función de activación \"sigmoid\" al final\n",
    "from keras import layers\n",
    "from keras import models\n",
    "from keras import optimizers\n",
    "\n",
    "top_model = models.Sequential()\n",
    "top_model.add(layers.Dense(256, activation = 'relu', input_dim = out_x * out_y * conv_len))\n",
    "top_model.add(layers.Dropout(0.5))\n",
    "top_model.add(layers.Dense(nb_clases, activation = 'sigmoid'))  #INDICAR NUMERO DE CLASES\n",
    "\n",
    "top_model.summary()"
   ]
  },
  {
   "cell_type": "code",
   "execution_count": 8,
   "metadata": {},
   "outputs": [
    {
     "name": "stdout",
     "output_type": "stream",
     "text": [
      "Train on 4000 samples, validate on 1200 samples\n",
      "Epoch 1/80\n",
      "4000/4000 [==============================] - 1s 261us/step - loss: 1.2845 - acc: 0.3912 - val_loss: 1.1238 - val_acc: 0.5000\n",
      "Epoch 2/80\n",
      "4000/4000 [==============================] - 1s 201us/step - loss: 1.0870 - acc: 0.5228 - val_loss: 0.9999 - val_acc: 0.5608\n",
      "Epoch 3/80\n",
      "4000/4000 [==============================] - 1s 194us/step - loss: 0.9746 - acc: 0.5902 - val_loss: 0.9003 - val_acc: 0.6383\n",
      "Epoch 4/80\n",
      "4000/4000 [==============================] - 1s 193us/step - loss: 0.9106 - acc: 0.6160 - val_loss: 0.9216 - val_acc: 0.6150\n",
      "Epoch 5/80\n",
      "4000/4000 [==============================] - 1s 209us/step - loss: 0.8630 - acc: 0.6467 - val_loss: 0.8090 - val_acc: 0.6692\n",
      "Epoch 6/80\n",
      "4000/4000 [==============================] - 1s 189us/step - loss: 0.8089 - acc: 0.6743 - val_loss: 0.7885 - val_acc: 0.6858\n",
      "Epoch 7/80\n",
      "4000/4000 [==============================] - 1s 210us/step - loss: 0.7684 - acc: 0.6870 - val_loss: 0.7489 - val_acc: 0.7042\n",
      "Epoch 8/80\n",
      "4000/4000 [==============================] - 1s 207us/step - loss: 0.7368 - acc: 0.7092 - val_loss: 0.7621 - val_acc: 0.6817\n",
      "Epoch 9/80\n",
      "4000/4000 [==============================] - 1s 174us/step - loss: 0.7183 - acc: 0.7208 - val_loss: 0.7148 - val_acc: 0.7183\n",
      "Epoch 10/80\n",
      "4000/4000 [==============================] - 1s 190us/step - loss: 0.6853 - acc: 0.7332 - val_loss: 0.7088 - val_acc: 0.7133\n",
      "Epoch 11/80\n",
      "4000/4000 [==============================] - 1s 205us/step - loss: 0.6665 - acc: 0.7450 - val_loss: 0.6803 - val_acc: 0.7358\n",
      "Epoch 12/80\n",
      "4000/4000 [==============================] - 1s 206us/step - loss: 0.6338 - acc: 0.7595 - val_loss: 0.6626 - val_acc: 0.7458\n",
      "Epoch 13/80\n",
      "4000/4000 [==============================] - 1s 219us/step - loss: 0.6143 - acc: 0.7650 - val_loss: 0.6551 - val_acc: 0.7317\n",
      "Epoch 14/80\n",
      "4000/4000 [==============================] - 1s 187us/step - loss: 0.6021 - acc: 0.7772 - val_loss: 0.6448 - val_acc: 0.7575\n",
      "Epoch 15/80\n",
      "4000/4000 [==============================] - 1s 176us/step - loss: 0.5809 - acc: 0.7740 - val_loss: 0.6157 - val_acc: 0.7625\n",
      "Epoch 16/80\n",
      "4000/4000 [==============================] - 1s 196us/step - loss: 0.5660 - acc: 0.7923 - val_loss: 0.6079 - val_acc: 0.7658\n",
      "Epoch 17/80\n",
      "4000/4000 [==============================] - 1s 181us/step - loss: 0.5475 - acc: 0.7983 - val_loss: 0.6074 - val_acc: 0.7650\n",
      "Epoch 18/80\n",
      "4000/4000 [==============================] - 1s 190us/step - loss: 0.5245 - acc: 0.8067 - val_loss: 0.5846 - val_acc: 0.7742\n",
      "Epoch 19/80\n",
      "4000/4000 [==============================] - 1s 175us/step - loss: 0.5239 - acc: 0.8093 - val_loss: 0.5987 - val_acc: 0.7717\n",
      "Epoch 20/80\n",
      "4000/4000 [==============================] - 1s 155us/step - loss: 0.4972 - acc: 0.8197 - val_loss: 0.5915 - val_acc: 0.7717\n",
      "Epoch 21/80\n",
      "4000/4000 [==============================] - 1s 165us/step - loss: 0.4827 - acc: 0.8303 - val_loss: 0.5652 - val_acc: 0.7817\n",
      "Epoch 22/80\n",
      "4000/4000 [==============================] - 1s 205us/step - loss: 0.4775 - acc: 0.8325 - val_loss: 0.5585 - val_acc: 0.7908\n",
      "Epoch 23/80\n",
      "4000/4000 [==============================] - 1s 181us/step - loss: 0.4639 - acc: 0.8400 - val_loss: 0.5614 - val_acc: 0.7817\n",
      "Epoch 24/80\n",
      "4000/4000 [==============================] - 1s 198us/step - loss: 0.4460 - acc: 0.8473 - val_loss: 0.5553 - val_acc: 0.7900\n",
      "Epoch 25/80\n",
      "4000/4000 [==============================] - 1s 212us/step - loss: 0.4437 - acc: 0.8485 - val_loss: 0.5487 - val_acc: 0.7858\n",
      "Epoch 26/80\n",
      "4000/4000 [==============================] - 1s 205us/step - loss: 0.4237 - acc: 0.8572 - val_loss: 0.5687 - val_acc: 0.7692\n",
      "Epoch 27/80\n",
      "4000/4000 [==============================] - 1s 204us/step - loss: 0.4217 - acc: 0.8540 - val_loss: 0.5473 - val_acc: 0.7875\n",
      "Epoch 28/80\n",
      "4000/4000 [==============================] - 1s 201us/step - loss: 0.4094 - acc: 0.8605 - val_loss: 0.5344 - val_acc: 0.8008\n",
      "Epoch 29/80\n",
      "4000/4000 [==============================] - 1s 177us/step - loss: 0.3950 - acc: 0.8655 - val_loss: 0.5530 - val_acc: 0.7775\n",
      "Epoch 30/80\n",
      "4000/4000 [==============================] - 1s 189us/step - loss: 0.3831 - acc: 0.8750 - val_loss: 0.5402 - val_acc: 0.7892\n",
      "Epoch 31/80\n",
      "4000/4000 [==============================] - 1s 197us/step - loss: 0.3886 - acc: 0.8700 - val_loss: 0.5249 - val_acc: 0.8000\n",
      "Epoch 32/80\n",
      "4000/4000 [==============================] - 1s 212us/step - loss: 0.3695 - acc: 0.8785 - val_loss: 0.5399 - val_acc: 0.7850\n",
      "Epoch 33/80\n",
      "4000/4000 [==============================] - 1s 218us/step - loss: 0.3631 - acc: 0.8870 - val_loss: 0.5194 - val_acc: 0.8092\n",
      "Epoch 34/80\n",
      "4000/4000 [==============================] - 1s 187us/step - loss: 0.3563 - acc: 0.8845 - val_loss: 0.5180 - val_acc: 0.7958\n",
      "Epoch 35/80\n",
      "4000/4000 [==============================] - 1s 198us/step - loss: 0.3500 - acc: 0.8862 - val_loss: 0.5336 - val_acc: 0.7933\n",
      "Epoch 36/80\n",
      "4000/4000 [==============================] - 1s 210us/step - loss: 0.3402 - acc: 0.8932 - val_loss: 0.5235 - val_acc: 0.7992\n",
      "Epoch 37/80\n",
      "4000/4000 [==============================] - 1s 202us/step - loss: 0.3279 - acc: 0.9002 - val_loss: 0.5201 - val_acc: 0.7975\n",
      "Epoch 38/80\n",
      "4000/4000 [==============================] - 1s 211us/step - loss: 0.3154 - acc: 0.9038 - val_loss: 0.5271 - val_acc: 0.8000\n",
      "Epoch 39/80\n",
      "4000/4000 [==============================] - 1s 202us/step - loss: 0.3169 - acc: 0.9073 - val_loss: 0.5155 - val_acc: 0.8017\n",
      "Epoch 40/80\n",
      "4000/4000 [==============================] - 1s 178us/step - loss: 0.3018 - acc: 0.9020 - val_loss: 0.5348 - val_acc: 0.7850\n",
      "Epoch 41/80\n",
      "4000/4000 [==============================] - 1s 199us/step - loss: 0.3045 - acc: 0.9133 - val_loss: 0.5060 - val_acc: 0.7967\n",
      "Epoch 42/80\n",
      "4000/4000 [==============================] - 1s 206us/step - loss: 0.2885 - acc: 0.9137 - val_loss: 0.4957 - val_acc: 0.8075\n",
      "Epoch 43/80\n",
      "4000/4000 [==============================] - 1s 208us/step - loss: 0.2897 - acc: 0.9137 - val_loss: 0.5397 - val_acc: 0.7908\n",
      "Epoch 44/80\n",
      "4000/4000 [==============================] - 1s 221us/step - loss: 0.2789 - acc: 0.9210 - val_loss: 0.5045 - val_acc: 0.8008\n",
      "Epoch 45/80\n",
      "4000/4000 [==============================] - 1s 198us/step - loss: 0.2748 - acc: 0.9175 - val_loss: 0.5464 - val_acc: 0.7792\n",
      "Epoch 46/80\n",
      "4000/4000 [==============================] - 1s 192us/step - loss: 0.2687 - acc: 0.9230 - val_loss: 0.5047 - val_acc: 0.8100\n",
      "Epoch 47/80\n",
      "4000/4000 [==============================] - 1s 205us/step - loss: 0.2586 - acc: 0.9210 - val_loss: 0.4995 - val_acc: 0.8025\n",
      "Epoch 48/80\n",
      "4000/4000 [==============================] - 1s 186us/step - loss: 0.2520 - acc: 0.9303 - val_loss: 0.5074 - val_acc: 0.8008\n",
      "Epoch 49/80\n",
      "4000/4000 [==============================] - 1s 200us/step - loss: 0.2500 - acc: 0.9290 - val_loss: 0.5048 - val_acc: 0.7975\n",
      "Epoch 50/80\n",
      "4000/4000 [==============================] - 1s 197us/step - loss: 0.2464 - acc: 0.9305 - val_loss: 0.4946 - val_acc: 0.8067\n",
      "Epoch 51/80\n",
      "4000/4000 [==============================] - 1s 179us/step - loss: 0.2390 - acc: 0.9357 - val_loss: 0.4897 - val_acc: 0.8133\n",
      "Epoch 52/80\n",
      "4000/4000 [==============================] - 1s 193us/step - loss: 0.2364 - acc: 0.9370 - val_loss: 0.4914 - val_acc: 0.8067\n",
      "Epoch 53/80\n",
      "4000/4000 [==============================] - 1s 197us/step - loss: 0.2235 - acc: 0.9427 - val_loss: 0.4924 - val_acc: 0.8133\n",
      "Epoch 54/80\n",
      "4000/4000 [==============================] - 1s 194us/step - loss: 0.2255 - acc: 0.9382 - val_loss: 0.5071 - val_acc: 0.8050\n",
      "Epoch 55/80\n",
      "4000/4000 [==============================] - 1s 200us/step - loss: 0.2215 - acc: 0.9403 - val_loss: 0.4851 - val_acc: 0.8108\n",
      "Epoch 56/80\n",
      "4000/4000 [==============================] - 1s 203us/step - loss: 0.2103 - acc: 0.9485 - val_loss: 0.4856 - val_acc: 0.8167\n",
      "Epoch 57/80\n",
      "4000/4000 [==============================] - 1s 203us/step - loss: 0.2048 - acc: 0.9472 - val_loss: 0.5182 - val_acc: 0.7983\n",
      "Epoch 58/80\n",
      "4000/4000 [==============================] - 1s 212us/step - loss: 0.2116 - acc: 0.9457 - val_loss: 0.5053 - val_acc: 0.8000\n",
      "Epoch 59/80\n",
      "4000/4000 [==============================] - 1s 193us/step - loss: 0.1990 - acc: 0.9483 - val_loss: 0.4995 - val_acc: 0.8175\n",
      "Epoch 60/80\n",
      "4000/4000 [==============================] - 1s 190us/step - loss: 0.1991 - acc: 0.9502 - val_loss: 0.4919 - val_acc: 0.8150\n",
      "Epoch 61/80\n",
      "4000/4000 [==============================] - 1s 189us/step - loss: 0.1923 - acc: 0.9520 - val_loss: 0.4984 - val_acc: 0.8150\n",
      "Epoch 62/80\n",
      "4000/4000 [==============================] - 1s 192us/step - loss: 0.1859 - acc: 0.9553 - val_loss: 0.5256 - val_acc: 0.7958\n",
      "Epoch 63/80\n",
      "4000/4000 [==============================] - 1s 212us/step - loss: 0.1827 - acc: 0.9543 - val_loss: 0.4924 - val_acc: 0.8167\n",
      "Epoch 64/80\n",
      "4000/4000 [==============================] - 1s 211us/step - loss: 0.1786 - acc: 0.9597 - val_loss: 0.4895 - val_acc: 0.8150\n",
      "Epoch 65/80\n",
      "4000/4000 [==============================] - 1s 199us/step - loss: 0.1734 - acc: 0.9590 - val_loss: 0.4990 - val_acc: 0.8133\n",
      "Epoch 66/80\n",
      "4000/4000 [==============================] - 1s 204us/step - loss: 0.1749 - acc: 0.9597 - val_loss: 0.5111 - val_acc: 0.8083\n",
      "Epoch 67/80\n",
      "4000/4000 [==============================] - 1s 197us/step - loss: 0.1651 - acc: 0.9637 - val_loss: 0.4916 - val_acc: 0.8150\n",
      "Epoch 68/80\n",
      "4000/4000 [==============================] - 1s 201us/step - loss: 0.1603 - acc: 0.9627 - val_loss: 0.5217 - val_acc: 0.8025\n",
      "Epoch 69/80\n",
      "4000/4000 [==============================] - 1s 200us/step - loss: 0.1581 - acc: 0.9655 - val_loss: 0.5014 - val_acc: 0.8083\n",
      "Epoch 70/80\n",
      "4000/4000 [==============================] - 1s 181us/step - loss: 0.1536 - acc: 0.9675 - val_loss: 0.4843 - val_acc: 0.8150\n",
      "Epoch 71/80\n",
      "4000/4000 [==============================] - 1s 190us/step - loss: 0.1519 - acc: 0.9688 - val_loss: 0.4864 - val_acc: 0.8175\n",
      "Epoch 72/80\n",
      "4000/4000 [==============================] - 1s 196us/step - loss: 0.1485 - acc: 0.9675 - val_loss: 0.5121 - val_acc: 0.8000\n",
      "Epoch 73/80\n",
      "4000/4000 [==============================] - 1s 180us/step - loss: 0.1428 - acc: 0.9712 - val_loss: 0.5090 - val_acc: 0.8117\n",
      "Epoch 74/80\n",
      "4000/4000 [==============================] - 1s 192us/step - loss: 0.1458 - acc: 0.9710 - val_loss: 0.4851 - val_acc: 0.8200\n",
      "Epoch 75/80\n",
      "4000/4000 [==============================] - 1s 193us/step - loss: 0.1416 - acc: 0.9705 - val_loss: 0.5185 - val_acc: 0.8008\n",
      "Epoch 76/80\n",
      "4000/4000 [==============================] - 1s 202us/step - loss: 0.1402 - acc: 0.9675 - val_loss: 0.5137 - val_acc: 0.8033\n",
      "Epoch 77/80\n",
      "4000/4000 [==============================] - 1s 205us/step - loss: 0.1324 - acc: 0.9748 - val_loss: 0.5070 - val_acc: 0.8092\n",
      "Epoch 78/80\n",
      "4000/4000 [==============================] - 1s 187us/step - loss: 0.1293 - acc: 0.9750 - val_loss: 0.4967 - val_acc: 0.8200\n",
      "Epoch 79/80\n",
      "4000/4000 [==============================] - 1s 197us/step - loss: 0.1220 - acc: 0.9795 - val_loss: 0.5027 - val_acc: 0.8183\n",
      "Epoch 80/80\n",
      "4000/4000 [==============================] - 1s 208us/step - loss: 0.1174 - acc: 0.9785 - val_loss: 0.4977 - val_acc: 0.8125\n"
     ]
    }
   ],
   "source": [
    "#Para la compilación usaremos el optimizador RMSprop ya que termina la red con una sola\n",
    "#unidad sigmoidea, cómo función de pérdida se utiliza la entropia cruzada binaria\n",
    "\n",
    "top_model.compile(loss = 'categorical_crossentropy', \n",
    "              optimizer = optimizers.RMSprop(lr=2e-5), \n",
    "              metrics = ['acc'])\n",
    "\n",
    "epochs = 80\n",
    "\n",
    "history = top_model.fit(\n",
    "    train_features,\n",
    "    train_labels,  \n",
    "    batch_size = batch_size,\n",
    "    epochs = epochs, \n",
    "    verbose = 1, \n",
    "    validation_data = (validation_features, validation_labels))\n",
    "\n"
   ]
  },
  {
   "cell_type": "code",
   "execution_count": 9,
   "metadata": {
    "collapsed": true
   },
   "outputs": [],
   "source": [
    "top_model.save('Fast_Extraction_VGG_3.h5')"
   ]
  },
  {
   "cell_type": "raw",
   "metadata": {},
   "source": [
    "Guardamos el modelo"
   ]
  },
  {
   "cell_type": "raw",
   "metadata": {},
   "source": [
    "Graficamos la Exactitud y la pérdida del modelo"
   ]
  },
  {
   "cell_type": "code",
   "execution_count": 12,
   "metadata": {},
   "outputs": [
    {
     "data": {
      "image/png": "[encoded data removed]",
      "text/plain": [
       "<matplotlib.figure.Figure at 0x7f99c85995c0>"
      ]
     },
     "metadata": {},
     "output_type": "display_data"
    },
    {
     "data": {
      "image/png": "[encoded data removed]",
      "text/plain": [
       "<matplotlib.figure.Figure at 0x7f99c8503cf8>"
      ]
     },
     "metadata": {},
     "output_type": "display_data"
    }
   ],
   "source": [
    "#Mostramos otros graficos \n",
    "import matplotlib.pyplot as plt\n",
    "\n",
    "acc = history.history['acc']\n",
    "val_acc = history.history['val_acc']\n",
    "loss = history.history['loss']\n",
    "val_loss = history.history['val_loss']\n",
    "\n",
    "epochs = range(1, len(acc)+ 1)\n",
    "\n",
    "plt.plot(epochs, acc, 'bo', label='Training acc')\n",
    "plt.plot(epochs, val_acc, 'b', label='Validation acc')\n",
    "#plt.tittle('Trainning and validation accuracy')\n",
    "plt.legend()\n",
    "\n",
    "plt.figure()\n",
    "plt.plot(epochs, loss, 'bo', label='Training loss')\n",
    "plt.plot(epochs, val_loss, 'b', label='Validation loss')\n",
    "#plt.tittle('Trainning and validation loss')\n",
    "plt.legend()\n",
    "\n",
    "plt.show()"
   ]
  },
  {
   "cell_type": "code",
   "execution_count": 13,
   "metadata": {},
   "outputs": [
    {
     "name": "stdout",
     "output_type": "stream",
     "text": [
      "1200/1200 [==============================] - 0s 171us/step\n"
     ]
    },
    {
     "data": {
      "text/plain": [
       "[0.5551292991638184, 0.7941666666666667]"
      ]
     },
     "execution_count": 13,
     "metadata": {},
     "output_type": "execute_result"
    }
   ],
   "source": [
    "top_model.evaluate(test_features, test_labels)"
   ]
  },
  {
   "cell_type": "code",
   "execution_count": null,
   "metadata": {
    "collapsed": true
   },
   "outputs": [],
   "source": []
  }
 ],
 "metadata": {
  "kernelspec": {
   "display_name": "Python 3",
   "language": "python",
   "name": "python3"
  },
  "language_info": {
   "codemirror_mode": {
    "name": "ipython",
    "version": 3
   },
   "file_extension": ".py",
   "mimetype": "text/x-python",
   "name": "python",
   "nbconvert_exporter": "python",
   "pygments_lexer": "ipython3",
   "version": "3.6.3"
  }
 },
 "nbformat": 4,
 "nbformat_minor": 2
}
