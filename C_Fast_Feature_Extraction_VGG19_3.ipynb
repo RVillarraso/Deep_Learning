{
 "cells": [
  {
   "cell_type": "raw",
   "metadata": {},
   "source": [
    "Entreno de un ConvNet VGG19 preentrenado con Imagenet y\n",
    "entrenando conjunto de datos pequeño\n",
    "Conjunto de datos de 4 clases\n",
    "Utilizaremos un conjunto de datos reducido:\n",
    "- Conjunto de entrenamiento: 1.000 muestras x clase \n",
    "- Conjunto de validación: 300 muestras x clase\n",
    "- Conjunto de test: 300 muestras x clase\n",
    "El conjunto de datos: balanced_dataset\n",
    "contiene tres carpetas, train, validation y test, cada una con 4 clases"
   ]
  },
  {
   "cell_type": "code",
   "execution_count": 1,
   "metadata": {
    "collapsed": true
   },
   "outputs": [],
   "source": [
    "import os, shutil\n",
    "from os import walk, getcwd"
   ]
  },
  {
   "cell_type": "code",
   "execution_count": 2,
   "metadata": {
    "collapsed": true
   },
   "outputs": [],
   "source": [
    "# Retorna todos los archivos de un directorio dado\n",
    "def ls(ruta):  \n",
    "    return next(walk(ruta))[2]\n",
    "\n",
    "height_image = 224\n",
    "width_image = 224\n",
    "channels_image = 3\n",
    "nb_clases = 4\n",
    "batch_size = 64\n",
    "class_mode = 'categorical'\n",
    "nb_train = 4000        # 1000 x 4 clases\n",
    "nb_validation = 1200   #  300 x 4 clases\n",
    "nb_test = 1200\n",
    "\n",
    "base_dir = 'balanced_dataset'\n",
    "train_dir = os.path.join(base_dir, 'train')\n",
    "validation_dir = os.path.join(base_dir, 'validation')\n",
    "test_dir = os.path.join(base_dir, 'test')"
   ]
  },
  {
   "cell_type": "code",
   "execution_count": 3,
   "metadata": {},
   "outputs": [
    {
     "name": "stderr",
     "output_type": "stream",
     "text": [
      "/usr/local/lib/python3.5/dist-packages/h5py/__init__.py:36: FutureWarning: Conversion of the second argument of issubdtype from `float` to `np.floating` is deprecated. In future, it will be treated as `np.float64 == np.dtype(float).type`.\n",
      "  from ._conv import register_converters as _register_converters\n",
      "Using TensorFlow backend.\n"
     ]
    }
   ],
   "source": [
    "from keras.applications import VGG19\n",
    "\n",
    "conv_base= VGG19(weights='imagenet', \n",
    "                 include_top = False, \n",
    "                 input_shape = (width_image, height_image, channels_image))"
   ]
  },
  {
   "cell_type": "code",
   "execution_count": 4,
   "metadata": {},
   "outputs": [
    {
     "name": "stdout",
     "output_type": "stream",
     "text": [
      "_________________________________________________________________\n",
      "Layer (type)                 Output Shape              Param #   \n",
      "=================================================================\n",
      "input_1 (InputLayer)         (None, 224, 224, 3)       0         \n",
      "_________________________________________________________________\n",
      "block1_conv1 (Conv2D)        (None, 224, 224, 64)      1792      \n",
      "_________________________________________________________________\n",
      "block1_conv2 (Conv2D)        (None, 224, 224, 64)      36928     \n",
      "_________________________________________________________________\n",
      "block1_pool (MaxPooling2D)   (None, 112, 112, 64)      0         \n",
      "_________________________________________________________________\n",
      "block2_conv1 (Conv2D)        (None, 112, 112, 128)     73856     \n",
      "_________________________________________________________________\n",
      "block2_conv2 (Conv2D)        (None, 112, 112, 128)     147584    \n",
      "_________________________________________________________________\n",
      "block2_pool (MaxPooling2D)   (None, 56, 56, 128)       0         \n",
      "_________________________________________________________________\n",
      "block3_conv1 (Conv2D)        (None, 56, 56, 256)       295168    \n",
      "_________________________________________________________________\n",
      "block3_conv2 (Conv2D)        (None, 56, 56, 256)       590080    \n",
      "_________________________________________________________________\n",
      "block3_conv3 (Conv2D)        (None, 56, 56, 256)       590080    \n",
      "_________________________________________________________________\n",
      "block3_conv4 (Conv2D)        (None, 56, 56, 256)       590080    \n",
      "_________________________________________________________________\n",
      "block3_pool (MaxPooling2D)   (None, 28, 28, 256)       0         \n",
      "_________________________________________________________________\n",
      "block4_conv1 (Conv2D)        (None, 28, 28, 512)       1180160   \n",
      "_________________________________________________________________\n",
      "block4_conv2 (Conv2D)        (None, 28, 28, 512)       2359808   \n",
      "_________________________________________________________________\n",
      "block4_conv3 (Conv2D)        (None, 28, 28, 512)       2359808   \n",
      "_________________________________________________________________\n",
      "block4_conv4 (Conv2D)        (None, 28, 28, 512)       2359808   \n",
      "_________________________________________________________________\n",
      "block4_pool (MaxPooling2D)   (None, 14, 14, 512)       0         \n",
      "_________________________________________________________________\n",
      "block5_conv1 (Conv2D)        (None, 14, 14, 512)       2359808   \n",
      "_________________________________________________________________\n",
      "block5_conv2 (Conv2D)        (None, 14, 14, 512)       2359808   \n",
      "_________________________________________________________________\n",
      "block5_conv3 (Conv2D)        (None, 14, 14, 512)       2359808   \n",
      "_________________________________________________________________\n",
      "block5_conv4 (Conv2D)        (None, 14, 14, 512)       2359808   \n",
      "_________________________________________________________________\n",
      "block5_pool (MaxPooling2D)   (None, 7, 7, 512)         0         \n",
      "=================================================================\n",
      "Total params: 20,024,384\n",
      "Trainable params: 20,024,384\n",
      "Non-trainable params: 0\n",
      "_________________________________________________________________\n"
     ]
    }
   ],
   "source": [
    "conv_base.summary()"
   ]
  },
  {
   "cell_type": "raw",
   "metadata": {},
   "source": [
    "FEATURE EXTRACTION (Extracción de características)\n",
    "\n",
    "Ahora hay dos formas de proceder:\n",
    "1- Ejecutar la base convolucional sobre el conjunto de datos, registrar la salida en una matriz Numpy en disco, y luego usar esa información como entrada para un clasificador independiente y densamente conectado. Esta solución es rápida y económica computacionalmente, pero no permite utilizar Data Augmentation.\n",
    "La primera parte es la base convolucional de un modelo preentrenado, segundo se entrena la parte convolucional con los nuevos datos de entrenamiento, depués añadimos un nuevo clasificador densamente conectado en la parte superior (final) y volvemos a entrenar. Si el modelo con el que se entrenó el modelo preentrenado es muy difernte del que queremos aplicar, es conveniente no utilizar toda la base convolucional (eliminar las últimas) ya que éstas són cada vez más especificas al conjunto de datos con el que se entrenó.\n",
    "2- Amplicar el modelo que tenemos (conv_base) agregando capas densas en la parte superior y ejecutando todo de punta a punta en los datos de entrada. Esto permite Data Augmentation, porque cada imagen de entrada pasa por la base convolucional. Esta técnica es mucho mas costosa y requiere GPU"
   ]
  },
  {
   "cell_type": "raw",
   "metadata": {},
   "source": [
    "1. Extracción de características sin Data Augmentation --> CPU\n",
    "\n",
    "Ejecutamos instancias de ImageDataGenerator para extraer imagenes como matrices Numpy y sus etiquetas. Extraeremos características de estas imágenes llamando al método del modelo conv_base\n",
    "\n",
    "- La ultima salida de la capa convolucional es de (7, 7, 512 )\n",
    "out_x, out_y, conv_len"
   ]
  },
  {
   "cell_type": "code",
   "execution_count": 5,
   "metadata": {},
   "outputs": [
    {
     "name": "stdout",
     "output_type": "stream",
     "text": [
      "Found 4000 images belonging to 4 classes.\n",
      "Found 1200 images belonging to 4 classes.\n",
      "Found 1200 images belonging to 4 classes.\n"
     ]
    }
   ],
   "source": [
    "#Extracción de características del modelo Preentrenado y nuestro dataset\n",
    "import numpy as np\n",
    "from keras.preprocessing.image import ImageDataGenerator\n",
    "from keras.utils import to_categorical\n",
    "\n",
    "#Tamaño de salida de la última capa convoluciónal del modelo preentrenado\n",
    "#lo vemos en el conv_base.summary()\n",
    "out_x = 7\n",
    "out_y = 7\n",
    "conv_len = 512\n",
    "\n",
    "datagen = ImageDataGenerator(rescale = 1./255)\n",
    "\n",
    "def extract_features(directory, sample_count):\n",
    "    features = np.zeros(shape=(sample_count, out_x, out_x, conv_len))\n",
    "    labels = to_categorical(np.zeros(shape=(sample_count)),nb_clases) #INDICAR NUMERO DE CLASES\n",
    "    generator = datagen.flow_from_directory(\n",
    "        directory,\n",
    "        target_size = (height_image, width_image),\n",
    "        batch_size = batch_size,\n",
    "        #classes = 4,\n",
    "        class_mode = 'categorical')\n",
    "    i = 0\n",
    "    for inputs_batch, labels_batch in generator:\n",
    "        features_batch = conv_base.predict(inputs_batch) ##Asociamos al modelo preentrenado\n",
    "        features[i * batch_size : (i + 1) * batch_size] = features_batch\n",
    "        labels[i * batch_size : (i + 1) * batch_size] = labels_batch\n",
    "        i += 1\n",
    "        if i * batch_size >= sample_count:\n",
    "            break\n",
    "    return features, labels\n",
    "\n",
    "#Train: 1000 muestras x clase, con 4 clases, 1000 x 4 = 4000\n",
    "train_features, train_labels = extract_features(train_dir, nb_train)\n",
    "#validation 500 muestras x clase con 4 clases, 300 x 4 = 1200\n",
    "validation_features, validation_labels = extract_features(validation_dir, nb_validation) \n",
    "#test 500 muestras x clase con 4 clases, 300 x 4 = 1200\n",
    "test_features, test_labels = extract_features(test_dir, nb_test)\n"
   ]
  },
  {
   "cell_type": "code",
   "execution_count": 6,
   "metadata": {},
   "outputs": [
    {
     "name": "stdout",
     "output_type": "stream",
     "text": [
      "(4000, 25088)\n",
      "(1200, 25088)\n",
      "(1200, 25088)\n"
     ]
    }
   ],
   "source": [
    "#Las características extraídas están como muetras en forma (muestra, 4, 4, 512).-->(muestras, out_x, out_y, conv_len)\n",
    "#Debemos aplanarlas (muestras, 8192) para alimentar un clasificador densamente conectado 4x4x512 = 8192 si entrada 150x150\n",
    "#Debemos aplanarlas (muestras, 25088) para alimentar un clasificador densamente conectado 7x7x512 = 25088 si entrada 224x224\n",
    "\n",
    "\n",
    "train_features = np.reshape(train_features, (nb_train, out_x * out_y * conv_len))\n",
    "validation_features = np.reshape(validation_features, (nb_validation, out_x * out_y * conv_len))\n",
    "test_features = np.reshape(test_features, (nb_test, out_x * out_y * conv_len))\n",
    "print(train_features.shape)\n",
    "print(validation_features.shape)\n",
    "print(test_features.shape)"
   ]
  },
  {
   "cell_type": "code",
   "execution_count": 7,
   "metadata": {},
   "outputs": [
    {
     "name": "stdout",
     "output_type": "stream",
     "text": [
      "_________________________________________________________________\n",
      "Layer (type)                 Output Shape              Param #   \n",
      "=================================================================\n",
      "dense_1 (Dense)              (None, 256)               6422784   \n",
      "_________________________________________________________________\n",
      "dropout_1 (Dropout)          (None, 256)               0         \n",
      "_________________________________________________________________\n",
      "dense_2 (Dense)              (None, 4)                 1028      \n",
      "=================================================================\n",
      "Total params: 6,423,812\n",
      "Trainable params: 6,423,812\n",
      "Non-trainable params: 0\n",
      "_________________________________________________________________\n"
     ]
    }
   ],
   "source": [
    "#Definimos un clasificador densamente conectado capacitado con los datos y etiquetas obtenidas antes\n",
    "#Aplicamos capa de abandono Dropout y función de activación \"sigmoid\" al final\n",
    "from keras import layers\n",
    "from keras import models\n",
    "from keras import optimizers\n",
    "\n",
    "top_model = models.Sequential()\n",
    "top_model.add(layers.Dense(256, activation = 'relu', input_dim = out_x * out_y * conv_len))\n",
    "top_model.add(layers.Dropout(0.5))\n",
    "top_model.add(layers.Dense(nb_clases, activation = 'sigmoid'))  #INDICAR NUMERO DE CLASES\n",
    "\n",
    "top_model.summary()"
   ]
  },
  {
   "cell_type": "code",
   "execution_count": 8,
   "metadata": {},
   "outputs": [
    {
     "name": "stdout",
     "output_type": "stream",
     "text": [
      "Train on 4000 samples, validate on 1200 samples\n",
      "Epoch 1/80\n",
      "4000/4000 [==============================] - 1s 319us/step - loss: 1.2867 - acc: 0.3855 - val_loss: 1.0968 - val_acc: 0.5450\n",
      "Epoch 2/80\n",
      "4000/4000 [==============================] - 1s 242us/step - loss: 1.0828 - acc: 0.5348 - val_loss: 0.9993 - val_acc: 0.6000\n",
      "Epoch 3/80\n",
      "4000/4000 [==============================] - 1s 231us/step - loss: 0.9957 - acc: 0.5807 - val_loss: 0.9182 - val_acc: 0.6375\n",
      "Epoch 4/80\n",
      "4000/4000 [==============================] - 1s 259us/step - loss: 0.9245 - acc: 0.6132 - val_loss: 0.9315 - val_acc: 0.5967\n",
      "Epoch 5/80\n",
      "4000/4000 [==============================] - 1s 221us/step - loss: 0.8857 - acc: 0.6355 - val_loss: 0.8386 - val_acc: 0.6567\n",
      "Epoch 6/80\n",
      "4000/4000 [==============================] - 1s 200us/step - loss: 0.8348 - acc: 0.6590 - val_loss: 0.8031 - val_acc: 0.6750\n",
      "Epoch 7/80\n",
      "4000/4000 [==============================] - 1s 226us/step - loss: 0.7925 - acc: 0.6778 - val_loss: 0.8245 - val_acc: 0.6525\n",
      "Epoch 8/80\n",
      "4000/4000 [==============================] - 1s 243us/step - loss: 0.7664 - acc: 0.6887 - val_loss: 0.7454 - val_acc: 0.7167\n",
      "Epoch 9/80\n",
      "4000/4000 [==============================] - 1s 268us/step - loss: 0.7359 - acc: 0.7065 - val_loss: 0.7275 - val_acc: 0.7175\n",
      "Epoch 10/80\n",
      "4000/4000 [==============================] - 1s 216us/step - loss: 0.7182 - acc: 0.7182 - val_loss: 0.7479 - val_acc: 0.6892\n",
      "Epoch 11/80\n",
      "4000/4000 [==============================] - 1s 261us/step - loss: 0.6947 - acc: 0.7283 - val_loss: 0.7154 - val_acc: 0.7108\n",
      "Epoch 12/80\n",
      "4000/4000 [==============================] - 1s 252us/step - loss: 0.6734 - acc: 0.7420 - val_loss: 0.7272 - val_acc: 0.6950\n",
      "Epoch 13/80\n",
      "4000/4000 [==============================] - 1s 248us/step - loss: 0.6453 - acc: 0.7592 - val_loss: 0.6682 - val_acc: 0.7392\n",
      "Epoch 14/80\n",
      "4000/4000 [==============================] - 1s 230us/step - loss: 0.6300 - acc: 0.7590 - val_loss: 0.7089 - val_acc: 0.7183\n",
      "Epoch 15/80\n",
      "4000/4000 [==============================] - 1s 212us/step - loss: 0.6004 - acc: 0.7825 - val_loss: 0.7071 - val_acc: 0.6983\n",
      "Epoch 16/80\n",
      "4000/4000 [==============================] - 1s 218us/step - loss: 0.5891 - acc: 0.7812 - val_loss: 0.6373 - val_acc: 0.7450\n",
      "Epoch 17/80\n",
      "4000/4000 [==============================] - 1s 220us/step - loss: 0.5717 - acc: 0.7908 - val_loss: 0.6727 - val_acc: 0.7183\n",
      "Epoch 18/80\n",
      "4000/4000 [==============================] - 1s 222us/step - loss: 0.5673 - acc: 0.7943 - val_loss: 0.6841 - val_acc: 0.7275\n",
      "Epoch 19/80\n",
      "4000/4000 [==============================] - 1s 233us/step - loss: 0.5494 - acc: 0.8013 - val_loss: 0.6826 - val_acc: 0.7217\n",
      "Epoch 20/80\n",
      "4000/4000 [==============================] - 1s 247us/step - loss: 0.5329 - acc: 0.8090 - val_loss: 0.6182 - val_acc: 0.7500\n",
      "Epoch 21/80\n",
      "4000/4000 [==============================] - 1s 257us/step - loss: 0.5248 - acc: 0.8120 - val_loss: 0.6361 - val_acc: 0.7475\n",
      "Epoch 22/80\n",
      "4000/4000 [==============================] - 1s 242us/step - loss: 0.4984 - acc: 0.8180 - val_loss: 0.5851 - val_acc: 0.7725\n",
      "Epoch 23/80\n",
      "4000/4000 [==============================] - 1s 264us/step - loss: 0.4874 - acc: 0.8307 - val_loss: 0.5847 - val_acc: 0.7725\n",
      "Epoch 24/80\n",
      "4000/4000 [==============================] - 1s 253us/step - loss: 0.4714 - acc: 0.8357 - val_loss: 0.5726 - val_acc: 0.7808\n",
      "Epoch 25/80\n",
      "4000/4000 [==============================] - 1s 244us/step - loss: 0.4715 - acc: 0.8320 - val_loss: 0.5911 - val_acc: 0.7592\n",
      "Epoch 26/80\n",
      "4000/4000 [==============================] - 1s 260us/step - loss: 0.4633 - acc: 0.8413 - val_loss: 0.5865 - val_acc: 0.7733\n",
      "Epoch 27/80\n",
      "4000/4000 [==============================] - 1s 258us/step - loss: 0.4465 - acc: 0.8465 - val_loss: 0.5713 - val_acc: 0.7767\n",
      "Epoch 28/80\n",
      "4000/4000 [==============================] - 1s 263us/step - loss: 0.4398 - acc: 0.8490 - val_loss: 0.5536 - val_acc: 0.7825\n",
      "Epoch 29/80\n",
      "4000/4000 [==============================] - 1s 262us/step - loss: 0.4289 - acc: 0.8582 - val_loss: 0.5502 - val_acc: 0.7783\n",
      "Epoch 30/80\n",
      "4000/4000 [==============================] - 1s 246us/step - loss: 0.4207 - acc: 0.8588 - val_loss: 0.5772 - val_acc: 0.7717\n",
      "Epoch 31/80\n",
      "4000/4000 [==============================] - 1s 244us/step - loss: 0.4178 - acc: 0.8555 - val_loss: 0.5528 - val_acc: 0.7792\n",
      "Epoch 32/80\n",
      "4000/4000 [==============================] - 1s 227us/step - loss: 0.3967 - acc: 0.8670 - val_loss: 0.5506 - val_acc: 0.7850\n",
      "Epoch 33/80\n",
      "4000/4000 [==============================] - 1s 230us/step - loss: 0.3925 - acc: 0.8680 - val_loss: 0.5689 - val_acc: 0.7742\n",
      "Epoch 34/80\n",
      "4000/4000 [==============================] - 1s 252us/step - loss: 0.3861 - acc: 0.8752 - val_loss: 0.5369 - val_acc: 0.7925\n",
      "Epoch 35/80\n",
      "4000/4000 [==============================] - 1s 225us/step - loss: 0.3805 - acc: 0.8688 - val_loss: 0.5652 - val_acc: 0.7783\n",
      "Epoch 36/80\n",
      "4000/4000 [==============================] - 1s 240us/step - loss: 0.3591 - acc: 0.8782 - val_loss: 0.5277 - val_acc: 0.7917\n",
      "Epoch 37/80\n",
      "4000/4000 [==============================] - 1s 184us/step - loss: 0.3580 - acc: 0.8792 - val_loss: 0.5342 - val_acc: 0.7842\n",
      "Epoch 38/80\n",
      "4000/4000 [==============================] - 1s 184us/step - loss: 0.3597 - acc: 0.8822 - val_loss: 0.5759 - val_acc: 0.7658\n",
      "Epoch 39/80\n",
      "4000/4000 [==============================] - 1s 208us/step - loss: 0.3445 - acc: 0.8880 - val_loss: 0.5197 - val_acc: 0.7992\n",
      "Epoch 40/80\n",
      "4000/4000 [==============================] - 1s 224us/step - loss: 0.3392 - acc: 0.8942 - val_loss: 0.5710 - val_acc: 0.7667\n",
      "Epoch 41/80\n",
      "4000/4000 [==============================] - 1s 269us/step - loss: 0.3354 - acc: 0.8902 - val_loss: 0.5461 - val_acc: 0.7908\n",
      "Epoch 42/80\n",
      "4000/4000 [==============================] - 1s 245us/step - loss: 0.3234 - acc: 0.8975 - val_loss: 0.5349 - val_acc: 0.7917\n",
      "Epoch 43/80\n",
      "4000/4000 [==============================] - 1s 259us/step - loss: 0.3135 - acc: 0.9018 - val_loss: 0.5243 - val_acc: 0.8100\n",
      "Epoch 44/80\n",
      "4000/4000 [==============================] - 1s 233us/step - loss: 0.3168 - acc: 0.8980 - val_loss: 0.5443 - val_acc: 0.7792\n",
      "Epoch 45/80\n",
      "4000/4000 [==============================] - 1s 239us/step - loss: 0.3033 - acc: 0.9035 - val_loss: 0.5450 - val_acc: 0.7775\n",
      "Epoch 46/80\n",
      "4000/4000 [==============================] - 1s 248us/step - loss: 0.3030 - acc: 0.9052 - val_loss: 0.5163 - val_acc: 0.7983\n",
      "Epoch 47/80\n",
      "4000/4000 [==============================] - 1s 241us/step - loss: 0.2962 - acc: 0.9065 - val_loss: 0.5084 - val_acc: 0.7983\n",
      "Epoch 48/80\n",
      "4000/4000 [==============================] - 1s 257us/step - loss: 0.2881 - acc: 0.9090 - val_loss: 0.5303 - val_acc: 0.7808\n",
      "Epoch 49/80\n",
      "4000/4000 [==============================] - 1s 262us/step - loss: 0.2822 - acc: 0.9113 - val_loss: 0.5451 - val_acc: 0.7767\n",
      "Epoch 50/80\n",
      "4000/4000 [==============================] - 1s 262us/step - loss: 0.2774 - acc: 0.9195 - val_loss: 0.5217 - val_acc: 0.7792\n",
      "Epoch 51/80\n",
      "4000/4000 [==============================] - 1s 229us/step - loss: 0.2702 - acc: 0.9215 - val_loss: 0.5349 - val_acc: 0.7825\n",
      "Epoch 52/80\n",
      "4000/4000 [==============================] - 1s 236us/step - loss: 0.2601 - acc: 0.9237 - val_loss: 0.5271 - val_acc: 0.7842\n",
      "Epoch 53/80\n",
      "4000/4000 [==============================] - 1s 222us/step - loss: 0.2598 - acc: 0.9255 - val_loss: 0.5407 - val_acc: 0.7742\n",
      "Epoch 54/80\n",
      "4000/4000 [==============================] - 1s 220us/step - loss: 0.2502 - acc: 0.9285 - val_loss: 0.5252 - val_acc: 0.7867\n",
      "Epoch 55/80\n",
      "4000/4000 [==============================] - 1s 230us/step - loss: 0.2471 - acc: 0.9285 - val_loss: 0.5100 - val_acc: 0.7975\n",
      "Epoch 56/80\n",
      "4000/4000 [==============================] - 1s 229us/step - loss: 0.2401 - acc: 0.9347 - val_loss: 0.5155 - val_acc: 0.8100\n",
      "Epoch 57/80\n",
      "4000/4000 [==============================] - 1s 237us/step - loss: 0.2383 - acc: 0.9338 - val_loss: 0.5267 - val_acc: 0.8067\n",
      "Epoch 58/80\n",
      "4000/4000 [==============================] - 1s 219us/step - loss: 0.2264 - acc: 0.9390 - val_loss: 0.5259 - val_acc: 0.7833\n",
      "Epoch 59/80\n",
      "4000/4000 [==============================] - 1s 254us/step - loss: 0.2238 - acc: 0.9400 - val_loss: 0.4972 - val_acc: 0.8142\n",
      "Epoch 60/80\n",
      "4000/4000 [==============================] - 1s 209us/step - loss: 0.2268 - acc: 0.9345 - val_loss: 0.5060 - val_acc: 0.8033\n",
      "Epoch 61/80\n",
      "4000/4000 [==============================] - 1s 255us/step - loss: 0.2241 - acc: 0.9357 - val_loss: 0.5093 - val_acc: 0.7875\n",
      "Epoch 62/80\n",
      "4000/4000 [==============================] - 1s 216us/step - loss: 0.2144 - acc: 0.9410 - val_loss: 0.4997 - val_acc: 0.8108\n",
      "Epoch 63/80\n",
      "4000/4000 [==============================] - 1s 202us/step - loss: 0.2101 - acc: 0.9427 - val_loss: 0.4988 - val_acc: 0.8050\n",
      "Epoch 64/80\n",
      "4000/4000 [==============================] - 1s 221us/step - loss: 0.2087 - acc: 0.9430 - val_loss: 0.4990 - val_acc: 0.8167\n",
      "Epoch 65/80\n",
      "4000/4000 [==============================] - 1s 229us/step - loss: 0.2026 - acc: 0.9490 - val_loss: 0.5152 - val_acc: 0.7933\n",
      "Epoch 66/80\n",
      "4000/4000 [==============================] - 1s 232us/step - loss: 0.1991 - acc: 0.9487 - val_loss: 0.5393 - val_acc: 0.8083\n",
      "Epoch 67/80\n",
      "4000/4000 [==============================] - 1s 235us/step - loss: 0.1948 - acc: 0.9537 - val_loss: 0.5868 - val_acc: 0.7642\n",
      "Epoch 68/80\n",
      "4000/4000 [==============================] - 1s 229us/step - loss: 0.1905 - acc: 0.9472 - val_loss: 0.5445 - val_acc: 0.7767\n",
      "Epoch 69/80\n",
      "4000/4000 [==============================] - 1s 248us/step - loss: 0.1906 - acc: 0.9505 - val_loss: 0.5232 - val_acc: 0.7975\n",
      "Epoch 70/80\n",
      "4000/4000 [==============================] - 1s 228us/step - loss: 0.1807 - acc: 0.9573 - val_loss: 0.4986 - val_acc: 0.8042\n",
      "Epoch 71/80\n",
      "4000/4000 [==============================] - 1s 262us/step - loss: 0.1787 - acc: 0.9557 - val_loss: 0.4982 - val_acc: 0.8158\n",
      "Epoch 72/80\n",
      "4000/4000 [==============================] - 1s 223us/step - loss: 0.1741 - acc: 0.9603 - val_loss: 0.5114 - val_acc: 0.7967\n",
      "Epoch 73/80\n",
      "4000/4000 [==============================] - 1s 257us/step - loss: 0.1780 - acc: 0.9527 - val_loss: 0.5160 - val_acc: 0.8083\n",
      "Epoch 74/80\n",
      "4000/4000 [==============================] - 1s 226us/step - loss: 0.1702 - acc: 0.9607 - val_loss: 0.4967 - val_acc: 0.8017\n",
      "Epoch 75/80\n",
      "4000/4000 [==============================] - 1s 248us/step - loss: 0.1629 - acc: 0.9637 - val_loss: 0.5100 - val_acc: 0.8000\n",
      "Epoch 76/80\n",
      "4000/4000 [==============================] - 1s 237us/step - loss: 0.1607 - acc: 0.9630 - val_loss: 0.4941 - val_acc: 0.7992\n",
      "Epoch 77/80\n",
      "4000/4000 [==============================] - 1s 243us/step - loss: 0.1581 - acc: 0.9655 - val_loss: 0.5011 - val_acc: 0.8067\n",
      "Epoch 78/80\n",
      "4000/4000 [==============================] - 1s 248us/step - loss: 0.1570 - acc: 0.9667 - val_loss: 0.5059 - val_acc: 0.7883\n",
      "Epoch 79/80\n",
      "4000/4000 [==============================] - 1s 219us/step - loss: 0.1515 - acc: 0.9630 - val_loss: 0.4983 - val_acc: 0.7992\n",
      "Epoch 80/80\n",
      "4000/4000 [==============================] - 1s 261us/step - loss: 0.1491 - acc: 0.9670 - val_loss: 0.5263 - val_acc: 0.7967\n"
     ]
    }
   ],
   "source": [
    "#Para la compilación usaremos el optimizador RMSprop ya que termina la red con una sola\n",
    "#unidad sigmoidea, cómo función de pérdida se utiliza la entropia cruzada binaria\n",
    "\n",
    "top_model.compile(loss = 'categorical_crossentropy', \n",
    "              optimizer = optimizers.RMSprop(lr=2e-5), \n",
    "              metrics = ['acc'])\n",
    "\n",
    "epochs = 80\n",
    "\n",
    "history = top_model.fit(\n",
    "    train_features,\n",
    "    train_labels,  \n",
    "    batch_size = batch_size,\n",
    "    epochs = epochs, \n",
    "    verbose = 1, \n",
    "    validation_data = (validation_features, validation_labels))\n",
    "\n"
   ]
  },
  {
   "cell_type": "code",
   "execution_count": 9,
   "metadata": {
    "collapsed": true
   },
   "outputs": [],
   "source": [
    "top_model.save('Fast_Extraction_VGG19_3.h5')"
   ]
  },
  {
   "cell_type": "raw",
   "metadata": {},
   "source": [
    "Guardamos el modelo"
   ]
  },
  {
   "cell_type": "raw",
   "metadata": {},
   "source": [
    "Graficamos la Exactitud y la pérdida del modelo"
   ]
  },
  {
   "cell_type": "code",
   "execution_count": 11,
   "metadata": {},
   "outputs": [
    {
     "data": {
      "image/png": "[encoded data removed]",
      "text/plain": [
       "<matplotlib.figure.Figure at 0x7fb04d5b90b8>"
      ]
     },
     "metadata": {},
     "output_type": "display_data"
    },
    {
     "data": {
      "image/png": "[encoded data removed]",
      "text/plain": [
       "<matplotlib.figure.Figure at 0x7fb04d282668>"
      ]
     },
     "metadata": {},
     "output_type": "display_data"
    }
   ],
   "source": [
    "#Mostramos otros graficos \n",
    "import matplotlib.pyplot as plt\n",
    "\n",
    "acc = history.history['acc']\n",
    "val_acc = history.history['val_acc']\n",
    "loss = history.history['loss']\n",
    "val_loss = history.history['val_loss']\n",
    "\n",
    "epochs = range(1, len(acc)+ 1)\n",
    "\n",
    "plt.plot(epochs, acc, 'bo', label='Training acc')\n",
    "plt.plot(epochs, val_acc, 'b', label='Validation acc')\n",
    "#plt.tittle('Trainning and validation accuracy')\n",
    "plt.legend()\n",
    "\n",
    "plt.figure()\n",
    "plt.plot(epochs, loss, 'bo', label='Training loss')\n",
    "plt.plot(epochs, val_loss, 'b', label='Validation loss')\n",
    "#plt.tittle('Trainning and validation loss')\n",
    "plt.legend()\n",
    "\n",
    "plt.show()"
   ]
  },
  {
   "cell_type": "code",
   "execution_count": 12,
   "metadata": {},
   "outputs": [
    {
     "name": "stdout",
     "output_type": "stream",
     "text": [
      "1200/1200 [==============================] - 0s 173us/step\n"
     ]
    },
    {
     "data": {
      "text/plain": [
       "[0.5869755746920904, 0.7791666666666667]"
      ]
     },
     "execution_count": 12,
     "metadata": {},
     "output_type": "execute_result"
    }
   ],
   "source": [
    "top_model.evaluate(test_features, test_labels)"
   ]
  },
  {
   "cell_type": "code",
   "execution_count": null,
   "metadata": {
    "collapsed": true
   },
   "outputs": [],
   "source": []
  }
 ],
 "metadata": {
  "kernelspec": {
   "display_name": "Python 3",
   "language": "python",
   "name": "python3"
  },
  "language_info": {
   "codemirror_mode": {
    "name": "ipython",
    "version": 3
   },
   "file_extension": ".py",
   "mimetype": "text/x-python",
   "name": "python",
   "nbconvert_exporter": "python",
   "pygments_lexer": "ipython3",
   "version": "3.6.3"
  }
 },
 "nbformat": 4,
 "nbformat_minor": 2
}
