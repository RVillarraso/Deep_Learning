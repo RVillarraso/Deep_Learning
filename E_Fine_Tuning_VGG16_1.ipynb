{
 "cells": [
  {
   "cell_type": "raw",
   "metadata": {},
   "source": [
    "Entreno de un ConvNet VGG16 preentrenado con Imagenet y\n",
    "entrenando conjunto de datos pequeño y FINE TUNING\n",
    "Conjunto de datos de 4 clases\n",
    "Utilizaremos un conjunto de datos reducido:\n",
    "- Conjunto de entrenamiento: 1.000 muestras x clase \n",
    "- Conjunto de validación: 300 muestras x clase\n",
    "- Conjunto de test: 300 muestras x clase\n",
    "El conjunto de datos: balanced_dataset\n",
    "contiene tres carpetas, train, validation y test, cada una con 4 clases"
   ]
  },
  {
   "cell_type": "code",
   "execution_count": 1,
   "metadata": {},
   "outputs": [
    {
     "name": "stderr",
     "output_type": "stream",
     "text": [
      "/usr/local/lib/python3.5/dist-packages/h5py/__init__.py:36: FutureWarning: Conversion of the second argument of issubdtype from `float` to `np.floating` is deprecated. In future, it will be treated as `np.float64 == np.dtype(float).type`.\n",
      "  from ._conv import register_converters as _register_converters\n",
      "Using TensorFlow backend.\n"
     ]
    }
   ],
   "source": [
    "from  keras  import  applications\n",
    "from  keras.preprocessing.image  import  ImageDataGenerator \n",
    "from keras.optimizers import SGD\n",
    "from  keras.models  import  Sequential,  Model\n",
    "from  keras.applications.vgg16 import VGG16 \n",
    "from  keras.layers  import  Dropout,  Flatten,  Dense, Input \n",
    "top_model_weights_path  =  'VGG16_FE_model_1.h5'\n",
    "\n",
    "img_width = 224\n",
    "img_height = 224\n",
    "\n",
    "nb_epochs = 30\n",
    "batch_size  =  64  #  reduce  to  5  in  order  to  be  able  to  compute  the  calcs\n",
    "\n",
    "train_dir  =  \"balanced_dataset/train\" \n",
    "validation_dir = \"balanced_dataset/validation\" \n",
    "test_dir  =  \"balanced_dataset/test\"\n",
    "\n",
    "nb_train = 4000\n",
    "nb_validation = 1200\n",
    "nb_test = 1200\n",
    "nb_classes = 4\n"
   ]
  },
  {
   "cell_type": "code",
   "execution_count": 2,
   "metadata": {
    "collapsed": true
   },
   "outputs": [],
   "source": [
    "input_tensor = Input(shape=(img_width, img_height, 3))  #  another  way  to  shape  the  input\n",
    "\n",
    "base_model = applications.VGG16(\n",
    "    weights='imagenet',  \n",
    "    include_top=False, \n",
    "    input_tensor=input_tensor)"
   ]
  },
  {
   "cell_type": "code",
   "execution_count": 3,
   "metadata": {},
   "outputs": [
    {
     "name": "stderr",
     "output_type": "stream",
     "text": [
      "/usr/local/lib/python3.5/dist-packages/ipykernel_launcher.py:12: UserWarning: Update your `Model` call to the Keras 2 API: `Model(inputs=Tensor(\"in..., outputs=Tensor(\"se...)`\n",
      "  if sys.path[0] == '':\n"
     ]
    }
   ],
   "source": [
    "# top model\n",
    "top_model = Sequential() \n",
    "top_model.add(Flatten(input_shape=base_model.output_shape[1:])) \n",
    "top_model.add(Dense(256,  activation='relu')) \n",
    "top_model.add(Dropout(0.5))\n",
    "top_model.add(Dense(nb_classes,  activation='softmax'))\n",
    "\n",
    "# base model has its weights, now we load the weights on the top layer \n",
    "top_model.load_weights(\"VGG/VGG16_FE_model_1.h5\")\n",
    "\n",
    "# we join base and top it has to be updated to api2\n",
    "model_total  =  Model(input = base_model.input,  output = top_model(base_model.output))"
   ]
  },
  {
   "cell_type": "code",
   "execution_count": 15,
   "metadata": {},
   "outputs": [
    {
     "name": "stdout",
     "output_type": "stream",
     "text": [
      "_________________________________________________________________\n",
      "Layer (type)                 Output Shape              Param #   \n",
      "=================================================================\n",
      "input_1 (InputLayer)         (None, 224, 224, 3)       0         \n",
      "_________________________________________________________________\n",
      "block1_conv1 (Conv2D)        (None, 224, 224, 64)      1792      \n",
      "_________________________________________________________________\n",
      "block1_conv2 (Conv2D)        (None, 224, 224, 64)      36928     \n",
      "_________________________________________________________________\n",
      "block1_pool (MaxPooling2D)   (None, 112, 112, 64)      0         \n",
      "_________________________________________________________________\n",
      "block2_conv1 (Conv2D)        (None, 112, 112, 128)     73856     \n",
      "_________________________________________________________________\n",
      "block2_conv2 (Conv2D)        (None, 112, 112, 128)     147584    \n",
      "_________________________________________________________________\n",
      "block2_pool (MaxPooling2D)   (None, 56, 56, 128)       0         \n",
      "_________________________________________________________________\n",
      "block3_conv1 (Conv2D)        (None, 56, 56, 256)       295168    \n",
      "_________________________________________________________________\n",
      "block3_conv2 (Conv2D)        (None, 56, 56, 256)       590080    \n",
      "_________________________________________________________________\n",
      "block3_conv3 (Conv2D)        (None, 56, 56, 256)       590080    \n",
      "_________________________________________________________________\n",
      "block3_pool (MaxPooling2D)   (None, 28, 28, 256)       0         \n",
      "_________________________________________________________________\n",
      "block4_conv1 (Conv2D)        (None, 28, 28, 512)       1180160   \n",
      "_________________________________________________________________\n",
      "block4_conv2 (Conv2D)        (None, 28, 28, 512)       2359808   \n",
      "_________________________________________________________________\n",
      "block4_conv3 (Conv2D)        (None, 28, 28, 512)       2359808   \n",
      "_________________________________________________________________\n",
      "block4_pool (MaxPooling2D)   (None, 14, 14, 512)       0         \n",
      "_________________________________________________________________\n",
      "block5_conv1 (Conv2D)        (None, 14, 14, 512)       2359808   \n",
      "_________________________________________________________________\n",
      "block5_conv2 (Conv2D)        (None, 14, 14, 512)       2359808   \n",
      "_________________________________________________________________\n",
      "block5_conv3 (Conv2D)        (None, 14, 14, 512)       2359808   \n",
      "_________________________________________________________________\n",
      "block5_pool (MaxPooling2D)   (None, 7, 7, 512)         0         \n",
      "_________________________________________________________________\n",
      "sequential_1 (Sequential)    (None, 4)                 6423812   \n",
      "=================================================================\n",
      "Total params: 21,138,500\n",
      "Trainable params: 13,503,236\n",
      "Non-trainable params: 7,635,264\n",
      "_________________________________________________________________\n"
     ]
    }
   ],
   "source": [
    "model_total.summary()"
   ]
  },
  {
   "cell_type": "code",
   "execution_count": 6,
   "metadata": {},
   "outputs": [
    {
     "name": "stdout",
     "output_type": "stream",
     "text": [
      "0 input_1 (None, 224, 224, 3)\n",
      "1 block1_conv1 (None, 224, 224, 64)\n",
      "2 block1_conv2 (None, 224, 224, 64)\n",
      "3 block1_pool (None, 112, 112, 64)\n",
      "4 block2_conv1 (None, 112, 112, 128)\n",
      "5 block2_conv2 (None, 112, 112, 128)\n",
      "6 block2_pool (None, 56, 56, 128)\n",
      "7 block3_conv1 (None, 56, 56, 256)\n",
      "8 block3_conv2 (None, 56, 56, 256)\n",
      "9 block3_conv3 (None, 56, 56, 256)\n",
      "10 block3_pool (None, 28, 28, 256)\n",
      "11 block4_conv1 (None, 28, 28, 512)\n",
      "12 block4_conv2 (None, 28, 28, 512)\n",
      "13 block4_conv3 (None, 28, 28, 512)\n",
      "14 block4_pool (None, 14, 14, 512)\n",
      "15 block5_conv1 (None, 14, 14, 512)\n",
      "16 block5_conv2 (None, 14, 14, 512)\n",
      "17 block5_conv3 (None, 14, 14, 512)\n",
      "18 block5_pool (None, 7, 7, 512)\n",
      "19 sequential_1 (None, 4)\n",
      "layer 0,input_1 is freezed\n",
      "layer 1,block1_conv1 is freezed\n",
      "layer 2,block1_conv2 is freezed\n",
      "layer 3,block1_pool is freezed\n",
      "layer 4,block2_conv1 is freezed\n",
      "layer 5,block2_conv2 is freezed\n",
      "layer 6,block2_pool is freezed\n",
      "layer 7,block3_conv1 is freezed\n",
      "layer 8,block3_conv2 is freezed\n",
      "layer 9,block3_conv3 is freezed\n",
      "layer 10,block3_pool is freezed\n",
      "layer 11,block4_conv1 is freezed\n",
      "layer 12,block4_conv2 is freezed\n",
      "layer 13,block4_conv3 is freezed\n",
      "layer 14,block4_pool is freezed\n",
      "layer 15,block5_conv1 is trainable\n",
      "layer 16,block5_conv2 is trainable\n",
      "layer 17,block5_conv3 is trainable\n",
      "layer 18,block5_pool is trainable\n",
      "layer 19,sequential_1 is trainable\n",
      "layer 0, input_1 is freezed\n",
      "layer 1, block1_conv1 is freezed\n",
      "layer 2, block1_conv2 is freezed\n",
      "layer 3, block1_pool is freezed\n",
      "layer 4, block2_conv1 is freezed\n",
      "layer 5, block2_conv2 is freezed\n",
      "layer 6, block2_pool is freezed\n",
      "layer 7, block3_conv1 is freezed\n",
      "layer 8, block3_conv2 is freezed\n",
      "layer 9, block3_conv3 is freezed\n",
      "layer 10, block3_pool is freezed\n",
      "layer 11, block4_conv1 is freezed\n",
      "layer 12, block4_conv2 is freezed\n",
      "layer 13, block4_conv3 is freezed\n",
      "layer 14, block4_pool is freezed\n",
      "layer 15, block5_conv1 is trainable\n",
      "layer 16, block5_conv2 is trainable\n",
      "layer 17, block5_conv3 is trainable\n",
      "layer 18, block5_pool is trainable\n",
      "layer 19, sequential_1 is trainable\n"
     ]
    }
   ],
   "source": [
    "#  sequential  is  the  top  layer  a  complex  one \n",
    "for i, layer in enumerate(model_total.layers):\n",
    "    print  (i, layer.name, layer.output_shape)\n",
    "\n",
    "for i, layer in enumerate(model_total.layers): \n",
    "    if  layer.trainable:\n",
    "        print(\"layer {0:d},{1:s} is trainable\".format(i, layer.name)) \n",
    "    else:\n",
    "        print(\"layer {0:d},{1:s} is freezed\".format(i, layer.name))\n",
    "\n",
    "# freezing layers implies they will not update their weights over the training \n",
    "for  layer  in  model_total.layers[:4]: #15\n",
    "    layer.trainable = False\n",
    "\n",
    "# check for updates\n",
    "for i, layer  in enumerate(model_total.layers): \n",
    "    if layer.trainable:\n",
    "        print(\"layer {0:d}, {1:s} is trainable\".format(i, layer.name)) \n",
    "    else:\n",
    "        print(\"layer {0:d}, {1:s} is freezed\".format(i, layer.name))\n"
   ]
  },
  {
   "cell_type": "code",
   "execution_count": 7,
   "metadata": {},
   "outputs": [
    {
     "name": "stdout",
     "output_type": "stream",
     "text": [
      "Found 4000 images belonging to 4 classes.\n",
      "Found 1200 images belonging to 4 classes.\n",
      "Found 1200 images belonging to 4 classes.\n"
     ]
    }
   ],
   "source": [
    "#PREPROCESSING + DATA AUGMENTATION\n",
    "train_datagen = ImageDataGenerator(\n",
    "    rescale=1./255, \n",
    "    rotation_range=40, \n",
    "    width_shift_range=0.2, \n",
    "    height_shift_range=0.2, \n",
    "    zoom_range=0.2, \n",
    "    horizontal_flip=True, \n",
    "    vertical_flip  =  True, \n",
    "    fill_mode='nearest')\n",
    "\n",
    "train_generator = train_datagen.flow_from_directory( \n",
    "    train_dir, \n",
    "    target_size=(img_width,img_height), \n",
    "    batch_size=batch_size, \n",
    "    class_mode='categorical')\n",
    "\n",
    "test_datagen  =  ImageDataGenerator(rescale=1. / 255)  #  not  in  the  val  data \n",
    "\n",
    "validation_generator = test_datagen.flow_from_directory(\n",
    "    validation_dir,\n",
    "    target_size=(img_height, img_width), \n",
    "    batch_size=batch_size, \n",
    "    class_mode='categorical')\n",
    "\n",
    "test_generator = test_datagen.flow_from_directory(\n",
    "    test_dir,\n",
    "    target_size=(img_height, img_width), \n",
    "    batch_size=batch_size, \n",
    "    class_mode='categorical')\n"
   ]
  },
  {
   "cell_type": "code",
   "execution_count": 8,
   "metadata": {
    "collapsed": true
   },
   "outputs": [],
   "source": [
    "#Compile model\n",
    "model_total.compile(optimizer=SGD(lr=1e-4,  momentum=0.9), \n",
    "                    loss='categorical_crossentropy',  \n",
    "                    metrics=['accuracy'])"
   ]
  },
  {
   "cell_type": "code",
   "execution_count": 9,
   "metadata": {},
   "outputs": [
    {
     "name": "stderr",
     "output_type": "stream",
     "text": [
      "/usr/local/lib/python3.5/dist-packages/ipykernel_launcher.py:8: UserWarning: Update your `fit_generator` call to the Keras 2 API: `fit_generator(<keras.pre..., verbose=1, validation_data=<keras.pre..., validation_steps=1200, epochs=30, steps_per_epoch=62)`\n",
      "  \n"
     ]
    },
    {
     "name": "stdout",
     "output_type": "stream",
     "text": [
      "Epoch 1/30\n",
      "62/62 [==============================] - 620s 10s/step - loss: 0.9436 - acc: 0.6318 - val_loss: 0.5477 - val_acc: 0.7835\n",
      "Epoch 2/30\n",
      "62/62 [==============================] - 617s 10s/step - loss: 0.7042 - acc: 0.7160 - val_loss: 0.4777 - val_acc: 0.8050\n",
      "Epoch 3/30\n",
      "62/62 [==============================] - 621s 10s/step - loss: 0.6400 - acc: 0.7470 - val_loss: 0.4507 - val_acc: 0.8268\n",
      "Epoch 4/30\n",
      "62/62 [==============================] - 618s 10s/step - loss: 0.6140 - acc: 0.7548 - val_loss: 0.4281 - val_acc: 0.8125\n",
      "Epoch 5/30\n",
      "62/62 [==============================] - 617s 10s/step - loss: 0.5893 - acc: 0.7689 - val_loss: 0.4638 - val_acc: 0.8191\n",
      "Epoch 6/30\n",
      "62/62 [==============================] - 617s 10s/step - loss: 0.5486 - acc: 0.7921 - val_loss: 0.3929 - val_acc: 0.8442\n",
      "Epoch 7/30\n",
      "62/62 [==============================] - 615s 10s/step - loss: 0.5589 - acc: 0.7765 - val_loss: 0.3973 - val_acc: 0.8468\n",
      "Epoch 8/30\n",
      "62/62 [==============================] - 614s 10s/step - loss: 0.4949 - acc: 0.8029 - val_loss: 0.4086 - val_acc: 0.8524\n",
      "Epoch 9/30\n",
      "62/62 [==============================] - 614s 10s/step - loss: 0.5043 - acc: 0.8085 - val_loss: 0.5005 - val_acc: 0.8125\n",
      "Epoch 10/30\n",
      "62/62 [==============================] - 613s 10s/step - loss: 0.5087 - acc: 0.7944 - val_loss: 0.5113 - val_acc: 0.7917\n",
      "Epoch 11/30\n",
      "62/62 [==============================] - 611s 10s/step - loss: 0.4920 - acc: 0.8075 - val_loss: 0.3597 - val_acc: 0.8551\n",
      "Epoch 12/30\n",
      "62/62 [==============================] - 610s 10s/step - loss: 0.4491 - acc: 0.8208 - val_loss: 0.3323 - val_acc: 0.8650\n",
      "Epoch 13/30\n",
      "62/62 [==============================] - 609s 10s/step - loss: 0.4662 - acc: 0.8183 - val_loss: 0.3203 - val_acc: 0.8816\n",
      "Epoch 14/30\n",
      "62/62 [==============================] - 607s 10s/step - loss: 0.4210 - acc: 0.8420 - val_loss: 0.3759 - val_acc: 0.8567\n",
      "Epoch 15/30\n",
      "62/62 [==============================] - 608s 10s/step - loss: 0.4452 - acc: 0.8301 - val_loss: 0.4013 - val_acc: 0.8493\n",
      "Epoch 16/30\n",
      "62/62 [==============================] - 609s 10s/step - loss: 0.4465 - acc: 0.8226 - val_loss: 0.3142 - val_acc: 0.8808\n",
      "Epoch 17/30\n",
      "62/62 [==============================] - 611s 10s/step - loss: 0.4189 - acc: 0.8422 - val_loss: 0.3883 - val_acc: 0.8641\n",
      "Epoch 18/30\n",
      "62/62 [==============================] - 607s 10s/step - loss: 0.4051 - acc: 0.8435 - val_loss: 0.3783 - val_acc: 0.8642\n",
      "Epoch 19/30\n",
      "62/62 [==============================] - 608s 10s/step - loss: 0.3969 - acc: 0.8468 - val_loss: 0.3042 - val_acc: 0.8900\n",
      "Epoch 20/30\n",
      "62/62 [==============================] - 608s 10s/step - loss: 0.4007 - acc: 0.8395 - val_loss: 0.3884 - val_acc: 0.8592\n",
      "Epoch 21/30\n",
      "62/62 [==============================] - 608s 10s/step - loss: 0.3843 - acc: 0.8569 - val_loss: 0.3087 - val_acc: 0.8776\n",
      "Epoch 22/30\n",
      "62/62 [==============================] - 606s 10s/step - loss: 0.3760 - acc: 0.8571 - val_loss: 0.3921 - val_acc: 0.8625\n",
      "Epoch 23/30\n",
      "62/62 [==============================] - 609s 10s/step - loss: 0.3957 - acc: 0.8480 - val_loss: 0.3027 - val_acc: 0.8833\n",
      "Epoch 24/30\n",
      "62/62 [==============================] - 608s 10s/step - loss: 0.3689 - acc: 0.8566 - val_loss: 0.2897 - val_acc: 0.8875\n",
      "Epoch 25/30\n",
      "62/62 [==============================] - 610s 10s/step - loss: 0.3561 - acc: 0.8637 - val_loss: 0.2575 - val_acc: 0.8967\n",
      "Epoch 26/30\n",
      "62/62 [==============================] - 607s 10s/step - loss: 0.3464 - acc: 0.8702 - val_loss: 0.3684 - val_acc: 0.8650\n",
      "Epoch 27/30\n",
      "62/62 [==============================] - 609s 10s/step - loss: 0.3508 - acc: 0.8647 - val_loss: 0.2800 - val_acc: 0.8934\n",
      "Epoch 28/30\n",
      "62/62 [==============================] - 608s 10s/step - loss: 0.3254 - acc: 0.8730 - val_loss: 0.2718 - val_acc: 0.8966\n",
      "Epoch 29/30\n",
      "62/62 [==============================] - 611s 10s/step - loss: 0.3577 - acc: 0.8596 - val_loss: 0.2848 - val_acc: 0.8941\n",
      "Epoch 30/30\n",
      "62/62 [==============================] - 609s 10s/step - loss: 0.3465 - acc: 0.8677 - val_loss: 0.3225 - val_acc: 0.8858\n"
     ]
    }
   ],
   "source": [
    "#Fit model\n",
    "history = model_total.fit_generator( \n",
    "    train_generator, \n",
    "    samples_per_epoch=nb_train, \n",
    "    epochs=nb_epochs,\n",
    "    verbose  =  1, \n",
    "    validation_data=validation_generator, \n",
    "    validation_steps=nb_validation)"
   ]
  },
  {
   "cell_type": "code",
   "execution_count": 10,
   "metadata": {
    "collapsed": true
   },
   "outputs": [],
   "source": [
    "model_total.save_weights('VGG/VGG16_FT_model_1.h5')"
   ]
  },
  {
   "cell_type": "code",
   "execution_count": 11,
   "metadata": {
    "collapsed": true
   },
   "outputs": [],
   "source": [
    "def print_graphics (history):\n",
    "    import  matplotlib.pyplot  as  plt\n",
    "    #Mostramos otro tipo de grafico\n",
    "    acc = history.history['acc']\n",
    "    val_acc = history.history['val_acc']\n",
    "    loss = history.history['loss']\n",
    "    val_loss = history.history['val_loss']\n",
    "\n",
    "    epochs = range(1, len(acc)+ 1)\n",
    "\n",
    "    plt.plot(epochs, acc, 'bo', label='Training acc')\n",
    "    plt.plot(epochs, val_acc, 'b', label='Validation acc')\n",
    "    #plt.tittle('Trainning and validation accuracy')\n",
    "    plt.legend()\n",
    "\n",
    "    plt.figure()\n",
    "    plt.plot(epochs, loss, 'bo', label='Training loss')\n",
    "    plt.plot(epochs, val_loss, 'b', label='Validation loss')\n",
    "    #plt.tittle('Trainning and validation loss')\n",
    "    plt.legend()\n",
    "\n",
    "    plt.show()"
   ]
  },
  {
   "cell_type": "code",
   "execution_count": 13,
   "metadata": {},
   "outputs": [
    {
     "data": {
      "image/png": "[encoded data removed]",
      "text/plain": [
       "<matplotlib.figure.Figure at 0x7fd5b5c6e518>"
      ]
     },
     "metadata": {},
     "output_type": "display_data"
    },
    {
     "data": {
      "image/png": "[encoded data removed]",
      "text/plain": [
       "<matplotlib.figure.Figure at 0x7fd5b5c541d0>"
      ]
     },
     "metadata": {},
     "output_type": "display_data"
    }
   ],
   "source": [
    "print_graphics (history)"
   ]
  },
  {
   "cell_type": "code",
   "execution_count": 14,
   "metadata": {},
   "outputs": [
    {
     "data": {
      "text/plain": [
       "[0.3376823564370473, 0.875833334128062]"
      ]
     },
     "execution_count": 14,
     "metadata": {},
     "output_type": "execute_result"
    }
   ],
   "source": [
    "model_total.evaluate_generator(test_generator)"
   ]
  },
  {
   "cell_type": "code",
   "execution_count": 20,
   "metadata": {},
   "outputs": [
    {
     "name": "stdout",
     "output_type": "stream",
     "text": [
      "Found 1200 images belonging to 4 classes.\n",
      "acc:  87.58%  -  loss:  0.337682\n"
     ]
    }
   ],
   "source": [
    "#Borrar\n",
    "import math\n",
    "import numpy as np \n",
    "import os\n",
    "\n",
    "test_generator = test_datagen.flow_from_directory(\n",
    "    test_dir,\n",
    "    target_size=(img_width,img_height), \n",
    "    batch_size=batch_size,\n",
    "    shuffle  =False, \n",
    "    class_mode='categorical')\n",
    "\n",
    "steps = int(math.ceil(nb_test / batch_size))\n",
    "\n",
    "(loss, acc) = model_total.evaluate_generator(test_generator, steps=steps) \n",
    "print(\"acc:  {0:.2f}%  -  loss:  {1:f}\".format(acc  *  100,  loss))\n",
    "predictions = model_total.predict_generator(test_generator, steps = steps) \n",
    "from  sklearn.metrics  import  confusion_matrix\n",
    "\n",
    "#################\n",
    "      \n",
    "PATH_TO_IMG  =  \"VGG\"\n",
    "\n",
    "prediction_list = [] \n",
    "real_label_list = []\n",
    " \n",
    "cat_dict  =  test_generator.class_indices  #  the  key  attribute\n",
    "inverse_coding  =  {value:  key  for  key,  value  in  cat_dict.items()}  #  dict  of  categories\n",
    "\n",
    "for label in test_generator.classes: \n",
    "      real_label_list.append(inverse_coding[label])\n",
    "\n",
    "for  prediction  in  predictions: \n",
    "      prediction_list.append(inverse_coding[np.argmax(prediction)])\n",
    "\n",
    "#  in  order  to  get  the  confusion  matrix\n",
    "class_names  =  sorted([folder  for  folder  in  os.listdir(PATH_TO_IMG)\n",
    "    if os.path.isdir(os.path.join(PATH_TO_IMG, folder))]) \n",
    "      \n",
    "prediction_list_arr = np.array(prediction_list)\n",
    "real_label_list_arr   =   np.array(real_label_list)\n",
    "\n",
    "VGG16_cm_ft = confusion_matrix(real_label_list_arr,prediction_list_arr)\n"
   ]
  },
  {
   "cell_type": "code",
   "execution_count": 21,
   "metadata": {
    "collapsed": true
   },
   "outputs": [],
   "source": [
    "# reference http://scikit- learn.org/stable/auto_examples/model_selection/plot_confusion_matrix.html \n",
    "import  itertools\n",
    "import  matplotlib.pyplot  as  plt\n",
    "\n",
    "def  plot_confusion_matrix(cm,  classes,  normalize=False,  title='Confusion  matrix', cmap=plt.cm.Blues):\n",
    "#\"\"\"\n",
    "#This function prints and plots the confusion matrix. Normalization can be applied by setting `normalize=True`. \"\"\"\n",
    "    if  normalize:\n",
    "        cm  =  cm.astype('float') / cm.sum(axis=1)[:, np.newaxis]\n",
    "\n",
    "    plt.imshow(cm,  interpolation='nearest',  cmap=cmap) \n",
    "    plt.title(title)\n",
    "    plt.colorbar()\n",
    "    tick_marks = np.arange(len(classes)) \n",
    "    plt.xticks(tick_marks, classes,  rotation=45) \n",
    "    plt.yticks(tick_marks, classes)\n",
    "\n",
    "    fmt = '.2f' if  normalize else 'd' \n",
    "    thresh = cm.max() / 2.\n",
    "    for i, j in  itertools.product(range(cm.shape[0]), range(cm.shape[1])): \n",
    "        plt.text(j,  i,  format(cm[i, j],  fmt),\n",
    "            horizontalalignment=\"center\",\n",
    "            color=\"white\" if cm[i, j] > thresh else \"black\")\n",
    "\n",
    "    plt.tight_layout()\n",
    "    plt.ylabel('True  label',size=20) \n",
    "    plt.xlabel('Predicted  label',size=20)"
   ]
  },
  {
   "cell_type": "code",
   "execution_count": 22,
   "metadata": {},
   "outputs": [
    {
     "data": {
      "image/png": "[encoded data removed]",
      "text/plain": [
       "<matplotlib.figure.Figure at 0x7fd5b53d4a20>"
      ]
     },
     "metadata": {},
     "output_type": "display_data"
    }
   ],
   "source": [
    "fig  =  plt.figure(figsize=(20, 6)) \n",
    "fig.add_subplot(1,2,1) \n",
    "      \n",
    "plot_confusion_matrix(VGG16_cm_ft, classes=class_names, title='Confusion  matrix,  without  normalization') \n",
    "      \n",
    "fig.add_subplot(1,2,2)\n",
    "plot_confusion_matrix(VGG16_cm_ft, classes=class_names, normalize=True, title='Normalized  confusion  matrix')\n",
    "\n",
    "plt.show()\n"
   ]
  },
  {
   "cell_type": "code",
   "execution_count": null,
   "metadata": {
    "collapsed": true
   },
   "outputs": [],
   "source": []
  }
 ],
 "metadata": {
  "kernelspec": {
   "display_name": "Python 3",
   "language": "python",
   "name": "python3"
  },
  "language_info": {
   "codemirror_mode": {
    "name": "ipython",
    "version": 3
   },
   "file_extension": ".py",
   "mimetype": "text/x-python",
   "name": "python",
   "nbconvert_exporter": "python",
   "pygments_lexer": "ipython3",
   "version": "3.6.3"
  }
 },
 "nbformat": 4,
 "nbformat_minor": 2
}
