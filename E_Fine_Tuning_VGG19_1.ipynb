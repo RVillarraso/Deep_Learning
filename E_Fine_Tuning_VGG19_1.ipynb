{
 "cells": [
  {
   "cell_type": "code",
   "execution_count": null,
   "metadata": {
    "collapsed": true
   },
   "outputs": [],
   "source": [
    "Entreno de un ConvNet VGG19 preentrenado con Imagenet y\n",
    "entrenando conjunto de datos pequeño y FINE TUNING\n",
    "Conjunto de datos de 4 clases\n",
    "Utilizaremos un conjunto de datos reducido:\n",
    "- Conjunto de entrenamiento: 1.000 muestras x clase \n",
    "- Conjunto de validación: 300 muestras x clase\n",
    "- Conjunto de test: 300 muestras x clase\n",
    "El conjunto de datos: balanced_dataset\n",
    "contiene tres carpetas, train, validation y test, cada una con 4 clases"
   ]
  },
  {
   "cell_type": "code",
   "execution_count": 1,
   "metadata": {},
   "outputs": [
    {
     "name": "stderr",
     "output_type": "stream",
     "text": [
      "/usr/local/lib/python3.5/dist-packages/h5py/__init__.py:36: FutureWarning: Conversion of the second argument of issubdtype from `float` to `np.floating` is deprecated. In future, it will be treated as `np.float64 == np.dtype(float).type`.\n",
      "  from ._conv import register_converters as _register_converters\n",
      "Using TensorFlow backend.\n"
     ]
    }
   ],
   "source": [
    "from  keras  import  applications\n",
    "from  keras.preprocessing.image  import  ImageDataGenerator \n",
    "from keras.optimizers import SGD\n",
    "from  keras.applications.vgg19 import VGG19 \n",
    "from  keras.models  import  Sequential,  Model\n",
    "from  keras.layers  import  Dropout,  Flatten,  Dense, Input \n",
    "top_model_weights_path  =  'VGG19_FE_model_3.h5'\n",
    "\n",
    "img_width = 224\n",
    "img_height = 224\n",
    "\n",
    "nb_epochs = 60\n",
    "batch_size  =  64  #  reduce  to  5  in  order  to  be  able  to  compute  the  calcs\n",
    "\n",
    "train_dir  =  \"balanced_dataset/train\" \n",
    "validation_dir = \"balanced_dataset/validation\" \n",
    "test_dir  =  \"balanced_dataset/test\"\n",
    "\n",
    "NB_VGG19_FREEZE_LAYERS = 4\n",
    "nb_train = 4000\n",
    "nb_validation = 1200\n",
    "nb_test = 1200\n",
    "nb_classes = 4\n"
   ]
  },
  {
   "cell_type": "code",
   "execution_count": 2,
   "metadata": {
    "collapsed": true
   },
   "outputs": [],
   "source": [
    "input_tensor = Input(shape=(img_width, img_height, 3))  #  another  way  to  shape  the  input\n",
    "\n",
    "base_model = applications.VGG19(\n",
    "    weights='imagenet',  \n",
    "    include_top=False, \n",
    "    input_tensor=input_tensor)"
   ]
  },
  {
   "cell_type": "code",
   "execution_count": 3,
   "metadata": {},
   "outputs": [
    {
     "name": "stderr",
     "output_type": "stream",
     "text": [
      "/usr/local/lib/python3.5/dist-packages/ipykernel_launcher.py:12: UserWarning: Update your `Model` call to the Keras 2 API: `Model(outputs=Tensor(\"se..., inputs=Tensor(\"in...)`\n",
      "  if sys.path[0] == '':\n"
     ]
    }
   ],
   "source": [
    "# top model\n",
    "top_model = Sequential() \n",
    "top_model.add(Flatten(input_shape=base_model.output_shape[1:])) \n",
    "top_model.add(Dense(256,  activation='relu')) \n",
    "top_model.add(Dropout(0.5))\n",
    "top_model.add(Dense(nb_classes,  activation='softmax'))\n",
    "\n",
    "# base model has its weights, now we load the weights on the top layer \n",
    "top_model.load_weights(\"VGG/VGG19_FE_model_3.h5\")\n",
    "\n",
    "# we join base and top it has to be updated to api2\n",
    "model_total  =  Model(input = base_model.input,  output = top_model(base_model.output))"
   ]
  },
  {
   "cell_type": "code",
   "execution_count": 4,
   "metadata": {},
   "outputs": [
    {
     "name": "stdout",
     "output_type": "stream",
     "text": [
      "_________________________________________________________________\n",
      "Layer (type)                 Output Shape              Param #   \n",
      "=================================================================\n",
      "input_1 (InputLayer)         (None, 224, 224, 3)       0         \n",
      "_________________________________________________________________\n",
      "block1_conv1 (Conv2D)        (None, 224, 224, 64)      1792      \n",
      "_________________________________________________________________\n",
      "block1_conv2 (Conv2D)        (None, 224, 224, 64)      36928     \n",
      "_________________________________________________________________\n",
      "block1_pool (MaxPooling2D)   (None, 112, 112, 64)      0         \n",
      "_________________________________________________________________\n",
      "block2_conv1 (Conv2D)        (None, 112, 112, 128)     73856     \n",
      "_________________________________________________________________\n",
      "block2_conv2 (Conv2D)        (None, 112, 112, 128)     147584    \n",
      "_________________________________________________________________\n",
      "block2_pool (MaxPooling2D)   (None, 56, 56, 128)       0         \n",
      "_________________________________________________________________\n",
      "block3_conv1 (Conv2D)        (None, 56, 56, 256)       295168    \n",
      "_________________________________________________________________\n",
      "block3_conv2 (Conv2D)        (None, 56, 56, 256)       590080    \n",
      "_________________________________________________________________\n",
      "block3_conv3 (Conv2D)        (None, 56, 56, 256)       590080    \n",
      "_________________________________________________________________\n",
      "block3_conv4 (Conv2D)        (None, 56, 56, 256)       590080    \n",
      "_________________________________________________________________\n",
      "block3_pool (MaxPooling2D)   (None, 28, 28, 256)       0         \n",
      "_________________________________________________________________\n",
      "block4_conv1 (Conv2D)        (None, 28, 28, 512)       1180160   \n",
      "_________________________________________________________________\n",
      "block4_conv2 (Conv2D)        (None, 28, 28, 512)       2359808   \n",
      "_________________________________________________________________\n",
      "block4_conv3 (Conv2D)        (None, 28, 28, 512)       2359808   \n",
      "_________________________________________________________________\n",
      "block4_conv4 (Conv2D)        (None, 28, 28, 512)       2359808   \n",
      "_________________________________________________________________\n",
      "block4_pool (MaxPooling2D)   (None, 14, 14, 512)       0         \n",
      "_________________________________________________________________\n",
      "block5_conv1 (Conv2D)        (None, 14, 14, 512)       2359808   \n",
      "_________________________________________________________________\n",
      "block5_conv2 (Conv2D)        (None, 14, 14, 512)       2359808   \n",
      "_________________________________________________________________\n",
      "block5_conv3 (Conv2D)        (None, 14, 14, 512)       2359808   \n",
      "_________________________________________________________________\n",
      "block5_conv4 (Conv2D)        (None, 14, 14, 512)       2359808   \n",
      "_________________________________________________________________\n",
      "block5_pool (MaxPooling2D)   (None, 7, 7, 512)         0         \n",
      "_________________________________________________________________\n",
      "sequential_1 (Sequential)    (None, 4)                 6423812   \n",
      "=================================================================\n",
      "Total params: 26,448,196\n",
      "Trainable params: 26,448,196\n",
      "Non-trainable params: 0\n",
      "_________________________________________________________________\n"
     ]
    }
   ],
   "source": [
    "model_total.summary()"
   ]
  },
  {
   "cell_type": "code",
   "execution_count": 5,
   "metadata": {
    "collapsed": true
   },
   "outputs": [],
   "source": [
    "# Freeze the layers except the last 4 layers\n",
    "for layer in base_model.layers[:-NB_VGG19_FREEZE_LAYERS]:\n",
    "    layer.trainable = False"
   ]
  },
  {
   "cell_type": "code",
   "execution_count": 6,
   "metadata": {},
   "outputs": [
    {
     "name": "stdout",
     "output_type": "stream",
     "text": [
      "<keras.engine.topology.InputLayer object at 0x7f1e45d5b390> False\n",
      "<keras.layers.convolutional.Conv2D object at 0x7f1e45d5b358> False\n",
      "<keras.layers.convolutional.Conv2D object at 0x7f1e45d5b4e0> False\n",
      "<keras.layers.pooling.MaxPooling2D object at 0x7f1e45d5bf98> False\n",
      "<keras.layers.convolutional.Conv2D object at 0x7f1e45d78780> False\n",
      "<keras.layers.convolutional.Conv2D object at 0x7f1e45d8ee48> False\n",
      "<keras.layers.pooling.MaxPooling2D object at 0x7f1e45d30d30> False\n",
      "<keras.layers.convolutional.Conv2D object at 0x7f1e45d415f8> False\n",
      "<keras.layers.convolutional.Conv2D object at 0x7f1e45d51e80> False\n",
      "<keras.layers.convolutional.Conv2D object at 0x7f1e45d04240> False\n",
      "<keras.layers.convolutional.Conv2D object at 0x7f1e45cf49b0> False\n",
      "<keras.layers.pooling.MaxPooling2D object at 0x7f1e45d15630> False\n",
      "<keras.layers.convolutional.Conv2D object at 0x7f1e45cc7630> False\n",
      "<keras.layers.convolutional.Conv2D object at 0x7f1e45cc7f60> False\n",
      "<keras.layers.convolutional.Conv2D object at 0x7f1e45c69fd0> False\n",
      "<keras.layers.convolutional.Conv2D object at 0x7f1e45c7aa58> False\n",
      "<keras.layers.pooling.MaxPooling2D object at 0x7f1e45c1d400> False\n",
      "<keras.layers.convolutional.Conv2D object at 0x7f1e45c2e470> False\n",
      "<keras.layers.convolutional.Conv2D object at 0x7f1e45c507f0> True\n",
      "<keras.layers.convolutional.Conv2D object at 0x7f1e459c5eb8> True\n",
      "<keras.layers.convolutional.Conv2D object at 0x7f1e459d6470> True\n",
      "<keras.layers.pooling.MaxPooling2D object at 0x7f1e45988f28> True\n"
     ]
    }
   ],
   "source": [
    "# Check the trainable status of the individual layers\n",
    "for layer in base_model.layers:\n",
    "    print(layer, layer.trainable)"
   ]
  },
  {
   "cell_type": "code",
   "execution_count": 7,
   "metadata": {},
   "outputs": [
    {
     "name": "stdout",
     "output_type": "stream",
     "text": [
      "Found 4000 images belonging to 4 classes.\n",
      "Found 1200 images belonging to 4 classes.\n",
      "Found 1200 images belonging to 4 classes.\n"
     ]
    }
   ],
   "source": [
    "#PREPROCESSING + DATA AUGMENTATION\n",
    "train_datagen = ImageDataGenerator(\n",
    "    rescale=1./255, \n",
    "    rotation_range=40, \n",
    "    width_shift_range=0.2, \n",
    "    height_shift_range=0.2, \n",
    "    zoom_range=0.2, \n",
    "    horizontal_flip=True, \n",
    "    vertical_flip  =  True, \n",
    "    fill_mode='nearest')\n",
    "\n",
    "train_generator = train_datagen.flow_from_directory( \n",
    "    train_dir, \n",
    "    target_size=(img_width,img_height), \n",
    "    batch_size=batch_size, \n",
    "    class_mode='categorical')\n",
    "\n",
    "test_datagen  =  ImageDataGenerator(rescale=1. / 255)  #  not  in  the  val  data \n",
    "\n",
    "validation_generator = test_datagen.flow_from_directory(\n",
    "    validation_dir,\n",
    "    target_size=(img_height, img_width), \n",
    "    batch_size=batch_size, \n",
    "    class_mode='categorical')\n",
    "\n",
    "test_generator = test_datagen.flow_from_directory(\n",
    "    test_dir,\n",
    "    target_size=(img_height, img_width), \n",
    "    batch_size=batch_size, \n",
    "    class_mode='categorical')\n"
   ]
  },
  {
   "cell_type": "code",
   "execution_count": 8,
   "metadata": {
    "collapsed": true
   },
   "outputs": [],
   "source": [
    "#Compile model\n",
    "model_total.compile(optimizer=SGD(lr=1e-4,  momentum=0.9), \n",
    "                    loss='categorical_crossentropy',  \n",
    "                    metrics=['accuracy'])"
   ]
  },
  {
   "cell_type": "code",
   "execution_count": 9,
   "metadata": {},
   "outputs": [
    {
     "name": "stderr",
     "output_type": "stream",
     "text": [
      "/usr/local/lib/python3.5/dist-packages/ipykernel_launcher.py:8: UserWarning: Update your `fit_generator` call to the Keras 2 API: `fit_generator(<keras.pre..., steps_per_epoch=62, verbose=1, validation_steps=1200, validation_data=<keras.pre..., epochs=60)`\n",
      "  \n"
     ]
    },
    {
     "name": "stdout",
     "output_type": "stream",
     "text": [
      "Epoch 1/60\n",
      "62/62 [==============================] - 628s 10s/step - loss: 0.8835 - acc: 0.6497 - val_loss: 0.6354 - val_acc: 0.7374\n",
      "Epoch 2/60\n",
      "62/62 [==============================] - 626s 10s/step - loss: 0.7005 - acc: 0.7177 - val_loss: 0.5066 - val_acc: 0.7934\n",
      "Epoch 3/60\n",
      "62/62 [==============================] - 624s 10s/step - loss: 0.6826 - acc: 0.7359 - val_loss: 0.4764 - val_acc: 0.8209\n",
      "Epoch 4/60\n",
      "62/62 [==============================] - 628s 10s/step - loss: 0.6275 - acc: 0.7510 - val_loss: 0.3997 - val_acc: 0.8351\n",
      "Epoch 5/60\n",
      "62/62 [==============================] - 625s 10s/step - loss: 0.5868 - acc: 0.7666 - val_loss: 0.4999 - val_acc: 0.7924\n",
      "Epoch 6/60\n",
      "62/62 [==============================] - 628s 10s/step - loss: 0.5735 - acc: 0.7752 - val_loss: 0.3838 - val_acc: 0.8451\n",
      "Epoch 7/60\n",
      "62/62 [==============================] - 624s 10s/step - loss: 0.5584 - acc: 0.7818 - val_loss: 0.3795 - val_acc: 0.8458\n",
      "Epoch 8/60\n",
      "62/62 [==============================] - 624s 10s/step - loss: 0.5088 - acc: 0.8004 - val_loss: 0.3991 - val_acc: 0.8409\n",
      "Epoch 9/60\n",
      "62/62 [==============================] - 624s 10s/step - loss: 0.5275 - acc: 0.7979 - val_loss: 0.3691 - val_acc: 0.8567\n",
      "Epoch 10/60\n",
      "62/62 [==============================] - 625s 10s/step - loss: 0.5248 - acc: 0.7906 - val_loss: 0.3917 - val_acc: 0.8483\n",
      "Epoch 11/60\n",
      "62/62 [==============================] - 621s 10s/step - loss: 0.5007 - acc: 0.8097 - val_loss: 0.3807 - val_acc: 0.8442\n",
      "Epoch 12/60\n",
      "62/62 [==============================] - 618s 10s/step - loss: 0.4629 - acc: 0.8266 - val_loss: 0.3684 - val_acc: 0.8607\n",
      "Epoch 13/60\n",
      "62/62 [==============================] - 618s 10s/step - loss: 0.4708 - acc: 0.8158 - val_loss: 0.3525 - val_acc: 0.8567\n",
      "Epoch 14/60\n",
      "62/62 [==============================] - 617s 10s/step - loss: 0.4748 - acc: 0.8206 - val_loss: 0.4010 - val_acc: 0.8376\n",
      "Epoch 15/60\n",
      "62/62 [==============================] - 620s 10s/step - loss: 0.4746 - acc: 0.8175 - val_loss: 0.3592 - val_acc: 0.8600\n",
      "Epoch 16/60\n",
      "62/62 [==============================] - 618s 10s/step - loss: 0.4559 - acc: 0.8254 - val_loss: 0.3289 - val_acc: 0.8585\n",
      "Epoch 17/60\n",
      "62/62 [==============================] - 617s 10s/step - loss: 0.4361 - acc: 0.8324 - val_loss: 0.4215 - val_acc: 0.8282\n",
      "Epoch 18/60\n",
      "62/62 [==============================] - 616s 10s/step - loss: 0.4195 - acc: 0.8390 - val_loss: 0.3377 - val_acc: 0.8667\n",
      "Epoch 19/60\n",
      "62/62 [==============================] - 617s 10s/step - loss: 0.4260 - acc: 0.8359 - val_loss: 0.3408 - val_acc: 0.8684\n",
      "Epoch 20/60\n",
      "62/62 [==============================] - 616s 10s/step - loss: 0.4300 - acc: 0.8309 - val_loss: 0.3329 - val_acc: 0.8649\n",
      "Epoch 21/60\n",
      "62/62 [==============================] - 620s 10s/step - loss: 0.4174 - acc: 0.8463 - val_loss: 0.4126 - val_acc: 0.8341\n",
      "Epoch 22/60\n",
      "62/62 [==============================] - 614s 10s/step - loss: 0.4118 - acc: 0.8405 - val_loss: 0.3567 - val_acc: 0.8608\n",
      "Epoch 23/60\n",
      "62/62 [==============================] - 616s 10s/step - loss: 0.4011 - acc: 0.8478 - val_loss: 0.3179 - val_acc: 0.8750\n",
      "Epoch 24/60\n",
      "62/62 [==============================] - 618s 10s/step - loss: 0.3826 - acc: 0.8543 - val_loss: 0.3415 - val_acc: 0.8650\n",
      "Epoch 25/60\n",
      "62/62 [==============================] - 616s 10s/step - loss: 0.3816 - acc: 0.8541 - val_loss: 0.3315 - val_acc: 0.8707\n",
      "Epoch 26/60\n",
      "62/62 [==============================] - 615s 10s/step - loss: 0.3923 - acc: 0.8495 - val_loss: 0.4144 - val_acc: 0.8541\n",
      "Epoch 27/60\n",
      "62/62 [==============================] - 617s 10s/step - loss: 0.4157 - acc: 0.8443 - val_loss: 0.3388 - val_acc: 0.8675\n",
      "Epoch 28/60\n",
      "62/62 [==============================] - 620s 10s/step - loss: 0.3895 - acc: 0.8551 - val_loss: 0.2914 - val_acc: 0.8825\n",
      "Epoch 29/60\n",
      "62/62 [==============================] - 615s 10s/step - loss: 0.3683 - acc: 0.8561 - val_loss: 0.2860 - val_acc: 0.8825\n",
      "Epoch 31/60\n",
      "62/62 [==============================] - 617s 10s/step - loss: 0.3697 - acc: 0.8629 - val_loss: 0.2965 - val_acc: 0.8817\n",
      "Epoch 32/60\n",
      "62/62 [==============================] - 619s 10s/step - loss: 0.3597 - acc: 0.8689 - val_loss: 0.2656 - val_acc: 0.8958\n",
      "Epoch 33/60\n",
      "62/62 [==============================] - 617s 10s/step - loss: 0.3506 - acc: 0.8664 - val_loss: 0.2809 - val_acc: 0.8925\n",
      "Epoch 34/60\n",
      "62/62 [==============================] - 616s 10s/step - loss: 0.3751 - acc: 0.8589 - val_loss: 0.2783 - val_acc: 0.8942\n",
      "Epoch 35/60\n",
      "62/62 [==============================] - 615s 10s/step - loss: 0.3525 - acc: 0.8659 - val_loss: 0.3096 - val_acc: 0.8809\n",
      "Epoch 36/60\n",
      "62/62 [==============================] - 617s 10s/step - loss: 0.3347 - acc: 0.8805 - val_loss: 0.3245 - val_acc: 0.8801\n",
      "Epoch 37/60\n",
      "62/62 [==============================] - 619s 10s/step - loss: 0.3510 - acc: 0.8705 - val_loss: 0.3699 - val_acc: 0.8541\n",
      "Epoch 38/60\n",
      "62/62 [==============================] - 619s 10s/step - loss: 0.3399 - acc: 0.8727 - val_loss: 0.2537 - val_acc: 0.8967\n",
      "Epoch 39/60\n",
      "62/62 [==============================] - 616s 10s/step - loss: 0.3342 - acc: 0.8785 - val_loss: 0.2796 - val_acc: 0.8909\n",
      "Epoch 40/60\n",
      "62/62 [==============================] - 619s 10s/step - loss: 0.3156 - acc: 0.8861 - val_loss: 0.3001 - val_acc: 0.8850\n",
      "Epoch 41/60\n",
      "62/62 [==============================] - 613s 10s/step - loss: 0.3173 - acc: 0.8816 - val_loss: 0.2425 - val_acc: 0.9033\n",
      "Epoch 42/60\n",
      "62/62 [==============================] - 617s 10s/step - loss: 0.3289 - acc: 0.8783 - val_loss: 0.3098 - val_acc: 0.8816\n",
      "Epoch 43/60\n",
      "62/62 [==============================] - 616s 10s/step - loss: 0.3405 - acc: 0.8737 - val_loss: 0.3168 - val_acc: 0.8725\n",
      "Epoch 44/60\n",
      "62/62 [==============================] - 619s 10s/step - loss: 0.3432 - acc: 0.8735 - val_loss: 0.3578 - val_acc: 0.8600\n",
      "Epoch 45/60\n",
      "62/62 [==============================] - 617s 10s/step - loss: 0.3305 - acc: 0.8758 - val_loss: 0.2726 - val_acc: 0.8942\n",
      "Epoch 46/60\n",
      "62/62 [==============================] - 619s 10s/step - loss: 0.3228 - acc: 0.8760 - val_loss: 0.2798 - val_acc: 0.8925\n",
      "Epoch 47/60\n",
      "62/62 [==============================] - 618s 10s/step - loss: 0.3113 - acc: 0.8800 - val_loss: 0.2853 - val_acc: 0.8942\n",
      "Epoch 48/60\n",
      "62/62 [==============================] - 617s 10s/step - loss: 0.3202 - acc: 0.8800 - val_loss: 0.3432 - val_acc: 0.8676\n",
      "Epoch 49/60\n",
      "62/62 [==============================] - 619s 10s/step - loss: 0.3165 - acc: 0.8841 - val_loss: 0.3774 - val_acc: 0.8608\n",
      "Epoch 50/60\n",
      "62/62 [==============================] - 613s 10s/step - loss: 0.2984 - acc: 0.8926 - val_loss: 0.2833 - val_acc: 0.8899\n",
      "Epoch 51/60\n",
      "62/62 [==============================] - 616s 10s/step - loss: 0.3038 - acc: 0.8904 - val_loss: 0.2612 - val_acc: 0.9000\n",
      "Epoch 52/60\n",
      "62/62 [==============================] - 615s 10s/step - loss: 0.3029 - acc: 0.8876 - val_loss: 0.2387 - val_acc: 0.9101\n",
      "Epoch 53/60\n",
      "62/62 [==============================] - 616s 10s/step - loss: 0.2831 - acc: 0.8952 - val_loss: 0.2572 - val_acc: 0.9083\n",
      "Epoch 54/60\n",
      "62/62 [==============================] - 614s 10s/step - loss: 0.3061 - acc: 0.8884 - val_loss: 0.3213 - val_acc: 0.8882\n",
      "Epoch 55/60\n",
      "62/62 [==============================] - 615s 10s/step - loss: 0.3031 - acc: 0.8891 - val_loss: 0.2245 - val_acc: 0.9117\n",
      "Epoch 56/60\n",
      "62/62 [==============================] - 618s 10s/step - loss: 0.3045 - acc: 0.8886 - val_loss: 0.2306 - val_acc: 0.9126\n",
      "Epoch 57/60\n",
      "62/62 [==============================] - 613s 10s/step - loss: 0.3039 - acc: 0.8891 - val_loss: 0.3330 - val_acc: 0.8809\n",
      "Epoch 58/60\n",
      "62/62 [==============================] - 615s 10s/step - loss: 0.2817 - acc: 0.8899 - val_loss: 0.2306 - val_acc: 0.9075\n",
      "Epoch 59/60\n",
      "62/62 [==============================] - 620s 10s/step - loss: 0.3055 - acc: 0.8843 - val_loss: 0.2771 - val_acc: 0.8875\n",
      "Epoch 60/60\n",
      "62/62 [==============================] - 617s 10s/step - loss: 0.2861 - acc: 0.8914 - val_loss: 0.2586 - val_acc: 0.8883\n"
     ]
    }
   ],
   "source": [
    "#Fit model\n",
    "history = model_total.fit_generator( \n",
    "    train_generator, \n",
    "    samples_per_epoch=nb_train, \n",
    "    epochs=nb_epochs,\n",
    "    verbose  =  1, \n",
    "    validation_data=validation_generator, \n",
    "    validation_steps=nb_validation)"
   ]
  },
  {
   "cell_type": "code",
   "execution_count": 10,
   "metadata": {
    "collapsed": true
   },
   "outputs": [],
   "source": [
    "model_total.save_weights('VGG/VGG19_FT_model_1.h5')"
   ]
  },
  {
   "cell_type": "code",
   "execution_count": 11,
   "metadata": {
    "collapsed": true
   },
   "outputs": [],
   "source": [
    "def print_graphics (history):\n",
    "    import  matplotlib.pyplot  as  plt\n",
    "    #Mostramos otro tipo de grafico\n",
    "    acc = history.history['acc']\n",
    "    val_acc = history.history['val_acc']\n",
    "    loss = history.history['loss']\n",
    "    val_loss = history.history['val_loss']\n",
    "\n",
    "    epochs = range(1, len(acc)+ 1)\n",
    "\n",
    "    plt.plot(epochs, acc, 'bo', label='Training acc')\n",
    "    plt.plot(epochs, val_acc, 'b', label='Validation acc')\n",
    "    #plt.tittle('Trainning and validation accuracy')\n",
    "    plt.legend()\n",
    "\n",
    "    plt.figure()\n",
    "    plt.plot(epochs, loss, 'bo', label='Training loss')\n",
    "    plt.plot(epochs, val_loss, 'b', label='Validation loss')\n",
    "    #plt.tittle('Trainning and validation loss')\n",
    "    plt.legend()\n",
    "\n",
    "    plt.show()"
   ]
  },
  {
   "cell_type": "code",
   "execution_count": 13,
   "metadata": {},
   "outputs": [
    {
     "data": {
      "image/png": "[encoded data removed]",
      "text/plain": [
       "<matplotlib.figure.Figure at 0x7f1e3e63c198>"
      ]
     },
     "metadata": {},
     "output_type": "display_data"
    },
    {
     "data": {
      "image/png": "[encoded data removed]",
      "text/plain": [
       "<matplotlib.figure.Figure at 0x7f1e438e39e8>"
      ]
     },
     "metadata": {},
     "output_type": "display_data"
    }
   ],
   "source": [
    "print_graphics (history)"
   ]
  },
  {
   "cell_type": "code",
   "execution_count": 14,
   "metadata": {},
   "outputs": [
    {
     "data": {
      "text/plain": [
       "[0.272254011631012, 0.899166665871938]"
      ]
     },
     "execution_count": 14,
     "metadata": {},
     "output_type": "execute_result"
    }
   ],
   "source": [
    "model_total.evaluate_generator(test_generator)"
   ]
  }
 ],
 "metadata": {
  "kernelspec": {
   "display_name": "Python 3",
   "language": "python",
   "name": "python3"
  },
  "language_info": {
   "codemirror_mode": {
    "name": "ipython",
    "version": 3
   },
   "file_extension": ".py",
   "mimetype": "text/x-python",
   "name": "python",
   "nbconvert_exporter": "python",
   "pygments_lexer": "ipython3",
   "version": "3.6.3"
  }
 },
 "nbformat": 4,
 "nbformat_minor": 2
}
