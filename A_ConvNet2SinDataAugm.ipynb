{
 "cells": [
  {
   "cell_type": "raw",
   "metadata": {},
   "source": [
    "Entreno de un ConvNet desde cero a partir de un conjunto de datos pequeño\n",
    "Conjunto de datos de 4 clases\n",
    "Utilizaremos un conjunto de datos reducido:\n",
    "- Conjunto de entrenamiento: 1.000 muestras x clase \n",
    "- Conjunto de validación: 300 muestras x clase\n",
    "- Conjunto de test: 300 muestras x clase\n",
    "El conjunto de datos: balanced_dataset\n",
    "contiene tres carpetas, train, validation y test, cada una con 4 clases"
   ]
  },
  {
   "cell_type": "code",
   "execution_count": 1,
   "metadata": {
    "collapsed": true
   },
   "outputs": [],
   "source": [
    "import os, shutil\n",
    "from os import walk, getcwd"
   ]
  },
  {
   "cell_type": "code",
   "execution_count": 2,
   "metadata": {
    "collapsed": true
   },
   "outputs": [],
   "source": [
    "# Retorna todos los archivos de un directorio dado\n",
    "def ls(ruta):  \n",
    "    return next(walk(ruta))[2]\n",
    "\n",
    "height_image = 229\n",
    "width_image = 229\n",
    "channels_image = 3\n",
    "nClasses = 4\n",
    "batch_size = 64\n",
    "class_mode = 'categorical'\n",
    "nb_train = 4000        # 1000 x 4 clases\n",
    "nb_validation = 1200   #  300 x 4 clases\n",
    "\n",
    "base_dir = 'balanced_dataset'\n",
    "train_dir = os.path.join(base_dir, 'train')\n",
    "validation_dir = os.path.join(base_dir, 'validation')\n",
    "test_dir = os.path.join(base_dir, 'test')"
   ]
  },
  {
   "cell_type": "code",
   "execution_count": 3,
   "metadata": {},
   "outputs": [
    {
     "name": "stderr",
     "output_type": "stream",
     "text": [
      "/usr/local/lib/python3.5/dist-packages/h5py/__init__.py:36: FutureWarning: Conversion of the second argument of issubdtype from `float` to `np.floating` is deprecated. In future, it will be treated as `np.float64 == np.dtype(float).type`.\n",
      "  from ._conv import register_converters as _register_converters\n",
      "Using TensorFlow backend.\n"
     ]
    }
   ],
   "source": [
    "from keras.models import Sequential\n",
    "from keras.layers import Dense, Conv2D, MaxPooling2D, Dropout, Flatten\n",
    " \n",
    "def createModel(nClasses, height, width, channels):\n",
    "    model = Sequential()\n",
    "    model.add(Conv2D(32, (3, 3), padding='same', activation='relu', input_shape=(height,width,channels)))\n",
    "    model.add(Conv2D(32, (3, 3), activation='relu'))\n",
    "    model.add(MaxPooling2D(pool_size=(2, 2)))\n",
    "    model.add(Dropout(0.25))\n",
    " \n",
    "    model.add(Conv2D(64, (3, 3), padding='same', activation='relu'))\n",
    "    model.add(Conv2D(64, (3, 3), activation='relu'))\n",
    "    model.add(MaxPooling2D(pool_size=(2, 2)))\n",
    "    model.add(Dropout(0.25))\n",
    " \n",
    "    model.add(Conv2D(64, (3, 3), padding='same', activation='relu'))\n",
    "    model.add(Conv2D(64, (3, 3), activation='relu'))\n",
    "    model.add(MaxPooling2D(pool_size=(2, 2)))\n",
    "    model.add(Dropout(0.25))\n",
    " \n",
    "    model.add(Flatten())\n",
    "    model.add(Dense(512, activation='relu'))\n",
    "    model.add(Dropout(0.5))\n",
    "    model.add(Dense(nClasses, activation='softmax'))\n",
    "     \n",
    "    return model"
   ]
  },
  {
   "cell_type": "raw",
   "metadata": {},
   "source": [
    "Creamos un modelo sencillo ConvNet para pocos datos"
   ]
  },
  {
   "cell_type": "code",
   "execution_count": 4,
   "metadata": {},
   "outputs": [
    {
     "name": "stdout",
     "output_type": "stream",
     "text": [
      "_________________________________________________________________\n",
      "Layer (type)                 Output Shape              Param #   \n",
      "=================================================================\n",
      "conv2d_1 (Conv2D)            (None, 229, 229, 32)      896       \n",
      "_________________________________________________________________\n",
      "conv2d_2 (Conv2D)            (None, 227, 227, 32)      9248      \n",
      "_________________________________________________________________\n",
      "max_pooling2d_1 (MaxPooling2 (None, 113, 113, 32)      0         \n",
      "_________________________________________________________________\n",
      "dropout_1 (Dropout)          (None, 113, 113, 32)      0         \n",
      "_________________________________________________________________\n",
      "conv2d_3 (Conv2D)            (None, 113, 113, 64)      18496     \n",
      "_________________________________________________________________\n",
      "conv2d_4 (Conv2D)            (None, 111, 111, 64)      36928     \n",
      "_________________________________________________________________\n",
      "max_pooling2d_2 (MaxPooling2 (None, 55, 55, 64)        0         \n",
      "_________________________________________________________________\n",
      "dropout_2 (Dropout)          (None, 55, 55, 64)        0         \n",
      "_________________________________________________________________\n",
      "conv2d_5 (Conv2D)            (None, 55, 55, 64)        36928     \n",
      "_________________________________________________________________\n",
      "conv2d_6 (Conv2D)            (None, 53, 53, 64)        36928     \n",
      "_________________________________________________________________\n",
      "max_pooling2d_3 (MaxPooling2 (None, 26, 26, 64)        0         \n",
      "_________________________________________________________________\n",
      "dropout_3 (Dropout)          (None, 26, 26, 64)        0         \n",
      "_________________________________________________________________\n",
      "flatten_1 (Flatten)          (None, 43264)             0         \n",
      "_________________________________________________________________\n",
      "dense_1 (Dense)              (None, 512)               22151680  \n",
      "_________________________________________________________________\n",
      "dropout_4 (Dropout)          (None, 512)               0         \n",
      "_________________________________________________________________\n",
      "dense_2 (Dense)              (None, 4)                 2052      \n",
      "=================================================================\n",
      "Total params: 22,293,156\n",
      "Trainable params: 22,293,156\n",
      "Non-trainable params: 0\n",
      "_________________________________________________________________\n"
     ]
    }
   ],
   "source": [
    "#Creamos un modelo sencillo ConvNet para pocos datos\n",
    "model = createModel(nClasses, height_image, width_image, channels_image )\n",
    "model.summary()"
   ]
  },
  {
   "cell_type": "raw",
   "metadata": {},
   "source": [
    "#Preprocesado de datos:\n",
    "1. leer los archivos de imagen\n",
    "2. decodificar el contenido JPEG a matrices de píxeles RGB\n",
    "3. Convertir los tensores a coma flotante\n",
    "4. Escalar los valores de píxel (0-255) al intervalo (0-1)\n",
    "Generaremos 40 muestras por lote, que al entrenar con 100 epocas 40*100 = 4000,\n",
    "podremos recorrer todas las muestras 1000 x clase\n",
    "NO aplicamos Data Augmentation"
   ]
  },
  {
   "cell_type": "code",
   "execution_count": 5,
   "metadata": {},
   "outputs": [
    {
     "name": "stdout",
     "output_type": "stream",
     "text": [
      "Found 4000 images belonging to 4 classes.\n",
      "Found 1200 images belonging to 4 classes.\n",
      "Found 1200 images belonging to 4 classes.\n"
     ]
    }
   ],
   "source": [
    "from keras.preprocessing.image import ImageDataGenerator\n",
    "\n",
    "from keras.preprocessing import image\n",
    "import matplotlib.pyplot as plt\n",
    "\n",
    "train_datagen = ImageDataGenerator(rescale = 1./255)\n",
    "test_datagen = ImageDataGenerator(rescale = 1./255)\n",
    "\n",
    "train_generator = train_datagen.flow_from_directory(\n",
    "    train_dir,\n",
    "    target_size = (height_image, width_image),\n",
    "    batch_size = batch_size, \n",
    "    class_mode = 'categorical')\n",
    "\n",
    "validation_generator = test_datagen.flow_from_directory(\n",
    "    validation_dir,\n",
    "    target_size = (height_image, width_image),\n",
    "    batch_size = batch_size, \n",
    "    class_mode = 'categorical')\n",
    "\n",
    "test_generator = test_datagen.flow_from_directory(\n",
    "    validation_dir,\n",
    "    target_size = (height_image, width_image),\n",
    "    batch_size = batch_size,\n",
    "    class_mode = 'categorical')\n"
   ]
  },
  {
   "cell_type": "code",
   "execution_count": 6,
   "metadata": {},
   "outputs": [
    {
     "name": "stdout",
     "output_type": "stream",
     "text": [
      "Epoch 1/30\n",
      "62/62 [==============================] - 38s 612ms/step - loss: 1.6793 - acc: 0.2520 - val_loss: 1.4142 - val_acc: 0.3168\n",
      "Epoch 2/30\n",
      "62/62 [==============================] - 37s 595ms/step - loss: 1.3433 - acc: 0.3576 - val_loss: 1.2909 - val_acc: 0.4019\n",
      "Epoch 3/30\n",
      "62/62 [==============================] - 37s 598ms/step - loss: 1.2728 - acc: 0.3959 - val_loss: 1.3031 - val_acc: 0.4167\n",
      "Epoch 4/30\n",
      "62/62 [==============================] - 37s 597ms/step - loss: 1.2620 - acc: 0.4564 - val_loss: 1.0411 - val_acc: 0.5616\n",
      "Epoch 5/30\n",
      "62/62 [==============================] - 36s 586ms/step - loss: 1.1113 - acc: 0.5061 - val_loss: 1.0062 - val_acc: 0.5503\n",
      "Epoch 6/30\n",
      "62/62 [==============================] - 36s 576ms/step - loss: 1.0542 - acc: 0.5305 - val_loss: 1.0091 - val_acc: 0.5582\n",
      "Epoch 7/30\n",
      "62/62 [==============================] - 36s 579ms/step - loss: 1.0024 - acc: 0.5544 - val_loss: 0.9237 - val_acc: 0.5990\n",
      "Epoch 8/30\n",
      "62/62 [==============================] - 35s 571ms/step - loss: 0.9869 - acc: 0.5741 - val_loss: 0.9630 - val_acc: 0.5764\n",
      "Epoch 9/30\n",
      "62/62 [==============================] - 35s 569ms/step - loss: 0.8592 - acc: 0.6278 - val_loss: 0.9429 - val_acc: 0.6128\n",
      "Epoch 10/30\n",
      "62/62 [==============================] - 35s 563ms/step - loss: 0.8388 - acc: 0.6467 - val_loss: 0.9533 - val_acc: 0.6128\n",
      "Epoch 11/30\n",
      "62/62 [==============================] - 34s 556ms/step - loss: 0.7361 - acc: 0.6923 - val_loss: 2.0200 - val_acc: 0.3524\n",
      "Epoch 12/30\n",
      "62/62 [==============================] - 34s 556ms/step - loss: 0.7335 - acc: 0.7019 - val_loss: 0.9511 - val_acc: 0.6250\n",
      "Epoch 13/30\n",
      "62/62 [==============================] - 34s 556ms/step - loss: 0.6644 - acc: 0.7316 - val_loss: 0.8749 - val_acc: 0.6589\n",
      "Epoch 14/30\n",
      "62/62 [==============================] - 34s 551ms/step - loss: 0.6166 - acc: 0.7608 - val_loss: 0.9532 - val_acc: 0.6007\n",
      "Epoch 15/30\n",
      "62/62 [==============================] - 33s 534ms/step - loss: 0.5438 - acc: 0.7870 - val_loss: 1.0658 - val_acc: 0.6476\n",
      "Epoch 16/30\n",
      "62/62 [==============================] - 33s 539ms/step - loss: 0.5207 - acc: 0.8014 - val_loss: 1.0022 - val_acc: 0.6615\n",
      "Epoch 17/30\n",
      "62/62 [==============================] - 33s 540ms/step - loss: 0.4491 - acc: 0.8218 - val_loss: 1.2781 - val_acc: 0.5799\n",
      "Epoch 18/30\n",
      "62/62 [==============================] - 33s 537ms/step - loss: 0.5260 - acc: 0.8362 - val_loss: 1.1552 - val_acc: 0.6667\n",
      "Epoch 19/30\n",
      "62/62 [==============================] - 33s 525ms/step - loss: 0.3544 - acc: 0.8634 - val_loss: 1.1362 - val_acc: 0.5451\n",
      "Epoch 20/30\n",
      "62/62 [==============================] - 33s 539ms/step - loss: 0.3044 - acc: 0.8843 - val_loss: 1.1841 - val_acc: 0.6701\n",
      "Epoch 21/30\n",
      "62/62 [==============================] - 33s 533ms/step - loss: 0.2597 - acc: 0.9062 - val_loss: 1.7998 - val_acc: 0.6189\n",
      "Epoch 22/30\n",
      "62/62 [==============================] - 33s 532ms/step - loss: 0.2479 - acc: 0.9123 - val_loss: 1.3518 - val_acc: 0.6753\n",
      "Epoch 23/30\n",
      "62/62 [==============================] - 33s 534ms/step - loss: 0.2016 - acc: 0.9264 - val_loss: 1.2700 - val_acc: 0.6259\n",
      "Epoch 24/30\n",
      "62/62 [==============================] - 34s 545ms/step - loss: 0.1787 - acc: 0.9405 - val_loss: 1.7812 - val_acc: 0.6589\n",
      "Epoch 25/30\n",
      "62/62 [==============================] - 33s 534ms/step - loss: 0.1758 - acc: 0.9425 - val_loss: 2.2718 - val_acc: 0.5842\n",
      "Epoch 26/30\n",
      "62/62 [==============================] - 33s 540ms/step - loss: 0.1774 - acc: 0.9456 - val_loss: 1.6272 - val_acc: 0.6562\n",
      "Epoch 27/30\n",
      "62/62 [==============================] - 33s 526ms/step - loss: 0.1614 - acc: 0.9536 - val_loss: 1.6491 - val_acc: 0.6806\n",
      "Epoch 28/30\n",
      "62/62 [==============================] - 33s 533ms/step - loss: 0.1675 - acc: 0.9529 - val_loss: 2.0292 - val_acc: 0.6641\n",
      "Epoch 29/30\n",
      "62/62 [==============================] - 33s 537ms/step - loss: 0.1394 - acc: 0.9630 - val_loss: 2.2116 - val_acc: 0.6285\n",
      "Epoch 30/30\n",
      "62/62 [==============================] - 33s 534ms/step - loss: 0.1654 - acc: 0.9501 - val_loss: 1.2390 - val_acc: 0.6302\n"
     ]
    }
   ],
   "source": [
    "#Compilamos para 100 epocas con optimizador RMSProp\n",
    "from keras import optimizers\n",
    "\n",
    "epochs = 30     \n",
    "\n",
    "model.compile(\n",
    "    optimizer = 'rmsprop', \n",
    "    loss = 'categorical_crossentropy', \n",
    "    metrics = ['accuracy'])\n",
    "                \n",
    "history = model.fit_generator(\n",
    "    train_generator, \n",
    "    steps_per_epoch = nb_train//batch_size,\n",
    "    epochs = epochs, \n",
    "    verbose = 1, \n",
    "    validation_steps = nb_validation//batch_size,\n",
    "    validation_data = validation_generator )\n",
    " \n",
    "\n",
    "\t"
   ]
  },
  {
   "cell_type": "code",
   "execution_count": 9,
   "metadata": {},
   "outputs": [
    {
     "data": {
      "image/png": "[encoded data removed]",
      "text/plain": [
       "<matplotlib.figure.Figure at 0x7f31cf2a8828>"
      ]
     },
     "metadata": {},
     "output_type": "display_data"
    },
    {
     "data": {
      "image/png": "[encoded data removed]",
      "text/plain": [
       "<matplotlib.figure.Figure at 0x7f31cf256f28>"
      ]
     },
     "metadata": {},
     "output_type": "display_data"
    }
   ],
   "source": [
    "#Mostramos otros graficos \n",
    "acc = history.history['acc']\n",
    "val_acc = history.history['val_acc']\n",
    "loss = history.history['loss']\n",
    "val_loss = history.history['val_loss']\n",
    "\n",
    "epochs = range(1, len(acc)+ 1)\n",
    "\n",
    "plt.plot(epochs, acc, 'bo', label='Training acc')\n",
    "plt.plot(epochs, val_acc, 'b', label='Validation acc')\n",
    "#plt.tittle('Trainning and validation accuracy')\n",
    "plt.legend()\n",
    "\n",
    "plt.figure()\n",
    "plt.plot(epochs, loss, 'bo', label='Training loss')\n",
    "plt.plot(epochs, val_loss, 'b', label='Validation loss')\n",
    "#plt.tittle('Trainning and validation loss')\n",
    "plt.legend()\n",
    "\n",
    "plt.show()"
   ]
  },
  {
   "cell_type": "code",
   "execution_count": 10,
   "metadata": {},
   "outputs": [
    {
     "data": {
      "text/plain": [
       "[1.217928417523702, 0.6349999992052714]"
      ]
     },
     "execution_count": 10,
     "metadata": {},
     "output_type": "execute_result"
    }
   ],
   "source": [
    "model.evaluate_generator(test_generator)"
   ]
  },
  {
   "cell_type": "code",
   "execution_count": 11,
   "metadata": {
    "collapsed": true
   },
   "outputs": [],
   "source": [
    "model.save('ConvNet_RMSprop_1.h5')"
   ]
  },
  {
   "cell_type": "code",
   "execution_count": 17,
   "metadata": {},
   "outputs": [
    {
     "name": "stdout",
     "output_type": "stream",
     "text": [
      "WARNING:tensorflow:Variable *= will be deprecated. Use variable.assign_mul if you want assignment to the variable value or 'x = x * y' if you want a new python Tensor object.\n",
      "Epoch 1/30\n",
      "62/62 [==============================] - 38s 615ms/step - loss: 11.8553 - acc: 0.2623 - val_loss: 12.1445 - val_acc: 0.2465\n",
      "Epoch 2/30\n",
      "62/62 [==============================] - 37s 597ms/step - loss: 12.1335 - acc: 0.2472 - val_loss: 12.1445 - val_acc: 0.2465\n",
      "Epoch 3/30\n",
      "62/62 [==============================] - 37s 594ms/step - loss: 12.0724 - acc: 0.2510 - val_loss: 12.1445 - val_acc: 0.2465\n",
      "Epoch 4/30\n",
      "62/62 [==============================] - 37s 598ms/step - loss: 12.0846 - acc: 0.2502 - val_loss: 12.1445 - val_acc: 0.2465\n",
      "Epoch 5/30\n",
      "62/62 [==============================] - 36s 587ms/step - loss: 12.0766 - acc: 0.2507 - val_loss: 12.1445 - val_acc: 0.2465\n",
      "Epoch 6/30\n",
      "62/62 [==============================] - 36s 583ms/step - loss: 12.0561 - acc: 0.2520 - val_loss: 12.1445 - val_acc: 0.2465\n",
      "Epoch 7/30\n",
      "62/62 [==============================] - 36s 584ms/step - loss: 12.1007 - acc: 0.2492 - val_loss: 12.1445 - val_acc: 0.2465\n",
      "Epoch 8/30\n",
      "62/62 [==============================] - 36s 574ms/step - loss: 12.1005 - acc: 0.2493 - val_loss: 12.1445 - val_acc: 0.2465\n",
      "Epoch 9/30\n",
      "62/62 [==============================] - 36s 575ms/step - loss: 12.1331 - acc: 0.2472 - val_loss: 12.1445 - val_acc: 0.2465\n",
      "Epoch 10/30\n",
      "62/62 [==============================] - 35s 567ms/step - loss: 12.0601 - acc: 0.2518 - val_loss: 12.1445 - val_acc: 0.2465\n",
      "Epoch 11/30\n",
      "62/62 [==============================] - 35s 564ms/step - loss: 12.1417 - acc: 0.2467 - val_loss: 12.1445 - val_acc: 0.2465\n",
      "Epoch 12/30\n",
      "62/62 [==============================] - 35s 567ms/step - loss: 12.0276 - acc: 0.2538 - val_loss: 12.1445 - val_acc: 0.2465\n",
      "Epoch 13/30\n",
      "62/62 [==============================] - 34s 552ms/step - loss: 12.0559 - acc: 0.2520 - val_loss: 12.1445 - val_acc: 0.2465\n",
      "Epoch 14/30\n",
      "62/62 [==============================] - 34s 550ms/step - loss: 12.0803 - acc: 0.2505 - val_loss: 12.1445 - val_acc: 0.2465\n",
      "Epoch 15/30\n",
      "62/62 [==============================] - 33s 540ms/step - loss: 12.0928 - acc: 0.2497 - val_loss: 12.1445 - val_acc: 0.2465\n",
      "Epoch 16/30\n",
      "62/62 [==============================] - 33s 532ms/step - loss: 12.0966 - acc: 0.2495 - val_loss: 12.1445 - val_acc: 0.2465\n",
      "Epoch 17/30\n",
      "62/62 [==============================] - 33s 535ms/step - loss: 12.1738 - acc: 0.2447 - val_loss: 12.1445 - val_acc: 0.2465\n",
      "Epoch 18/30\n",
      "62/62 [==============================] - 33s 539ms/step - loss: 12.0927 - acc: 0.2497 - val_loss: 12.1445 - val_acc: 0.2465\n",
      "Epoch 19/30\n",
      "62/62 [==============================] - 33s 533ms/step - loss: 12.0195 - acc: 0.2543 - val_loss: 12.1445 - val_acc: 0.2465\n",
      "Epoch 20/30\n",
      "62/62 [==============================] - 34s 549ms/step - loss: 12.1048 - acc: 0.2490 - val_loss: 12.1445 - val_acc: 0.2465\n",
      "Epoch 21/30\n",
      "62/62 [==============================] - 34s 546ms/step - loss: 12.1412 - acc: 0.2467 - val_loss: 12.1445 - val_acc: 0.2465\n",
      "Epoch 22/30\n",
      "62/62 [==============================] - 34s 545ms/step - loss: 12.0115 - acc: 0.2548 - val_loss: 12.1445 - val_acc: 0.2465\n",
      "Epoch 23/30\n",
      "62/62 [==============================] - 33s 526ms/step - loss: 12.0397 - acc: 0.2530 - val_loss: 12.1445 - val_acc: 0.2465\n",
      "Epoch 24/30\n",
      "62/62 [==============================] - 33s 533ms/step - loss: 12.1901 - acc: 0.2437 - val_loss: 12.1445 - val_acc: 0.2465\n",
      "Epoch 25/30\n",
      "62/62 [==============================] - 33s 529ms/step - loss: 12.0520 - acc: 0.2523 - val_loss: 12.1445 - val_acc: 0.2465\n",
      "Epoch 26/30\n",
      "62/62 [==============================] - 33s 526ms/step - loss: 12.1011 - acc: 0.2492 - val_loss: 12.1445 - val_acc: 0.2465\n",
      "Epoch 27/30\n",
      "62/62 [==============================] - 33s 534ms/step - loss: 12.1090 - acc: 0.2487 - val_loss: 12.1445 - val_acc: 0.2465\n",
      "Epoch 28/30\n",
      "62/62 [==============================] - 33s 536ms/step - loss: 12.0926 - acc: 0.2497 - val_loss: 12.1445 - val_acc: 0.2465\n",
      "Epoch 29/30\n",
      "62/62 [==============================] - 33s 537ms/step - loss: 12.0400 - acc: 0.2530 - val_loss: 12.1445 - val_acc: 0.2465\n",
      "Epoch 30/30\n",
      "62/62 [==============================] - 33s 529ms/step - loss: 12.1251 - acc: 0.2477 - val_loss: 12.1445 - val_acc: 0.2465\n"
     ]
    }
   ],
   "source": [
    "#Entrenamos el mismo modelo con optimizador SDG, momentum y nesterov\n",
    "\n",
    "from keras import optimizers\n",
    "\n",
    "epochs = 30\n",
    "\n",
    "model.compile(\n",
    "    optimizer = optimizers.SGD(lr=0.01, decay=1e-6, momentum=0.9, nesterov=True),\n",
    "    loss ='categorical_crossentropy',\n",
    "    metrics = ['acc'])\n",
    "                \n",
    "history = model.fit_generator(\n",
    "    train_generator, \n",
    "    steps_per_epoch = nb_train//batch_size,\n",
    "    epochs = epochs, \n",
    "    verbose = 1, \n",
    "    validation_steps = nb_validation//batch_size,\n",
    "    validation_data = validation_generator )\n",
    " "
   ]
  },
  {
   "cell_type": "code",
   "execution_count": 18,
   "metadata": {},
   "outputs": [
    {
     "data": {
      "image/png": "[encoded data removed]",
      "text/plain": [
       "<matplotlib.figure.Figure at 0x7f318e0e5048>"
      ]
     },
     "metadata": {},
     "output_type": "display_data"
    },
    {
     "data": {
      "image/png": "[encoded data removed]",
      "text/plain": [
       "<matplotlib.figure.Figure at 0x7f318e0edd68>"
      ]
     },
     "metadata": {},
     "output_type": "display_data"
    }
   ],
   "source": [
    "#Mostramos graficas\n",
    "acc = history.history['acc']\n",
    "val_acc = history.history['val_acc']\n",
    "loss = history.history['loss']\n",
    "val_loss = history.history['val_loss']\n",
    "\n",
    "epochs = range(1, len(acc)+ 1)\n",
    "\n",
    "plt.plot(epochs, acc, 'bo', label='Training acc')\n",
    "plt.plot(epochs, val_acc, 'b', label='Validation acc')\n",
    "#plt.tittle('Trainning and validation accuracy')\n",
    "plt.legend()\n",
    "\n",
    "plt.figure()\n",
    "plt.plot(epochs, loss, 'bo', label='Training loss')\n",
    "plt.plot(epochs, val_loss, 'b', label='Validation loss')\n",
    "#plt.tittle('Trainning and validation loss')\n",
    "plt.legend()\n",
    "\n",
    "plt.show()"
   ]
  },
  {
   "cell_type": "code",
   "execution_count": 20,
   "metadata": {},
   "outputs": [
    {
     "data": {
      "text/plain": [
       "[12.088571472167969, 0.2500000003973643]"
      ]
     },
     "execution_count": 20,
     "metadata": {},
     "output_type": "execute_result"
    }
   ],
   "source": [
    "model.evaluate_generator(test_generator)"
   ]
  },
  {
   "cell_type": "code",
   "execution_count": 22,
   "metadata": {
    "collapsed": true
   },
   "outputs": [],
   "source": [
    "model.save('ConvNet_SGD_1.h5')"
   ]
  },
  {
   "cell_type": "raw",
   "metadata": {
    "collapsed": true
   },
   "source": [
    "Podemos ver sobreajuste en las gráficas de exactitud y pérdida, ya que las curva de exactitud y las de pérdida siguen caminos diferentes, tanto en modelo de entrenamiento como en el de validación. (Gráficas 1 y 4).\n",
    "La precisión del entrenamiento aumenta linealmente con el tiempo, hasta alcanzar casi el 100%, mientras que la exac"
   ]
  }
 ],
 "metadata": {
  "kernelspec": {
   "display_name": "Python 3",
   "language": "python",
   "name": "python3"
  },
  "language_info": {
   "codemirror_mode": {
    "name": "ipython",
    "version": 3
   },
   "file_extension": ".py",
   "mimetype": "text/x-python",
   "name": "python",
   "nbconvert_exporter": "python",
   "pygments_lexer": "ipython3",
   "version": "3.6.3"
  }
 },
 "nbformat": 4,
 "nbformat_minor": 2
}
