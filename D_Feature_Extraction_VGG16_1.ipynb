{
 "cells": [
  {
   "cell_type": "raw",
   "metadata": {},
   "source": [
    "Entreno de un ConvNet VGG16 preentrenado con Imagenet y\n",
    "entrenando conjunto de datos pequeño\n",
    "Conjunto de datos de 4 clases\n",
    "Utilizaremos un conjunto de datos reducido:\n",
    "- Conjunto de entrenamiento: 1.000 muestras x clase \n",
    "- Conjunto de validación: 300 muestras x clase\n",
    "- Conjunto de test: 300 muestras x clase\n",
    "El conjunto de datos: balanced_dataset\n",
    "contiene tres carpetas, train, validation y test, cada una con 4 clases"
   ]
  },
  {
   "cell_type": "code",
   "execution_count": 1,
   "metadata": {},
   "outputs": [
    {
     "name": "stderr",
     "output_type": "stream",
     "text": [
      "/usr/local/lib/python3.5/dist-packages/h5py/__init__.py:36: FutureWarning: Conversion of the second argument of issubdtype from `float` to `np.floating` is deprecated. In future, it will be treated as `np.float64 == np.dtype(float).type`.\n",
      "  from ._conv import register_converters as _register_converters\n",
      "Using TensorFlow backend.\n"
     ]
    }
   ],
   "source": [
    "from  keras.preprocessing.image  import ImageDataGenerator, img_to_array, load_img \n",
    "from  keras.models  import Sequential\n",
    "from  keras.layers  import Dropout,  Flatten,  Dense\n",
    "from  keras.applications.vgg16 import VGG16 \n",
    "from keras.optimizers import RMSprop\n",
    "from  keras.utils.np_utils import to_categorical \n",
    "import time\n",
    "import os\n",
    "import numpy as np \n",
    "import math\n",
    "import  matplotlib.pyplot  as  plt\n",
    "\n",
    "img_width = 224\n",
    "img_height = 224\n",
    "batch_size = 64 \n",
    "epochs = 80\n",
    "nb_train = 4000\n",
    "nb_validation = 1200\n",
    "nb_test = 1200\n",
    "nb_classes = 4\n",
    "\n",
    "PATH_TO_FE = \"VGG\" \n",
    "train_dir  =  \"balanced_dataset/train\"\n",
    "validation_dir = \"balanced_dataset/validation\" \n",
    "test_dir  =  \"balanced_dataset/test\" \n"
   ]
  },
  {
   "cell_type": "code",
   "execution_count": 2,
   "metadata": {
    "collapsed": true
   },
   "outputs": [],
   "source": [
    "#Load Pretrained model\n",
    "model = VGG16(include_top=False,  weights='imagenet') "
   ]
  },
  {
   "cell_type": "code",
   "execution_count": 3,
   "metadata": {},
   "outputs": [
    {
     "name": "stdout",
     "output_type": "stream",
     "text": [
      "Found 4000 images belonging to 4 classes.\n",
      "Found 1200 images belonging to 4 classes.\n",
      "Found 1200 images belonging to 4 classes.\n"
     ]
    }
   ],
   "source": [
    "#PREPROCESSING + FEATURE EXTRACTION\n",
    "\n",
    "datagen  =  ImageDataGenerator(rescale=1. / 255)\n",
    "\n",
    "train_generator = datagen.flow_from_directory( \n",
    "    train_dir,\n",
    "    target_size = (img_width, img_height), \n",
    "    batch_size = batch_size,\n",
    "    class_mode  =  None,  \n",
    "    shuffle = False, \n",
    "    interpolation  =  'lanczos')\n",
    "\n",
    "validation_generator = datagen.flow_from_directory( \n",
    "    validation_dir, \n",
    "    target_size=(img_width, img_height), \n",
    "    batch_size=batch_size, \n",
    "    class_mode=None,\n",
    "    shuffle=False, \n",
    "    interpolation  =  'lanczos')\n",
    "\n",
    "test_generator = datagen.flow_from_directory(\n",
    "    test_dir,\n",
    "    target_size = (img_width, img_height),\n",
    "    batch_size = batch_size,\n",
    "    class_mode = None,\n",
    "    shuffle=False, \n",
    "    interpolation  =  'lanczos')\n",
    "\n",
    "###########Feature Extraction (FE)#########################\n",
    "#Train\n",
    "max_size_train = int(math.ceil(nb_train / batch_size)) \n",
    "train_features = model.predict_generator(train_generator, max_size_train)\n",
    "np.save('VGG/VGG16_FE_train_1.npy',  train_features)\n",
    "#Validation\n",
    "max_size_validation = int(math.ceil(nb_validation / batch_size)) \n",
    "validation_features  =  model.predict_generator(validation_generator,  max_size_validation) \n",
    "np.save('VGG/VGG16_FE_validation_1.npy',  validation_features)\n",
    "#Test\n",
    "max_size_test = int(math.ceil(nb_test / batch_size)) \n",
    "test_features  =  model.predict_generator(test_generator,  max_size_test)\n",
    "\n",
    "#Labels Extraction\n",
    "train_labels  =  train_generator.classes  \n",
    "train_labels = to_categorical(train_labels, num_classes=nb_classes) \n",
    "validation_labels  =  validation_generator.classes  \n",
    "validation_labels  =  to_categorical(validation_labels,  num_classes=nb_classes) \n",
    "test_labels  =  test_generator.classes  \n",
    "test_labels  =  to_categorical(test_labels,  num_classes=nb_classes) \n",
    "\n",
    "#Save Features\n",
    "train_data = np.load('VGG/VGG16_FE_train_1.npy') \n",
    "validation_data  =  np.load('VGG/VGG16_FE_validation_1.npy')\n"
   ]
  },
  {
   "cell_type": "code",
   "execution_count": 4,
   "metadata": {
    "collapsed": true
   },
   "outputs": [],
   "source": [
    "#Top Model Classificator\n",
    "model = Sequential() \n",
    "model.add(Flatten(input_shape=train_data.shape[1:]))\n",
    "model.add(Dense(256,  activation='relu')) \n",
    "model.add(Dropout(0.5))\n",
    "model.add(Dense(nb_classes,  activation='softmax'))\n"
   ]
  },
  {
   "cell_type": "code",
   "execution_count": 5,
   "metadata": {
    "collapsed": true
   },
   "outputs": [],
   "source": [
    "#Compile models\n",
    "model.compile(\n",
    "    optimizer = RMSprop(lr=2e-5),\n",
    "    loss='categorical_crossentropy',  \n",
    "    metrics=['accuracy'])\n"
   ]
  },
  {
   "cell_type": "code",
   "execution_count": 6,
   "metadata": {},
   "outputs": [
    {
     "name": "stdout",
     "output_type": "stream",
     "text": [
      "Train on 4000 samples, validate on 1200 samples\n",
      "Epoch 1/80\n",
      "4000/4000 [==============================] - 1s 286us/step - loss: 1.3150 - acc: 0.3855 - val_loss: 1.0832 - val_acc: 0.5617\n",
      "Epoch 2/80\n",
      "4000/4000 [==============================] - 1s 156us/step - loss: 1.0629 - acc: 0.5430 - val_loss: 0.9725 - val_acc: 0.6167\n",
      "Epoch 3/80\n",
      "4000/4000 [==============================] - 1s 150us/step - loss: 0.9660 - acc: 0.5952 - val_loss: 0.9000 - val_acc: 0.6358\n",
      "Epoch 4/80\n",
      "4000/4000 [==============================] - 1s 154us/step - loss: 0.8795 - acc: 0.6530 - val_loss: 0.8499 - val_acc: 0.6492\n",
      "Epoch 5/80\n",
      "4000/4000 [==============================] - 1s 156us/step - loss: 0.8285 - acc: 0.6640 - val_loss: 0.7953 - val_acc: 0.6825\n",
      "Epoch 6/80\n",
      "4000/4000 [==============================] - 1s 136us/step - loss: 0.7826 - acc: 0.6845 - val_loss: 0.7687 - val_acc: 0.6958\n",
      "Epoch 7/80\n",
      "4000/4000 [==============================] - 1s 150us/step - loss: 0.7444 - acc: 0.7043 - val_loss: 0.7424 - val_acc: 0.7150\n",
      "Epoch 8/80\n",
      "4000/4000 [==============================] - 1s 157us/step - loss: 0.6997 - acc: 0.7298 - val_loss: 0.7183 - val_acc: 0.7375\n",
      "Epoch 9/80\n",
      "4000/4000 [==============================] - 1s 147us/step - loss: 0.6824 - acc: 0.7380 - val_loss: 0.7004 - val_acc: 0.7217\n",
      "Epoch 10/80\n",
      "4000/4000 [==============================] - 1s 151us/step - loss: 0.6375 - acc: 0.7572 - val_loss: 0.6848 - val_acc: 0.7342\n",
      "Epoch 11/80\n",
      "4000/4000 [==============================] - 1s 159us/step - loss: 0.6151 - acc: 0.7725 - val_loss: 0.6529 - val_acc: 0.7600\n",
      "Epoch 12/80\n",
      "4000/4000 [==============================] - 1s 157us/step - loss: 0.5932 - acc: 0.7802 - val_loss: 0.6676 - val_acc: 0.7333\n",
      "Epoch 13/80\n",
      "4000/4000 [==============================] - 1s 142us/step - loss: 0.5750 - acc: 0.7887 - val_loss: 0.6364 - val_acc: 0.7583\n",
      "Epoch 14/80\n",
      "4000/4000 [==============================] - 1s 146us/step - loss: 0.5520 - acc: 0.7917 - val_loss: 0.6249 - val_acc: 0.7600\n",
      "Epoch 15/80\n",
      "4000/4000 [==============================] - 1s 165us/step - loss: 0.5434 - acc: 0.8025 - val_loss: 0.6427 - val_acc: 0.7508\n",
      "Epoch 16/80\n",
      "4000/4000 [==============================] - 1s 156us/step - loss: 0.5192 - acc: 0.8190 - val_loss: 0.5979 - val_acc: 0.7767\n",
      "Epoch 17/80\n",
      "4000/4000 [==============================] - 1s 178us/step - loss: 0.5052 - acc: 0.8230 - val_loss: 0.5868 - val_acc: 0.7825\n",
      "Epoch 18/80\n",
      "4000/4000 [==============================] - 1s 185us/step - loss: 0.4860 - acc: 0.8280 - val_loss: 0.6017 - val_acc: 0.7733\n",
      "Epoch 19/80\n",
      "4000/4000 [==============================] - 1s 152us/step - loss: 0.4723 - acc: 0.8365 - val_loss: 0.6281 - val_acc: 0.7483\n",
      "Epoch 20/80\n",
      "4000/4000 [==============================] - 1s 153us/step - loss: 0.4595 - acc: 0.8430 - val_loss: 0.5945 - val_acc: 0.7692\n",
      "Epoch 21/80\n",
      "4000/4000 [==============================] - 1s 151us/step - loss: 0.4388 - acc: 0.8512 - val_loss: 0.5834 - val_acc: 0.7767\n",
      "Epoch 22/80\n",
      "4000/4000 [==============================] - 1s 148us/step - loss: 0.4295 - acc: 0.8552 - val_loss: 0.6249 - val_acc: 0.7458\n",
      "Epoch 23/80\n",
      "4000/4000 [==============================] - 1s 146us/step - loss: 0.4186 - acc: 0.8598 - val_loss: 0.5531 - val_acc: 0.7950\n",
      "Epoch 24/80\n",
      "4000/4000 [==============================] - 1s 146us/step - loss: 0.4086 - acc: 0.8653 - val_loss: 0.5525 - val_acc: 0.7892\n",
      "Epoch 25/80\n",
      "4000/4000 [==============================] - 1s 165us/step - loss: 0.3987 - acc: 0.8690 - val_loss: 0.5417 - val_acc: 0.7992\n",
      "Epoch 26/80\n",
      "4000/4000 [==============================] - 1s 159us/step - loss: 0.3906 - acc: 0.8728 - val_loss: 0.5363 - val_acc: 0.8008\n",
      "Epoch 27/80\n",
      "4000/4000 [==============================] - 1s 150us/step - loss: 0.3745 - acc: 0.8772 - val_loss: 0.5322 - val_acc: 0.8008\n",
      "Epoch 28/80\n",
      "4000/4000 [==============================] - 1s 153us/step - loss: 0.3622 - acc: 0.8865 - val_loss: 0.5341 - val_acc: 0.7958\n",
      "Epoch 29/80\n",
      "4000/4000 [==============================] - 1s 153us/step - loss: 0.3544 - acc: 0.8918 - val_loss: 0.5267 - val_acc: 0.7950\n",
      "Epoch 30/80\n",
      "4000/4000 [==============================] - 1s 161us/step - loss: 0.3426 - acc: 0.8950 - val_loss: 0.5246 - val_acc: 0.8050\n",
      "Epoch 31/80\n",
      "4000/4000 [==============================] - 1s 172us/step - loss: 0.3343 - acc: 0.8932 - val_loss: 0.5305 - val_acc: 0.7883\n",
      "Epoch 32/80\n",
      "4000/4000 [==============================] - 1s 175us/step - loss: 0.3224 - acc: 0.9035 - val_loss: 0.5214 - val_acc: 0.7975\n",
      "Epoch 33/80\n",
      "4000/4000 [==============================] - 1s 145us/step - loss: 0.3181 - acc: 0.9062 - val_loss: 0.5144 - val_acc: 0.8025\n",
      "Epoch 34/80\n",
      "4000/4000 [==============================] - 1s 144us/step - loss: 0.3140 - acc: 0.9080 - val_loss: 0.5213 - val_acc: 0.7983\n",
      "Epoch 35/80\n",
      "4000/4000 [==============================] - 1s 165us/step - loss: 0.3092 - acc: 0.9057 - val_loss: 0.5163 - val_acc: 0.8008\n",
      "Epoch 36/80\n",
      "4000/4000 [==============================] - 1s 161us/step - loss: 0.2997 - acc: 0.9110 - val_loss: 0.5464 - val_acc: 0.7842\n",
      "Epoch 37/80\n",
      "4000/4000 [==============================] - 1s 142us/step - loss: 0.2923 - acc: 0.9153 - val_loss: 0.5184 - val_acc: 0.7958\n",
      "Epoch 38/80\n",
      "4000/4000 [==============================] - 1s 152us/step - loss: 0.2814 - acc: 0.9193 - val_loss: 0.5174 - val_acc: 0.8025\n",
      "Epoch 39/80\n",
      "4000/4000 [==============================] - 1s 161us/step - loss: 0.2742 - acc: 0.9203 - val_loss: 0.5058 - val_acc: 0.8033\n",
      "Epoch 40/80\n",
      "4000/4000 [==============================] - 1s 148us/step - loss: 0.2709 - acc: 0.9237 - val_loss: 0.5033 - val_acc: 0.8058\n",
      "Epoch 41/80\n",
      "4000/4000 [==============================] - 1s 143us/step - loss: 0.2658 - acc: 0.9265 - val_loss: 0.5129 - val_acc: 0.8017\n",
      "Epoch 42/80\n",
      "4000/4000 [==============================] - 1s 144us/step - loss: 0.2545 - acc: 0.9300 - val_loss: 0.5084 - val_acc: 0.8083\n",
      "Epoch 43/80\n",
      "4000/4000 [==============================] - 1s 164us/step - loss: 0.2502 - acc: 0.9327 - val_loss: 0.5091 - val_acc: 0.8017\n",
      "Epoch 44/80\n",
      "4000/4000 [==============================] - 1s 137us/step - loss: 0.2437 - acc: 0.9390 - val_loss: 0.4951 - val_acc: 0.8083\n",
      "Epoch 45/80\n",
      "4000/4000 [==============================] - 1s 149us/step - loss: 0.2392 - acc: 0.9340 - val_loss: 0.4975 - val_acc: 0.8100\n",
      "Epoch 46/80\n",
      "4000/4000 [==============================] - 1s 149us/step - loss: 0.2315 - acc: 0.9400 - val_loss: 0.5129 - val_acc: 0.8000\n",
      "Epoch 47/80\n",
      "4000/4000 [==============================] - 1s 145us/step - loss: 0.2269 - acc: 0.9403 - val_loss: 0.4940 - val_acc: 0.8117\n",
      "Epoch 48/80\n",
      "4000/4000 [==============================] - 1s 135us/step - loss: 0.2204 - acc: 0.9427 - val_loss: 0.5546 - val_acc: 0.7883\n",
      "Epoch 49/80\n",
      "4000/4000 [==============================] - 1s 147us/step - loss: 0.2142 - acc: 0.9493 - val_loss: 0.5032 - val_acc: 0.8100\n",
      "Epoch 50/80\n",
      "4000/4000 [==============================] - 1s 157us/step - loss: 0.2157 - acc: 0.9423 - val_loss: 0.4896 - val_acc: 0.8183\n",
      "Epoch 51/80\n",
      "4000/4000 [==============================] - 1s 153us/step - loss: 0.2056 - acc: 0.9453 - val_loss: 0.5124 - val_acc: 0.8075\n",
      "Epoch 52/80\n",
      "4000/4000 [==============================] - 1s 154us/step - loss: 0.2037 - acc: 0.9502 - val_loss: 0.4941 - val_acc: 0.8117\n",
      "Epoch 53/80\n",
      "4000/4000 [==============================] - 1s 172us/step - loss: 0.2010 - acc: 0.9513 - val_loss: 0.4909 - val_acc: 0.8125\n",
      "Epoch 54/80\n",
      "4000/4000 [==============================] - 1s 170us/step - loss: 0.1922 - acc: 0.9540 - val_loss: 0.4947 - val_acc: 0.8150\n",
      "Epoch 55/80\n",
      "4000/4000 [==============================] - 1s 145us/step - loss: 0.1870 - acc: 0.9562 - val_loss: 0.5279 - val_acc: 0.7942\n",
      "Epoch 56/80\n",
      "4000/4000 [==============================] - 1s 156us/step - loss: 0.1833 - acc: 0.9535 - val_loss: 0.5021 - val_acc: 0.8058\n",
      "Epoch 57/80\n",
      "4000/4000 [==============================] - 1s 172us/step - loss: 0.1803 - acc: 0.9592 - val_loss: 0.5064 - val_acc: 0.8067\n",
      "Epoch 58/80\n",
      "4000/4000 [==============================] - 1s 153us/step - loss: 0.1746 - acc: 0.9620 - val_loss: 0.5014 - val_acc: 0.8092\n",
      "Epoch 59/80\n",
      "4000/4000 [==============================] - 1s 159us/step - loss: 0.1743 - acc: 0.9603 - val_loss: 0.4915 - val_acc: 0.8092\n",
      "Epoch 60/80\n",
      "4000/4000 [==============================] - 1s 166us/step - loss: 0.1667 - acc: 0.9635 - val_loss: 0.4919 - val_acc: 0.8058\n",
      "Epoch 61/80\n",
      "4000/4000 [==============================] - 1s 149us/step - loss: 0.1644 - acc: 0.9655 - val_loss: 0.5028 - val_acc: 0.8050\n",
      "Epoch 62/80\n",
      "4000/4000 [==============================] - 1s 135us/step - loss: 0.1596 - acc: 0.9625 - val_loss: 0.5150 - val_acc: 0.8058\n",
      "Epoch 63/80\n",
      "4000/4000 [==============================] - 1s 138us/step - loss: 0.1529 - acc: 0.9695 - val_loss: 0.4842 - val_acc: 0.8108\n",
      "Epoch 64/80\n",
      "4000/4000 [==============================] - 1s 150us/step - loss: 0.1508 - acc: 0.9655 - val_loss: 0.5141 - val_acc: 0.8033\n",
      "Epoch 65/80\n",
      "4000/4000 [==============================] - 1s 153us/step - loss: 0.1465 - acc: 0.9682 - val_loss: 0.4900 - val_acc: 0.8133\n",
      "Epoch 66/80\n",
      "4000/4000 [==============================] - 1s 154us/step - loss: 0.1463 - acc: 0.9702 - val_loss: 0.5152 - val_acc: 0.8008\n",
      "Epoch 67/80\n",
      "4000/4000 [==============================] - 1s 149us/step - loss: 0.1434 - acc: 0.9675 - val_loss: 0.4900 - val_acc: 0.8108\n",
      "Epoch 68/80\n",
      "4000/4000 [==============================] - 1s 159us/step - loss: 0.1341 - acc: 0.9765 - val_loss: 0.5014 - val_acc: 0.8083\n",
      "Epoch 69/80\n",
      "4000/4000 [==============================] - 1s 136us/step - loss: 0.1339 - acc: 0.9715 - val_loss: 0.4969 - val_acc: 0.8083\n",
      "Epoch 70/80\n",
      "4000/4000 [==============================] - 1s 140us/step - loss: 0.1329 - acc: 0.9758 - val_loss: 0.5199 - val_acc: 0.8008\n",
      "Epoch 71/80\n",
      "4000/4000 [==============================] - 1s 154us/step - loss: 0.1282 - acc: 0.9735 - val_loss: 0.4956 - val_acc: 0.8133\n",
      "Epoch 72/80\n",
      "4000/4000 [==============================] - 1s 158us/step - loss: 0.1263 - acc: 0.9790 - val_loss: 0.4918 - val_acc: 0.8133\n",
      "Epoch 73/80\n",
      "4000/4000 [==============================] - 1s 126us/step - loss: 0.1201 - acc: 0.9785 - val_loss: 0.4890 - val_acc: 0.8125\n",
      "Epoch 74/80\n",
      "4000/4000 [==============================] - 1s 131us/step - loss: 0.1195 - acc: 0.9795 - val_loss: 0.5189 - val_acc: 0.8058\n",
      "Epoch 75/80\n",
      "4000/4000 [==============================] - 1s 156us/step - loss: 0.1191 - acc: 0.9785 - val_loss: 0.5078 - val_acc: 0.8008\n",
      "Epoch 76/80\n",
      "4000/4000 [==============================] - 1s 153us/step - loss: 0.1118 - acc: 0.9780 - val_loss: 0.4970 - val_acc: 0.8150\n",
      "Epoch 77/80\n",
      "4000/4000 [==============================] - 1s 150us/step - loss: 0.1100 - acc: 0.9808 - val_loss: 0.5017 - val_acc: 0.8083\n",
      "Epoch 78/80\n",
      "4000/4000 [==============================] - 1s 164us/step - loss: 0.1055 - acc: 0.9852 - val_loss: 0.4927 - val_acc: 0.8117\n",
      "Epoch 79/80\n",
      "4000/4000 [==============================] - 1s 163us/step - loss: 0.1095 - acc: 0.9790 - val_loss: 0.5027 - val_acc: 0.8108\n",
      "Epoch 80/80\n",
      "4000/4000 [==============================] - 1s 136us/step - loss: 0.1015 - acc: 0.9830 - val_loss: 0.5033 - val_acc: 0.8100\n"
     ]
    }
   ],
   "source": [
    "#Train model\n",
    "history = model.fit(\n",
    "    train_data, \n",
    "    train_labels,\n",
    "    epochs=epochs,  \n",
    "    batch_size=batch_size, \n",
    "    validation_data=(validation_data, validation_labels))\n"
   ]
  },
  {
   "cell_type": "code",
   "execution_count": 7,
   "metadata": {
    "collapsed": true
   },
   "outputs": [],
   "source": [
    "# h5py \n",
    "model.save_weights('VGG/VGG16_FE_model_1.h5')\n"
   ]
  },
  {
   "cell_type": "code",
   "execution_count": 8,
   "metadata": {
    "collapsed": true
   },
   "outputs": [],
   "source": [
    "def print_graphics (history):\n",
    "    #Mostramos otro tipo de grafico\n",
    "    acc = history.history['acc']\n",
    "    val_acc = history.history['val_acc']\n",
    "    loss = history.history['loss']\n",
    "    val_loss = history.history['val_loss']\n",
    "\n",
    "    epochs = range(1, len(acc)+ 1)\n",
    "\n",
    "    plt.plot(epochs, acc, 'bo', label='Training acc')\n",
    "    plt.plot(epochs, val_acc, 'b', label='Validation acc')\n",
    "    #plt.tittle('Trainning and validation accuracy')\n",
    "    plt.legend()\n",
    "\n",
    "    plt.figure()\n",
    "    plt.plot(epochs, loss, 'bo', label='Training loss')\n",
    "    plt.plot(epochs, val_loss, 'b', label='Validation loss')\n",
    "    #plt.tittle('Trainning and validation loss')\n",
    "    plt.legend()\n",
    "\n",
    "    plt.show()"
   ]
  },
  {
   "cell_type": "code",
   "execution_count": 9,
   "metadata": {
    "collapsed": true
   },
   "outputs": [],
   "source": [
    "def print_evaluate_model(model, history):\n",
    "    #Evaluate model\n",
    "    (loss, acc) = model.evaluate(\n",
    "        test_features, test_labels, \n",
    "        batch_size=batch_size, \n",
    "        verbose=0)\n",
    "\n",
    "    print(\"acc: {0:.2f}% - loss: {1:f}\".format(acc * 100, loss))"
   ]
  },
  {
   "cell_type": "code",
   "execution_count": 10,
   "metadata": {},
   "outputs": [
    {
     "name": "stdout",
     "output_type": "stream",
     "text": [
      "acc: 79.17% - loss: 0.565496\n"
     ]
    }
   ],
   "source": [
    "print_evaluate_model(model, history)"
   ]
  },
  {
   "cell_type": "code",
   "execution_count": 11,
   "metadata": {},
   "outputs": [
    {
     "data": {
      "image/png": "[encoded data removed]",
      "text/plain": [
       "<matplotlib.figure.Figure at 0x7ff54829d0b8>"
      ]
     },
     "metadata": {},
     "output_type": "display_data"
    },
    {
     "data": {
      "image/png": "[encoded data removed]",
      "text/plain": [
       "<matplotlib.figure.Figure at 0x7ff548332fd0>"
      ]
     },
     "metadata": {},
     "output_type": "display_data"
    }
   ],
   "source": [
    "print_graphics (history)"
   ]
  },
  {
   "cell_type": "code",
   "execution_count": null,
   "metadata": {
    "collapsed": true
   },
   "outputs": [],
   "source": []
  }
 ],
 "metadata": {
  "kernelspec": {
   "display_name": "Python 3",
   "language": "python",
   "name": "python3"
  },
  "language_info": {
   "codemirror_mode": {
    "name": "ipython",
    "version": 3
   },
   "file_extension": ".py",
   "mimetype": "text/x-python",
   "name": "python",
   "nbconvert_exporter": "python",
   "pygments_lexer": "ipython3",
   "version": "3.6.3"
  }
 },
 "nbformat": 4,
 "nbformat_minor": 2
}
