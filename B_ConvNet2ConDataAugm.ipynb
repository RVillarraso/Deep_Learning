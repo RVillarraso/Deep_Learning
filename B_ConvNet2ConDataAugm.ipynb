{
 "cells": [
  {
   "cell_type": "raw",
   "metadata": {},
   "source": [
    "Entreno de un ConvNet desde cero a partir de un conjunto de datos pequeño\n",
    "Conjunto de datos de 4 clases\n",
    "Utilizaremos un conjunto de datos reducido:\n",
    "- Conjunto de entrenamiento: 1.000 muestras x clase \n",
    "- Conjunto de validación: 300 muestras x clase\n",
    "- Conjunto de test: 300 muestras x clase\n",
    "El conjunto de datos: balanced_dataset + Aumento de datos\n",
    "contiene tres carpetas, train, validation y test, cada una con 4 clases"
   ]
  },
  {
   "cell_type": "code",
   "execution_count": 1,
   "metadata": {
    "collapsed": true
   },
   "outputs": [],
   "source": [
    "import os, shutil\n",
    "from os import walk, getcwd"
   ]
  },
  {
   "cell_type": "code",
   "execution_count": 2,
   "metadata": {
    "collapsed": true
   },
   "outputs": [],
   "source": [
    "# Retorna todos los archivos de un directorio dado\n",
    "def ls(ruta):  \n",
    "    return next(walk(ruta))[2]\n",
    "\n",
    "height_image = 229\n",
    "width_image = 229\n",
    "channels_image = 3\n",
    "nClasses = 4\n",
    "batch_size = 64\n",
    "class_mode = 'categorical'\n",
    "nb_train = 4000        # 1000 x 4 clases\n",
    "nb_validation = 1200   #  300 x 4 clases\n",
    "\n",
    "base_dir = 'balanced_dataset'\n",
    "train_dir = os.path.join(base_dir, 'train')\n",
    "validation_dir = os.path.join(base_dir, 'validation')\n",
    "test_dir = os.path.join(base_dir, 'test')"
   ]
  },
  {
   "cell_type": "code",
   "execution_count": 3,
   "metadata": {},
   "outputs": [
    {
     "name": "stderr",
     "output_type": "stream",
     "text": [
      "/usr/local/lib/python3.5/dist-packages/h5py/__init__.py:36: FutureWarning: Conversion of the second argument of issubdtype from `float` to `np.floating` is deprecated. In future, it will be treated as `np.float64 == np.dtype(float).type`.\n",
      "  from ._conv import register_converters as _register_converters\n",
      "Using TensorFlow backend.\n"
     ]
    }
   ],
   "source": [
    "from keras.models import Sequential\n",
    "from keras.layers import Dense, Conv2D, MaxPooling2D, Dropout, Flatten\n",
    " \n",
    "def createModel(nClasses, height, width, channels):\n",
    "    model = Sequential()\n",
    "    model.add(Conv2D(32, (3, 3), padding='same', activation='relu', input_shape=(height,width,channels)))\n",
    "    model.add(Conv2D(32, (3, 3), activation='relu'))\n",
    "    model.add(MaxPooling2D(pool_size=(2, 2)))\n",
    "    model.add(Dropout(0.25))\n",
    " \n",
    "    model.add(Conv2D(64, (3, 3), padding='same', activation='relu'))\n",
    "    model.add(Conv2D(64, (3, 3), activation='relu'))\n",
    "    model.add(MaxPooling2D(pool_size=(2, 2)))\n",
    "    model.add(Dropout(0.25))\n",
    " \n",
    "    model.add(Conv2D(64, (3, 3), padding='same', activation='relu'))\n",
    "    model.add(Conv2D(64, (3, 3), activation='relu'))\n",
    "    model.add(MaxPooling2D(pool_size=(2, 2)))\n",
    "    model.add(Dropout(0.25))\n",
    " \n",
    "    model.add(Flatten())\n",
    "    model.add(Dense(512, activation='relu'))\n",
    "    model.add(Dropout(0.5))\n",
    "    model.add(Dense(nClasses, activation='softmax'))\n",
    "     \n",
    "    return model"
   ]
  },
  {
   "cell_type": "raw",
   "metadata": {},
   "source": [
    "Creamos un modelo sencillo ConvNet para pocos datos"
   ]
  },
  {
   "cell_type": "code",
   "execution_count": 4,
   "metadata": {},
   "outputs": [
    {
     "name": "stdout",
     "output_type": "stream",
     "text": [
      "_________________________________________________________________\n",
      "Layer (type)                 Output Shape              Param #   \n",
      "=================================================================\n",
      "conv2d_1 (Conv2D)            (None, 229, 229, 32)      896       \n",
      "_________________________________________________________________\n",
      "conv2d_2 (Conv2D)            (None, 227, 227, 32)      9248      \n",
      "_________________________________________________________________\n",
      "max_pooling2d_1 (MaxPooling2 (None, 113, 113, 32)      0         \n",
      "_________________________________________________________________\n",
      "dropout_1 (Dropout)          (None, 113, 113, 32)      0         \n",
      "_________________________________________________________________\n",
      "conv2d_3 (Conv2D)            (None, 113, 113, 64)      18496     \n",
      "_________________________________________________________________\n",
      "conv2d_4 (Conv2D)            (None, 111, 111, 64)      36928     \n",
      "_________________________________________________________________\n",
      "max_pooling2d_2 (MaxPooling2 (None, 55, 55, 64)        0         \n",
      "_________________________________________________________________\n",
      "dropout_2 (Dropout)          (None, 55, 55, 64)        0         \n",
      "_________________________________________________________________\n",
      "conv2d_5 (Conv2D)            (None, 55, 55, 64)        36928     \n",
      "_________________________________________________________________\n",
      "conv2d_6 (Conv2D)            (None, 53, 53, 64)        36928     \n",
      "_________________________________________________________________\n",
      "max_pooling2d_3 (MaxPooling2 (None, 26, 26, 64)        0         \n",
      "_________________________________________________________________\n",
      "dropout_3 (Dropout)          (None, 26, 26, 64)        0         \n",
      "_________________________________________________________________\n",
      "flatten_1 (Flatten)          (None, 43264)             0         \n",
      "_________________________________________________________________\n",
      "dense_1 (Dense)              (None, 512)               22151680  \n",
      "_________________________________________________________________\n",
      "dropout_4 (Dropout)          (None, 512)               0         \n",
      "_________________________________________________________________\n",
      "dense_2 (Dense)              (None, 4)                 2052      \n",
      "=================================================================\n",
      "Total params: 22,293,156\n",
      "Trainable params: 22,293,156\n",
      "Non-trainable params: 0\n",
      "_________________________________________________________________\n"
     ]
    }
   ],
   "source": [
    "#Creamos un modelo sencillo ConvNet para pocos datos\n",
    "model = createModel(nClasses, height_image, width_image, channels_image )\n",
    "model.summary()"
   ]
  },
  {
   "cell_type": "raw",
   "metadata": {},
   "source": [
    "#Preprocesado de datos + Data Augmentation:\n",
    "1. leer los archivos de imagen\n",
    "2. decodificar el contenido JPEG a matrices de píxeles RGB\n",
    "3. Convertir los tensores a coma flotante\n",
    "4. Escalar los valores de píxel (0-255) al intervalo (0-1)\n",
    "Generaremos 40 muestras por lote, que al entrenar con 100 epocas 40*100 = 4000,\n",
    "podremos recorrer todas las muestras 1000 x clase\n",
    "NO aplicamos Data Augmentation"
   ]
  },
  {
   "cell_type": "code",
   "execution_count": 5,
   "metadata": {
    "collapsed": true
   },
   "outputs": [],
   "source": [
    "#DATA AUGMENTATION\n",
    "#Transformador de imágenes de forma aleatoria SOLO A TRAIN\n",
    "from keras.preprocessing.image import ImageDataGenerator\n",
    "train_datagen = ImageDataGenerator(\n",
    "    rescale = 1./255,              #Normalizamos el valor de pixel\n",
    "    rotation_range = 40,          #rotamos imagne 40 grados\n",
    "    width_shift_range =0.2,       #aplica una fracción del ancho de la imagen orig\n",
    "    height_shift_range =0.2,      #aplica una fracción del alto de la imagen orig\n",
    "    shear_range = 0.2,            #aplica al azar operaciones de corte\n",
    "    zoom_range = 0.2,             #aplica zoom aleatorio dentro de las imagenes\n",
    "    horizontal_flip = True,       #invierte aleatoriamente la mitad de las imágenes\n",
    "    fill_mode = 'nearest') "
   ]
  },
  {
   "cell_type": "code",
   "execution_count": 6,
   "metadata": {},
   "outputs": [
    {
     "name": "stdout",
     "output_type": "stream",
     "text": [
      "Found 4000 images belonging to 4 classes.\n",
      "Found 1200 images belonging to 4 classes.\n",
      "Found 1200 images belonging to 4 classes.\n"
     ]
    }
   ],
   "source": [
    "#PREPROCESO\n",
    "from keras.preprocessing.image import ImageDataGenerator\n",
    "\n",
    "from keras.preprocessing import image\n",
    "import matplotlib.pyplot as plt\n",
    "\n",
    "#train_datagen = ImageDataGenerator(rescale = 1./255)\n",
    "test_datagen = ImageDataGenerator(rescale = 1./255)\n",
    "\n",
    "train_generator = train_datagen.flow_from_directory(\n",
    "    train_dir,\n",
    "    target_size = (height_image, width_image),\n",
    "    batch_size = batch_size, \n",
    "    class_mode = 'categorical')\n",
    "\n",
    "validation_generator = test_datagen.flow_from_directory(\n",
    "    validation_dir,\n",
    "    target_size = (height_image, width_image),\n",
    "    batch_size = batch_size, \n",
    "    class_mode = 'categorical')\n",
    "\n",
    "test_generator = test_datagen.flow_from_directory(\n",
    "    test_dir,\n",
    "    target_size = (height_image, width_image),\n",
    "    batch_size = batch_size,\n",
    "    class_mode = 'categorical')\n"
   ]
  },
  {
   "cell_type": "code",
   "execution_count": 8,
   "metadata": {},
   "outputs": [
    {
     "name": "stdout",
     "output_type": "stream",
     "text": [
      "Epoch 1/30\n",
      "62/62 [==============================] - 70s 1s/step - loss: 1.5215 - acc: 0.2490 - val_loss: 1.3863 - val_acc: 0.2535\n",
      "Epoch 2/30\n",
      "62/62 [==============================] - 68s 1s/step - loss: 1.3897 - acc: 0.2467 - val_loss: 1.3889 - val_acc: 0.2439\n",
      "Epoch 3/30\n",
      "62/62 [==============================] - 68s 1s/step - loss: 1.3871 - acc: 0.2399 - val_loss: 1.3863 - val_acc: 0.2491\n",
      "Epoch 4/30\n",
      "62/62 [==============================] - 68s 1s/step - loss: 1.4142 - acc: 0.2440 - val_loss: 1.3821 - val_acc: 0.3134\n",
      "Epoch 5/30\n",
      "62/62 [==============================] - 67s 1s/step - loss: 1.3645 - acc: 0.3392 - val_loss: 1.4864 - val_acc: 0.3585\n",
      "Epoch 6/30\n",
      "62/62 [==============================] - 66s 1s/step - loss: 1.3044 - acc: 0.3833 - val_loss: 1.2693 - val_acc: 0.4210\n",
      "Epoch 7/30\n",
      "62/62 [==============================] - 65s 1s/step - loss: 1.2783 - acc: 0.3954 - val_loss: 1.2488 - val_acc: 0.4418\n",
      "Epoch 8/30\n",
      "62/62 [==============================] - 65s 1s/step - loss: 1.2564 - acc: 0.4120 - val_loss: 1.2119 - val_acc: 0.4418\n",
      "Epoch 9/30\n",
      "62/62 [==============================] - 63s 1s/step - loss: 1.2385 - acc: 0.4161 - val_loss: 1.2100 - val_acc: 0.4306\n",
      "Epoch 10/30\n",
      "62/62 [==============================] - 63s 1s/step - loss: 1.2252 - acc: 0.4236 - val_loss: 1.2463 - val_acc: 0.4106\n",
      "Epoch 11/30\n",
      "62/62 [==============================] - 62s 995ms/step - loss: 1.2295 - acc: 0.4216 - val_loss: 1.1816 - val_acc: 0.4861\n",
      "Epoch 12/30\n",
      "62/62 [==============================] - 62s 1s/step - loss: 1.1988 - acc: 0.4657 - val_loss: 1.1572 - val_acc: 0.4809\n",
      "Epoch 13/30\n",
      "62/62 [==============================] - 61s 987ms/step - loss: 1.3254 - acc: 0.4841 - val_loss: 1.0783 - val_acc: 0.5278\n",
      "Epoch 14/30\n",
      "62/62 [==============================] - 62s 1s/step - loss: 1.0992 - acc: 0.4937 - val_loss: 1.0750 - val_acc: 0.4922\n",
      "Epoch 15/30\n",
      "62/62 [==============================] - 61s 990ms/step - loss: 1.0761 - acc: 0.5038 - val_loss: 0.9873 - val_acc: 0.5634\n",
      "Epoch 16/30\n",
      "62/62 [==============================] - 62s 1s/step - loss: 1.0850 - acc: 0.5207 - val_loss: 0.9498 - val_acc: 0.5868\n",
      "Epoch 17/30\n",
      "62/62 [==============================] - 61s 987ms/step - loss: 1.0152 - acc: 0.5464 - val_loss: 0.9790 - val_acc: 0.5564\n",
      "Epoch 18/30\n",
      "62/62 [==============================] - 61s 988ms/step - loss: 0.9932 - acc: 0.5617 - val_loss: 0.9581 - val_acc: 0.5816\n",
      "Epoch 19/30\n",
      "62/62 [==============================] - 61s 989ms/step - loss: 0.9640 - acc: 0.5693 - val_loss: 0.9014 - val_acc: 0.5990\n",
      "Epoch 20/30\n",
      "62/62 [==============================] - 62s 998ms/step - loss: 0.9304 - acc: 0.6016 - val_loss: 0.8321 - val_acc: 0.6580\n",
      "Epoch 21/30\n",
      "62/62 [==============================] - 62s 1s/step - loss: 0.9300 - acc: 0.6127 - val_loss: 0.7260 - val_acc: 0.7066\n",
      "Epoch 22/30\n",
      "62/62 [==============================] - 61s 991ms/step - loss: 1.0193 - acc: 0.6021 - val_loss: 0.9119 - val_acc: 0.5859\n",
      "Epoch 23/30\n",
      "62/62 [==============================] - 62s 992ms/step - loss: 0.8637 - acc: 0.6411 - val_loss: 0.7891 - val_acc: 0.6727\n",
      "Epoch 24/30\n",
      "62/62 [==============================] - 61s 984ms/step - loss: 0.8700 - acc: 0.6371 - val_loss: 0.7537 - val_acc: 0.6875\n",
      "Epoch 25/30\n",
      "62/62 [==============================] - 61s 990ms/step - loss: 0.9437 - acc: 0.6336 - val_loss: 0.8035 - val_acc: 0.6918\n",
      "Epoch 26/30\n",
      "62/62 [==============================] - 62s 1s/step - loss: 0.8214 - acc: 0.6704 - val_loss: 0.7004 - val_acc: 0.7326\n",
      "Epoch 27/30\n",
      "62/62 [==============================] - 62s 993ms/step - loss: 0.9133 - acc: 0.6638 - val_loss: 0.6774 - val_acc: 0.7361\n",
      "Epoch 28/30\n",
      "62/62 [==============================] - 61s 991ms/step - loss: 0.9240 - acc: 0.6890 - val_loss: 0.9176 - val_acc: 0.6484\n",
      "Epoch 29/30\n",
      "62/62 [==============================] - 62s 1s/step - loss: 0.8236 - acc: 0.6729 - val_loss: 0.6687 - val_acc: 0.7309\n",
      "Epoch 30/30\n",
      "62/62 [==============================] - 61s 988ms/step - loss: 0.9410 - acc: 0.6636 - val_loss: 0.7174 - val_acc: 0.6962\n"
     ]
    }
   ],
   "source": [
    "#Compilamos para 100 epocas con optimizador RMSProp\n",
    "from keras import optimizers\n",
    "\n",
    "epochs = 30     #4000 / (Batch_size = 64) = epocas \n",
    "\n",
    "model.compile(\n",
    "    optimizer = 'rmsprop', \n",
    "    loss = 'categorical_crossentropy', \n",
    "    metrics = ['accuracy'])\n",
    "                \n",
    "history = model.fit_generator(\n",
    "    train_generator, \n",
    "    steps_per_epoch = nb_train//batch_size,\n",
    "    epochs = epochs, \n",
    "    verbose = 1, \n",
    "    validation_steps = nb_validation//batch_size,\n",
    "    validation_data = validation_generator )\n",
    " \n",
    "\n",
    "\t"
   ]
  },
  {
   "cell_type": "code",
   "execution_count": 9,
   "metadata": {},
   "outputs": [
    {
     "data": {
      "image/png": "[encoded data removed]",
      "text/plain": [
       "<matplotlib.figure.Figure at 0x7fa4af093b00>"
      ]
     },
     "metadata": {},
     "output_type": "display_data"
    },
    {
     "data": {
      "image/png": "[encoded data removed]",
      "text/plain": [
       "<matplotlib.figure.Figure at 0x7fa4af139400>"
      ]
     },
     "metadata": {},
     "output_type": "display_data"
    }
   ],
   "source": [
    "#Mostramos graficos \n",
    "acc = history.history['acc']\n",
    "val_acc = history.history['val_acc']\n",
    "loss = history.history['loss']\n",
    "val_loss = history.history['val_loss']\n",
    "\n",
    "epochs = range(1, len(acc)+ 1)\n",
    "\n",
    "plt.plot(epochs, acc, 'bo', label='Training acc')\n",
    "plt.plot(epochs, val_acc, 'b', label='Validation acc')\n",
    "#plt.tittle('Trainning and validation accuracy')\n",
    "plt.legend()\n",
    "\n",
    "plt.figure()\n",
    "plt.plot(epochs, loss, 'bo', label='Training loss')\n",
    "plt.plot(epochs, val_loss, 'b', label='Validation loss')\n",
    "#plt.tittle('Trainning and validation loss')\n",
    "plt.legend()\n",
    "\n",
    "plt.show()"
   ]
  },
  {
   "cell_type": "code",
   "execution_count": 10,
   "metadata": {},
   "outputs": [
    {
     "data": {
      "text/plain": [
       "[0.7144767196973165, 0.6975000007947286]"
      ]
     },
     "execution_count": 10,
     "metadata": {},
     "output_type": "execute_result"
    }
   ],
   "source": [
    "model.evaluate_generator(test_generator)"
   ]
  },
  {
   "cell_type": "code",
   "execution_count": 11,
   "metadata": {
    "collapsed": true
   },
   "outputs": [],
   "source": [
    "model.save('ConvNet_RMSprop_2.h5')"
   ]
  },
  {
   "cell_type": "code",
   "execution_count": 12,
   "metadata": {},
   "outputs": [
    {
     "name": "stdout",
     "output_type": "stream",
     "text": [
      "WARNING:tensorflow:Variable *= will be deprecated. Use variable.assign_mul if you want assignment to the variable value or 'x = x * y' if you want a new python Tensor object.\n",
      "Epoch 1/30\n",
      "62/62 [==============================] - 70s 1s/step - loss: 11.7127 - acc: 0.2596 - val_loss: 12.0326 - val_acc: 0.2535\n",
      "Epoch 2/30\n",
      "62/62 [==============================] - 69s 1s/step - loss: 12.0926 - acc: 0.2497 - val_loss: 12.0326 - val_acc: 0.2535\n",
      "Epoch 3/30\n",
      "62/62 [==============================] - 68s 1s/step - loss: 12.0641 - acc: 0.2515 - val_loss: 12.0326 - val_acc: 0.2535\n",
      "Epoch 4/30\n",
      "62/62 [==============================] - 68s 1s/step - loss: 12.1169 - acc: 0.2482 - val_loss: 12.0326 - val_acc: 0.2535\n",
      "Epoch 5/30\n",
      "62/62 [==============================] - 67s 1s/step - loss: 12.0562 - acc: 0.2520 - val_loss: 12.0326 - val_acc: 0.2535\n",
      "Epoch 6/30\n",
      "62/62 [==============================] - 66s 1s/step - loss: 12.0845 - acc: 0.2503 - val_loss: 12.0326 - val_acc: 0.2535\n",
      "Epoch 7/30\n",
      "62/62 [==============================] - 65s 1s/step - loss: 12.1293 - acc: 0.2475 - val_loss: 12.0326 - val_acc: 0.2535\n",
      "Epoch 8/30\n",
      "62/62 [==============================] - 65s 1s/step - loss: 11.9830 - acc: 0.2565 - val_loss: 12.0326 - val_acc: 0.2535\n",
      "Epoch 9/30\n",
      "62/62 [==============================] - 64s 1s/step - loss: 12.1658 - acc: 0.2452 - val_loss: 12.0326 - val_acc: 0.2535\n",
      "Epoch 10/30\n",
      "62/62 [==============================] - 62s 1s/step - loss: 12.0072 - acc: 0.2550 - val_loss: 12.0326 - val_acc: 0.2535\n",
      "Epoch 11/30\n",
      "62/62 [==============================] - 62s 996ms/step - loss: 12.0563 - acc: 0.2520 - val_loss: 12.0326 - val_acc: 0.2535\n",
      "Epoch 12/30\n",
      "62/62 [==============================] - 61s 991ms/step - loss: 12.2471 - acc: 0.2402 - val_loss: 12.0326 - val_acc: 0.2535\n",
      "Epoch 13/30\n",
      "62/62 [==============================] - 62s 995ms/step - loss: 12.0922 - acc: 0.2498 - val_loss: 12.0326 - val_acc: 0.2535\n",
      "Epoch 14/30\n",
      "62/62 [==============================] - 61s 991ms/step - loss: 12.1575 - acc: 0.2457 - val_loss: 12.0326 - val_acc: 0.2535\n",
      "Epoch 15/30\n",
      "62/62 [==============================] - 61s 990ms/step - loss: 11.9947 - acc: 0.2558 - val_loss: 12.0326 - val_acc: 0.2535\n",
      "Epoch 16/30\n",
      "62/62 [==============================] - 62s 993ms/step - loss: 12.1005 - acc: 0.2493 - val_loss: 12.0326 - val_acc: 0.2535\n",
      "Epoch 17/30\n",
      "62/62 [==============================] - 62s 998ms/step - loss: 12.0358 - acc: 0.2533 - val_loss: 12.0326 - val_acc: 0.2535\n",
      "Epoch 18/30\n",
      "62/62 [==============================] - 62s 993ms/step - loss: 12.1496 - acc: 0.2462 - val_loss: 12.0326 - val_acc: 0.2535\n",
      "Epoch 19/30\n",
      "62/62 [==============================] - 62s 996ms/step - loss: 12.0478 - acc: 0.2525 - val_loss: 12.0326 - val_acc: 0.2535\n",
      "Epoch 20/30\n",
      "62/62 [==============================] - 61s 990ms/step - loss: 12.1616 - acc: 0.2455 - val_loss: 12.0326 - val_acc: 0.2535\n",
      "Epoch 21/30\n",
      "62/62 [==============================] - 62s 997ms/step - loss: 12.1007 - acc: 0.2492 - val_loss: 12.0326 - val_acc: 0.2535\n",
      "Epoch 22/30\n",
      "62/62 [==============================] - 63s 1s/step - loss: 12.0439 - acc: 0.2528 - val_loss: 12.0326 - val_acc: 0.2535\n",
      "Epoch 23/30\n",
      "62/62 [==============================] - 62s 1s/step - loss: 12.0398 - acc: 0.2530 - val_loss: 12.0326 - val_acc: 0.2535\n",
      "Epoch 24/30\n",
      "62/62 [==============================] - 61s 987ms/step - loss: 12.0601 - acc: 0.2518 - val_loss: 12.0326 - val_acc: 0.2535\n",
      "Epoch 25/30\n",
      "62/62 [==============================] - 62s 1s/step - loss: 12.0561 - acc: 0.2520 - val_loss: 12.0326 - val_acc: 0.2535\n",
      "Epoch 26/30\n",
      "62/62 [==============================] - 62s 992ms/step - loss: 12.2427 - acc: 0.2404 - val_loss: 12.0326 - val_acc: 0.2535\n",
      "Epoch 27/30\n",
      "62/62 [==============================] - 61s 985ms/step - loss: 12.0687 - acc: 0.2512 - val_loss: 12.0326 - val_acc: 0.2535\n",
      "Epoch 28/30\n",
      "62/62 [==============================] - 62s 997ms/step - loss: 12.0480 - acc: 0.2525 - val_loss: 12.0326 - val_acc: 0.2535\n",
      "Epoch 29/30\n",
      "62/62 [==============================] - 62s 995ms/step - loss: 12.1049 - acc: 0.2490 - val_loss: 12.0326 - val_acc: 0.2535\n",
      "Epoch 30/30\n",
      "62/62 [==============================] - 63s 1s/step - loss: 12.1048 - acc: 0.2490 - val_loss: 12.0326 - val_acc: 0.2535\n"
     ]
    }
   ],
   "source": [
    "#Entrenamos el mismo modelo con optimizador SDG, momentum y nesterov\n",
    "\n",
    "#Compilamos para 100 epocas con optimizador RMSProp\n",
    "from keras import optimizers\n",
    "epochs = 30\n",
    "\n",
    "model.compile(\n",
    "    optimizer = optimizers.SGD(lr=0.01, decay=1e-6, momentum=0.9, nesterov=True),\n",
    "    loss ='categorical_crossentropy',\n",
    "    metrics = ['acc'])\n",
    "                \n",
    "history = model.fit_generator(\n",
    "    train_generator, \n",
    "    steps_per_epoch = nb_train//batch_size,\n",
    "    epochs = epochs, \n",
    "    verbose = 1, \n",
    "    validation_steps = nb_validation//batch_size,\n",
    "    validation_data = validation_generator )\n"
   ]
  },
  {
   "cell_type": "code",
   "execution_count": 13,
   "metadata": {},
   "outputs": [
    {
     "data": {
      "image/png": "[encoded data removed]",
      "text/plain": [
       "<matplotlib.figure.Figure at 0x7fa4af4c7358>"
      ]
     },
     "metadata": {},
     "output_type": "display_data"
    },
    {
     "data": {
      "image/png": "[encoded data removed]",
      "text/plain": [
       "<matplotlib.figure.Figure at 0x7fa4af4cd208>"
      ]
     },
     "metadata": {},
     "output_type": "display_data"
    }
   ],
   "source": [
    "#Mostramos otro tipo de grafico\n",
    "acc = history.history['acc']\n",
    "val_acc = history.history['val_acc']\n",
    "loss = history.history['loss']\n",
    "val_loss = history.history['val_loss']\n",
    "\n",
    "epochs = range(1, len(acc)+ 1)\n",
    "\n",
    "plt.plot(epochs, acc, 'bo', label='Training acc')\n",
    "plt.plot(epochs, val_acc, 'b', label='Validation acc')\n",
    "#plt.tittle('Trainning and validation accuracy')\n",
    "plt.legend()\n",
    "\n",
    "plt.figure()\n",
    "plt.plot(epochs, loss, 'bo', label='Training loss')\n",
    "plt.plot(epochs, val_loss, 'b', label='Validation loss')\n",
    "#plt.tittle('Trainning and validation loss')\n",
    "plt.legend()\n",
    "\n",
    "plt.show()"
   ]
  },
  {
   "cell_type": "code",
   "execution_count": 14,
   "metadata": {},
   "outputs": [
    {
     "data": {
      "text/plain": [
       "[12.088571675618489, 0.2500000003973643]"
      ]
     },
     "execution_count": 14,
     "metadata": {},
     "output_type": "execute_result"
    }
   ],
   "source": [
    "model.evaluate_generator(test_generator)"
   ]
  },
  {
   "cell_type": "code",
   "execution_count": 15,
   "metadata": {
    "collapsed": true
   },
   "outputs": [],
   "source": [
    "model.save('ConvNet_SDG_2.h5')"
   ]
  }
 ],
 "metadata": {
  "kernelspec": {
   "display_name": "Python 3",
   "language": "python",
   "name": "python3"
  },
  "language_info": {
   "codemirror_mode": {
    "name": "ipython",
    "version": 3
   },
   "file_extension": ".py",
   "mimetype": "text/x-python",
   "name": "python",
   "nbconvert_exporter": "python",
   "pygments_lexer": "ipython3",
   "version": "3.6.3"
  }
 },
 "nbformat": 4,
 "nbformat_minor": 2
}
